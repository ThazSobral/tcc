{
  "nbformat": 4,
  "nbformat_minor": 0,
  "metadata": {
    "colab": {
      "name": "doc2vec-technique.ipynb",
      "provenance": [],
      "collapsed_sections": [],
      "authorship_tag": "ABX9TyMgHskap66f2XC1kmbU4Ve/",
      "include_colab_link": true
    },
    "kernelspec": {
      "name": "python3",
      "display_name": "Python 3"
    }
  },
  "cells": [
    {
      "cell_type": "markdown",
      "metadata": {
        "id": "view-in-github",
        "colab_type": "text"
      },
      "source": [
        "<a href=\"https://colab.research.google.com/github/ThazSobral/tcc/blob/main/doc2vec_technique.ipynb\" target=\"_parent\"><img src=\"https://colab.research.google.com/assets/colab-badge.svg\" alt=\"Open In Colab\"/></a>"
      ]
    },
    {
      "cell_type": "markdown",
      "metadata": {
        "id": "z5c-euZFAadF"
      },
      "source": [
        "# Técnica de Doc2Vec"
      ]
    },
    {
      "cell_type": "markdown",
      "metadata": {
        "id": "hlSWbYnfd7OQ"
      },
      "source": [
        "by: Barker and Mecleod\n",
        "\n"
      ]
    },
    {
      "cell_type": "markdown",
      "metadata": {
        "id": "qSHeS_xX39BC"
      },
      "source": [
        "## Ajuste"
      ]
    },
    {
      "cell_type": "markdown",
      "metadata": {
        "id": "VK-JUsjhFO42"
      },
      "source": [
        "Primeiramente é necessário ajustar as **confirgurações** e **importar as bibliotecas** e os **dados** e "
      ]
    },
    {
      "cell_type": "code",
      "metadata": {
        "id": "i0bO1_zj5BTZ",
        "outputId": "8d627ad0-4b03-47e9-d1b4-53bfc05c063c",
        "colab": {
          "base_uri": "https://localhost:8080/"
        }
      },
      "source": [
        "# Montando o drive\n",
        "from google.colab import drive\n",
        "drive.mount('/content/drive', force_remount=True)\n",
        "\n",
        "# Importando as bibliotecas\n",
        "import pandas as pd\n",
        "\n",
        "# Importando os dados\n",
        "df = pd.read_csv('/content/drive/My Drive/TCC_Thalles Sobral/2-dados/germany/use-data/adjusted.csv', header=0)\n",
        "# df.head()"
      ],
      "execution_count": 190,
      "outputs": [
        {
          "output_type": "stream",
          "text": [
            "Mounted at /content/drive\n"
          ],
          "name": "stdout"
        }
      ]
    },
    {
      "cell_type": "markdown",
      "metadata": {
        "id": "2WklCL8BM4CA"
      },
      "source": [
        "## Pré-processamento"
      ]
    },
    {
      "cell_type": "code",
      "metadata": {
        "id": "QjS4ERaLN74w",
        "outputId": "ccff8818-7f46-4e44-93dd-39b3ec20dfb1",
        "colab": {
          "base_uri": "https://localhost:8080/",
          "height": 419
        }
      },
      "source": [
        "# remover todas as colunas que não vão ser utilizadas\n",
        "df_selected_columns = df[['tweet', 'flood']]\n",
        "df_selected_columns"
      ],
      "execution_count": 191,
      "outputs": [
        {
          "output_type": "execute_result",
          "data": {
            "text/html": [
              "<div>\n",
              "<style scoped>\n",
              "    .dataframe tbody tr th:only-of-type {\n",
              "        vertical-align: middle;\n",
              "    }\n",
              "\n",
              "    .dataframe tbody tr th {\n",
              "        vertical-align: top;\n",
              "    }\n",
              "\n",
              "    .dataframe thead th {\n",
              "        text-align: right;\n",
              "    }\n",
              "</style>\n",
              "<table border=\"1\" class=\"dataframe\">\n",
              "  <thead>\n",
              "    <tr style=\"text-align: right;\">\n",
              "      <th></th>\n",
              "      <th>tweet</th>\n",
              "      <th>flood</th>\n",
              "    </tr>\n",
              "  </thead>\n",
              "  <tbody>\n",
              "    <tr>\n",
              "      <th>0</th>\n",
              "      <td>irgendjemand hat mir gestern gesagt das er mic...</td>\n",
              "      <td>0</td>\n",
              "    </tr>\n",
              "    <tr>\n",
              "      <th>1</th>\n",
              "      <td>@ho1ger das gleiche bild übrigens im office, w...</td>\n",
              "      <td>0</td>\n",
              "    </tr>\n",
              "    <tr>\n",
              "      <th>2</th>\n",
              "      <td>@sensatzionell bin selbst halber berliner. wen...</td>\n",
              "      <td>0</td>\n",
              "    </tr>\n",
              "    <tr>\n",
              "      <th>3</th>\n",
              "      <td>tired bro??!!! djeeerome @ ice 672 http://t.co...</td>\n",
              "      <td>0</td>\n",
              "    </tr>\n",
              "    <tr>\n",
              "      <th>4</th>\n",
              "      <td>und tschüss! (@ köln bonn airport (cgn) w/ 8 o...</td>\n",
              "      <td>0</td>\n",
              "    </tr>\n",
              "    <tr>\n",
              "      <th>...</th>\n",
              "      <td>...</td>\n",
              "      <td>...</td>\n",
              "    </tr>\n",
              "    <tr>\n",
              "      <th>60519</th>\n",
              "      <td>why am i even still awake #gosh</td>\n",
              "      <td>0</td>\n",
              "    </tr>\n",
              "    <tr>\n",
              "      <th>60520</th>\n",
              "      <td>@doyo_da toll. xd</td>\n",
              "      <td>0</td>\n",
              "    </tr>\n",
              "    <tr>\n",
              "      <th>60521</th>\n",
              "      <td>family portrait! :) @ osteria tarantina http:/...</td>\n",
              "      <td>0</td>\n",
              "    </tr>\n",
              "    <tr>\n",
              "      <th>60522</th>\n",
              "      <td>@j_taekwoon guten tag !!!! 즐거운하루하시구요! 저는이제 자러 ...</td>\n",
              "      <td>0</td>\n",
              "    </tr>\n",
              "    <tr>\n",
              "      <th>60523</th>\n",
              "      <td>@torgator appletv v2 mit jailbreak.</td>\n",
              "      <td>0</td>\n",
              "    </tr>\n",
              "  </tbody>\n",
              "</table>\n",
              "<p>60524 rows × 2 columns</p>\n",
              "</div>"
            ],
            "text/plain": [
              "                                                   tweet  flood\n",
              "0      irgendjemand hat mir gestern gesagt das er mic...      0\n",
              "1      @ho1ger das gleiche bild übrigens im office, w...      0\n",
              "2      @sensatzionell bin selbst halber berliner. wen...      0\n",
              "3      tired bro??!!! djeeerome @ ice 672 http://t.co...      0\n",
              "4      und tschüss! (@ köln bonn airport (cgn) w/ 8 o...      0\n",
              "...                                                  ...    ...\n",
              "60519                    why am i even still awake #gosh      0\n",
              "60520                                  @doyo_da toll. xd      0\n",
              "60521  family portrait! :) @ osteria tarantina http:/...      0\n",
              "60522  @j_taekwoon guten tag !!!! 즐거운하루하시구요! 저는이제 자러 ...      0\n",
              "60523                @torgator appletv v2 mit jailbreak.      0\n",
              "\n",
              "[60524 rows x 2 columns]"
            ]
          },
          "metadata": {
            "tags": []
          },
          "execution_count": 191
        }
      ]
    },
    {
      "cell_type": "code",
      "metadata": {
        "id": "gj9uZsoOM6Ur"
      },
      "source": [
        "def normalize_text(text, nums=True, unicode_replace=False):\n",
        "  #biblioteca regex\n",
        "  import re\n",
        "\n",
        "  # definir regex\n",
        "  remove_ellipsis_re = re.compile(r'[^\\.]\\.{2,3}')\n",
        "  punct_re = re.compile(r\"[\\\"'\\[\\],'#.:;()&!@\\u2026]\")\n",
        "  number_re = re.compile(r'\\d+')\n",
        "  mentions_re = re.compile(r'\\@[a-z|0-9]+')\n",
        "\n",
        "  # deixar todos as letras em minusculas\n",
        "  text = text.lower()\n",
        "  # remover apostrofes\n",
        "  text = text.replace(\"'\",'')\n",
        "\n",
        "  # aplicar regex para remover os valores positivos\n",
        "  text = re.sub(remove_ellipsis_re, '', text)\n",
        "  text = re.sub(punct_re, '', text)\n",
        "  # remover menções\n",
        "  text = re.sub(mentions_re, '', text)\n",
        "\n",
        "  if nums:\n",
        "    text = re.sub(number_re, '', text)\n",
        "\n",
        "  text = ' '.join(text.split())\n",
        "\n",
        "  return text"
      ],
      "execution_count": 192,
      "outputs": []
    },
    {
      "cell_type": "code",
      "metadata": {
        "id": "8yLzmvCEM91o"
      },
      "source": [
        "#dividir tweets por espaços em branco (toketizar)\n",
        "def split_text(text):\n",
        "  text = normalize_text(text)\n",
        "  words = text.split(' ')\n",
        "  return words"
      ],
      "execution_count": 193,
      "outputs": []
    },
    {
      "cell_type": "code",
      "metadata": {
        "id": "7fdwESjQND_d"
      },
      "source": [
        "# manter emojis\n",
        "# não fazer nada aqui"
      ],
      "execution_count": 194,
      "outputs": []
    },
    {
      "cell_type": "markdown",
      "metadata": {
        "id": "THCjrOY17H5A"
      },
      "source": [
        "# TESTE"
      ]
    },
    {
      "cell_type": "code",
      "metadata": {
        "id": "2W-S6HN1T11H",
        "outputId": "5911fbef-ecc3-4e45-c6e7-2b8356abee7c",
        "colab": {
          "base_uri": "https://localhost:8080/",
          "height": 204
        }
      },
      "source": [
        "df['tweet'] = df['tweet'].map(split_text)"
      ],
      "execution_count": 195,
      "outputs": [
        {
          "output_type": "execute_result",
          "data": {
            "text/html": [
              "<div>\n",
              "<style scoped>\n",
              "    .dataframe tbody tr th:only-of-type {\n",
              "        vertical-align: middle;\n",
              "    }\n",
              "\n",
              "    .dataframe tbody tr th {\n",
              "        vertical-align: top;\n",
              "    }\n",
              "\n",
              "    .dataframe thead th {\n",
              "        text-align: right;\n",
              "    }\n",
              "</style>\n",
              "<table border=\"1\" class=\"dataframe\">\n",
              "  <thead>\n",
              "    <tr style=\"text-align: right;\">\n",
              "      <th></th>\n",
              "      <th>Unnamed: 0</th>\n",
              "      <th>hashtags</th>\n",
              "      <th>tweet</th>\n",
              "      <th>created_at</th>\n",
              "      <th>X</th>\n",
              "      <th>Y</th>\n",
              "      <th>distance [m]</th>\n",
              "      <th>sev08</th>\n",
              "      <th>sev09</th>\n",
              "      <th>sev10</th>\n",
              "      <th>flood</th>\n",
              "      <th>relevance</th>\n",
              "      <th>theme</th>\n",
              "    </tr>\n",
              "  </thead>\n",
              "  <tbody>\n",
              "    <tr>\n",
              "      <th>0</th>\n",
              "      <td>0</td>\n",
              "      <td>NaN</td>\n",
              "      <td>[irgendjemand, hat, mir, gestern, gesagt, das,...</td>\n",
              "      <td>2013-06-08 13:33:07+02</td>\n",
              "      <td>429,79</td>\n",
              "      <td>5,915,818</td>\n",
              "      <td>122596</td>\n",
              "      <td>-24</td>\n",
              "      <td>-67</td>\n",
              "      <td>-127</td>\n",
              "      <td>0</td>\n",
              "      <td>0</td>\n",
              "      <td>0</td>\n",
              "    </tr>\n",
              "    <tr>\n",
              "      <th>1</th>\n",
              "      <td>1</td>\n",
              "      <td>NaN</td>\n",
              "      <td>[hoger, das, gleiche, bild, übrigens, im, offi...</td>\n",
              "      <td>2013-06-08 13:33:09+02</td>\n",
              "      <td>708,059</td>\n",
              "      <td>5,342,364</td>\n",
              "      <td>66842</td>\n",
              "      <td>1</td>\n",
              "      <td>-79</td>\n",
              "      <td>-114</td>\n",
              "      <td>0</td>\n",
              "      <td>0</td>\n",
              "      <td>0</td>\n",
              "    </tr>\n",
              "    <tr>\n",
              "      <th>2</th>\n",
              "      <td>2</td>\n",
              "      <td>NaN</td>\n",
              "      <td>[sensatzionell, bin, selbst, halber, berliner,...</td>\n",
              "      <td>2013-06-08 13:33:10+02</td>\n",
              "      <td>797,734</td>\n",
              "      <td>5,829,275</td>\n",
              "      <td>67270</td>\n",
              "      <td>-8</td>\n",
              "      <td>-10</td>\n",
              "      <td>-20</td>\n",
              "      <td>0</td>\n",
              "      <td>0</td>\n",
              "      <td>0</td>\n",
              "    </tr>\n",
              "    <tr>\n",
              "      <th>3</th>\n",
              "      <td>3</td>\n",
              "      <td>NaN</td>\n",
              "      <td>[tired, bro??, djeeerome, ice, http//tco/hthohul]</td>\n",
              "      <td>2013-06-08 13:33:14+02</td>\n",
              "      <td>522,889</td>\n",
              "      <td>5,881,956</td>\n",
              "      <td>33741</td>\n",
              "      <td>-24</td>\n",
              "      <td>-67</td>\n",
              "      <td>-127</td>\n",
              "      <td>0</td>\n",
              "      <td>0</td>\n",
              "      <td>0</td>\n",
              "    </tr>\n",
              "    <tr>\n",
              "      <th>4</th>\n",
              "      <td>4</td>\n",
              "      <td>NaN</td>\n",
              "      <td>[und, tschüss, köln, bonn, airport, cgn, w/, o...</td>\n",
              "      <td>2013-06-08 13:33:14+02</td>\n",
              "      <td>367,861</td>\n",
              "      <td>5,638,052</td>\n",
              "      <td>71798</td>\n",
              "      <td>-54</td>\n",
              "      <td>-105</td>\n",
              "      <td>-161</td>\n",
              "      <td>0</td>\n",
              "      <td>0</td>\n",
              "      <td>0</td>\n",
              "    </tr>\n",
              "  </tbody>\n",
              "</table>\n",
              "</div>"
            ],
            "text/plain": [
              "   Unnamed: 0 hashtags  ... relevance theme\n",
              "0           0      NaN  ...         0     0\n",
              "1           1      NaN  ...         0     0\n",
              "2           2      NaN  ...         0     0\n",
              "3           3      NaN  ...         0     0\n",
              "4           4      NaN  ...         0     0\n",
              "\n",
              "[5 rows x 13 columns]"
            ]
          },
          "metadata": {
            "tags": []
          },
          "execution_count": 195
        }
      ]
    }
  ]
}