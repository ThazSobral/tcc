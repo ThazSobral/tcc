{
  "nbformat": 4,
  "nbformat_minor": 0,
  "metadata": {
    "colab": {
      "name": "analyse-entropy-and-classification",
      "provenance": [],
      "authorship_tag": "ABX9TyNG3pKci4Du70uv2FMG2m+i"
    },
    "kernelspec": {
      "name": "python3",
      "display_name": "Python 3"
    }
  },
  "cells": [
    {
      "cell_type": "code",
      "metadata": {
        "id": "7p-ZvZzymjKM"
      },
      "source": [
        "from google.colab import drive\n",
        "import pandas as pd"
      ],
      "execution_count": null,
      "outputs": []
    },
    {
      "cell_type": "code",
      "metadata": {
        "id": "Bi4bN3dlmwu2"
      },
      "source": [
        "drive.mount('/content/drive', force_remount=True)"
      ],
      "execution_count": null,
      "outputs": []
    },
    {
      "cell_type": "code",
      "metadata": {
        "id": "f8UVx8xMmyzV"
      },
      "source": [
        "df = pd.read_csv('/content/drive/My Drive/TCC_Thalles Sobral/2-dados/germany/use-data/tweets-with-d2v-and-entropy.csv')"
      ],
      "execution_count": null,
      "outputs": []
    },
    {
      "cell_type": "code",
      "metadata": {
        "id": "R6LlnzQFnMoZ"
      },
      "source": [
        "df"
      ],
      "execution_count": null,
      "outputs": []
    },
    {
      "cell_type": "code",
      "metadata": {
        "id": "88y4F1eKnO-j"
      },
      "source": [
        "df.sort_values('entropy', ascending=True)"
      ],
      "execution_count": null,
      "outputs": []
    },
    {
      "cell_type": "code",
      "metadata": {
        "id": "sYcFFdtEnevL"
      },
      "source": [
        "pd.crosstab(pd.cut(df['entropy'], bins=[.0, .1, .2, .3, .4, .5], include_lowest=True), df['d2v_avaliation'])"
      ],
      "execution_count": null,
      "outputs": []
    },
    {
      "cell_type": "code",
      "metadata": {
        "id": "AOpLMpnSqQ3C"
      },
      "source": [
        "df.describe()"
      ],
      "execution_count": null,
      "outputs": []
    }
  ]
}