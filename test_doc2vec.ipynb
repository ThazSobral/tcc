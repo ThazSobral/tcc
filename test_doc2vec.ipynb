{
  "nbformat": 4,
  "nbformat_minor": 0,
  "metadata": {
    "colab": {
      "name": "test-doc2vec.ipynb",
      "provenance": [],
      "collapsed_sections": [
        "OAJrc4DjQmdh",
        "-M0tamiYPG4w",
        "CmchvkZCDNk_",
        "AR9JWbaoPMGp",
        "SkhjQhTy5ZDc",
        "bw_0zOs4bF_5",
        "uH5KS9qwfLCV",
        "JdsRi9KDfoU9",
        "Fw_aSlbsftiq",
        "swAeG26GfyLZ",
        "U0qKCocpf0G0",
        "ZxE7kqpPacay"
      ],
      "authorship_tag": "ABX9TyOC2Ug7qDmfM3wgywpYGBrW",
      "include_colab_link": true
    },
    "kernelspec": {
      "display_name": "Python 3",
      "name": "python3"
    }
  },
  "cells": [
    {
      "cell_type": "markdown",
      "metadata": {
        "id": "view-in-github",
        "colab_type": "text"
      },
      "source": [
        "<a href=\"https://colab.research.google.com/github/ThazSobral/tcc/blob/main/test_doc2vec.ipynb\" target=\"_parent\"><img src=\"https://colab.research.google.com/assets/colab-badge.svg\" alt=\"Open In Colab\"/></a>"
      ]
    },
    {
      "cell_type": "markdown",
      "metadata": {
        "id": "LGvVeGgVOwNN"
      },
      "source": [
        "## Bibliotecas"
      ]
    },
    {
      "cell_type": "code",
      "metadata": {
        "id": "veldBNVVPct9"
      },
      "source": [
        "# dataframe\n",
        "import pandas as pd\n",
        "from sklearn.model_selection import train_test_split\n",
        "\n",
        "# utils\n",
        "import re\n",
        "import numpy as np\n",
        "import multiprocessing\n",
        "\n",
        "import statsmodels.api as sm\n",
        "\n",
        "# doc2vec\n",
        "from gensim.models import doc2vec\n",
        "from gensim.models.doc2vec import Doc2Vec, TaggedDocument\n",
        "\n",
        "# classificação\n",
        "from sklearn.linear_model import LogisticRegression\n",
        "from sklearn.svm import SVC\n",
        "from sklearn.ensemble import RandomForestClassifier\n",
        "\n",
        "# avaliação\n",
        "from sklearn.metrics import accuracy_score, f1_score, confusion_matrix, classification_report"
      ],
      "execution_count": 171,
      "outputs": []
    },
    {
      "cell_type": "code",
      "metadata": {
        "id": "CHjKx3AiR8El",
        "outputId": "ef5d1b7c-3038-48b3-a85a-8e9a070d0670",
        "colab": {
          "base_uri": "https://localhost:8080/"
        }
      },
      "source": [
        "from google.colab import drive\n",
        "drive.mount('/content/drive', force_remount=True)"
      ],
      "execution_count": 172,
      "outputs": [
        {
          "output_type": "stream",
          "text": [
            "Mounted at /content/drive\n"
          ],
          "name": "stdout"
        }
      ]
    },
    {
      "cell_type": "markdown",
      "metadata": {
        "id": "qLYX_2uzO4c3"
      },
      "source": [
        "## Funções"
      ]
    },
    {
      "cell_type": "markdown",
      "metadata": {
        "id": "OAJrc4DjQmdh"
      },
      "source": [
        "### Dados\n"
      ]
    },
    {
      "cell_type": "code",
      "metadata": {
        "id": "3fmFjKG1SXEe"
      },
      "source": [
        "def read_dataset(path):\n",
        "  return pd.read_csv(path, header=0)"
      ],
      "execution_count": 173,
      "outputs": []
    },
    {
      "cell_type": "code",
      "metadata": {
        "id": "_B8_MmpBQpfI"
      },
      "source": [
        "def build_train_test_data(dataset):\n",
        "\n",
        "  X = dataset[['id_', 'tweet']]\n",
        "  y = dataset[['flood']]\n",
        "\n",
        "  x_train, x_test, y_train, y_test = train_test_split(X, y, test_size=0.1, shuffle=False)\n",
        "\n",
        "  return x_train, x_test, y_train, y_test, X"
      ],
      "execution_count": 174,
      "outputs": []
    },
    {
      "cell_type": "code",
      "metadata": {
        "id": "CjGrBkGXPfW1"
      },
      "source": [
        "def add_column(df, array, column_name):\n",
        "  df[column_name] = array\n",
        "  return df"
      ],
      "execution_count": 175,
      "outputs": []
    },
    {
      "cell_type": "markdown",
      "metadata": {
        "id": "-M0tamiYPG4w"
      },
      "source": [
        "### Doc2Vec"
      ]
    },
    {
      "cell_type": "code",
      "metadata": {
        "id": "240dSub6Pddf"
      },
      "source": [
        "def tagged_tweets_and_create_documents(corpus):\n",
        "\n",
        "  documents = [TaggedDocument(clear_data(corpus.loc[i].tweet), [i]) for i in corpus.id_]\n",
        "\n",
        "  return documents"
      ],
      "execution_count": 176,
      "outputs": []
    },
    {
      "cell_type": "code",
      "metadata": {
        "id": "_4tTT9LrdKVK"
      },
      "source": [
        "def clear_data(text, nums=True):\n",
        "\n",
        "  remove_ellipsis_re = re.compile(r'[^\\.]\\.{2,3}')\n",
        "  punct_re = re.compile(r\"[\\\"'\\[\\],'#.:;()&!@\\u2026]\")\n",
        "  number_re = re.compile(r'\\d+')\n",
        "  # mentions_re = re.compile(r'\\B@[A-z|0-9]+')\n",
        "  mentions_re = re.compile(r'\\B@')\n",
        "  links_re = re.compile(r'(https?:\\/\\/(?:www\\.|(?!www))[a-zA-Z0-9][a-zA-Z0-9-]+[a-zA-Z0-9]\\.[^\\s]{2,}|www\\.[a-zA-Z0-9][a-zA-Z0-9-]+[a-zA-Z0-9]\\.[^\\s]{2,}|https?:\\/\\/(?:www\\.|(?!www))[a-zA-Z0-9]+\\.[^\\s]{2,}|www\\.[a-zA-Z0-9]+\\.[^\\s]{2,})')\n",
        "\n",
        "  text = text.lower()\n",
        "\n",
        "  text = text.replace(\"'\",'')\n",
        "\n",
        "  text = re.sub(links_re, '', text)\n",
        "  text = re.sub(mentions_re, '', text)\n",
        "  text = re.sub(remove_ellipsis_re, '', text)\n",
        "  text = re.sub(punct_re, '', text)\n",
        "\n",
        "  if nums:\n",
        "    text = re.sub(number_re, '', text)\n",
        "\n",
        "  # text = ' '.join(text.split())\n",
        "\n",
        "  return text.split()"
      ],
      "execution_count": 177,
      "outputs": []
    },
    {
      "cell_type": "code",
      "metadata": {
        "id": "1xt3slxsQ0ZL"
      },
      "source": [
        "def create_d2v(documents, vecs, type):\n",
        "  # definir a quantidade de núcleos do processador para paralelizar o processamento\n",
        "  cores = multiprocessing.cpu_count()\n",
        "\n",
        "  # conforme o trabalho original foi selecionado os seguintes parâmentros:\n",
        "  # vetor de 160 dimensões\n",
        "  # janela de 10\n",
        "  # contagem de frequencia mínima igual a 4\n",
        "  # amostra de 1e-4\n",
        "  if type == 'dm':\n",
        "    # criar modelo dm\n",
        "    model = Doc2Vec(vector_size=vecs, window=10, min_count=4, workers=cores, sample=1e-4, dm=1, dm_concat=1)\n",
        "  elif type == 'dbow':\n",
        "    # criar modelo dbow\n",
        "    model = Doc2Vec(vector_size=vecs, window=10, min_count=4, workers=cores, sample=1e-4, dm=0)\n",
        "  else: \n",
        "    print('Invalid type!')\n",
        "\n",
        "  model.build_vocab(documents)\n",
        "  return model"
      ],
      "execution_count": 178,
      "outputs": []
    },
    {
      "cell_type": "code",
      "metadata": {
        "id": "DccCCycAfxM9"
      },
      "source": [
        "def save_model(model, fname):\n",
        "  model.save(fname)"
      ],
      "execution_count": 179,
      "outputs": []
    },
    {
      "cell_type": "code",
      "metadata": {
        "id": "hP2mxF9JQ-Mp"
      },
      "source": [
        "def train_d2v(model, documents, epochs ):\n",
        "  for epoch in range(0, epochs):\n",
        "    print(f'--treinamento na {epoch}ª época--')\n",
        "    # logging.info('Training iteration #{}'.format(epoch))\n",
        "    # random.shuffle(documents)\n",
        "    model.train(documents, total_examples=model.corpus_count, epochs=model.epochs)\n",
        "    # model.alpha -= 0.0002\n",
        "  \n",
        "  return model"
      ],
      "execution_count": 223,
      "outputs": []
    },
    {
      "cell_type": "code",
      "metadata": {
        "id": "1hFRyQ3p6RvH"
      },
      "source": [
        "# def get_vector_d2v(model, data):\n",
        "def get_vector_d2v(model_dm, model_dbow, data):\n",
        "  # return ([list(model.docvecs[id]).sum() for id in range(0, len(data))])\n",
        "  return ( [list(model_dm.docvecs[id]) + list(model_dbow.docvecs[id]) for id in range(0, len(data))])"
      ],
      "execution_count": 181,
      "outputs": []
    },
    {
      "cell_type": "markdown",
      "metadata": {
        "id": "KSfEU4ZXPO9u"
      },
      "source": [
        "### Classificação"
      ]
    },
    {
      "cell_type": "markdown",
      "metadata": {
        "id": "W9RSffgK_Ag3"
      },
      "source": [
        "#### Logistic Regression"
      ]
    },
    {
      "cell_type": "code",
      "metadata": {
        "id": "maRq2tscPd_X"
      },
      "source": [
        "def create_model_logistic_regression(x, y):\n",
        "  model_log = LogisticRegression(C=1200, penalty=='l2', tol=0.0001, n_jobs=-1)\n",
        "  model_log.fit(x, y)\n",
        "\n",
        "  return model_log"
      ],
      "execution_count": 182,
      "outputs": []
    },
    {
      "cell_type": "markdown",
      "metadata": {
        "id": "QLRz3SryZgBD"
      },
      "source": [
        "#### Random Forest"
      ]
    },
    {
      "cell_type": "code",
      "metadata": {
        "id": "xs5RBuqFZkEC"
      },
      "source": [
        "def create_model_random_forest(x, y):\n",
        "  model_rand = RandomForestClassifier(n_estimators=100)\n",
        "  model_rand.fit(x, y)\n",
        "\n",
        "  return model_rand"
      ],
      "execution_count": 183,
      "outputs": []
    },
    {
      "cell_type": "markdown",
      "metadata": {
        "id": "nhrVu7_6hH5r"
      },
      "source": [
        "#### SVC"
      ]
    },
    {
      "cell_type": "code",
      "metadata": {
        "id": "QcgOsJEUhe_H"
      },
      "source": [
        "def create_model_svc(x, y):\n",
        "  model_svc = SVC(C=1200, tol=0.0001)\n",
        "  model_svc.fit(x, y)\n",
        "\n",
        "  return model_svc"
      ],
      "execution_count": 271,
      "outputs": []
    },
    {
      "cell_type": "markdown",
      "metadata": {
        "id": "CmchvkZCDNk_"
      },
      "source": [
        "### Avaliação"
      ]
    },
    {
      "cell_type": "code",
      "metadata": {
        "id": "KKve9IRkDRCD"
      },
      "source": [
        "def predict_tweet(model_dm, model_dbow, model_classifier, text):\n",
        "  # vec = model_d2v.infer_vector(doc_words=text.split(), alpha=0.025, steps=20)\n",
        "  vec_dm = model_dm.infer_vector(doc_words=text.split(), alpha=0.025, steps=20)\n",
        "  vec_dbow = model_dbow.infer_vector(doc_words=text.split(), alpha=0.025, steps=20)\n",
        "\n",
        "  vec = vec_dm + vec_dbow\n",
        "  vec = sm.add_constant(vec)\n",
        "  # print(len(vec))\n",
        "  print(model_classifier.predict(vec.reshape(1, -1)))\n",
        "  if (model_classifier.predict(vec.reshape(1, -1)) == 1):\n",
        "    print('Avaliação positiva!\\n')\n",
        "  else: print('Avaliação negativa\\n')"
      ],
      "execution_count": 185,
      "outputs": []
    },
    {
      "cell_type": "code",
      "metadata": {
        "id": "4Y04QlbNlb6g"
      },
      "source": [
        "def avaliation_classification(model_dm, model_dbow, model_classifier, text, label):\n",
        "  # vec = model_d2v.infer_vector(doc_words=text.split(), alpha=0.025, steps=20)\n",
        "  vec_dm = model_dm.infer_vector(doc_words=text.split(), alpha=0.025, steps=20)\n",
        "  vec_dbow = model_dbow.infer_vector(doc_words=text.split(), alpha=0.025, steps=20)\n",
        "\n",
        "  vec = vec_dm + vec_dbow\n",
        "  vec = sm.add_constant(vec)\n",
        "  if (model_classifier.predict(vec.reshape(1, -1)) == label):\n",
        "    print('right')\n",
        "  else: print('wrong')"
      ],
      "execution_count": 186,
      "outputs": []
    },
    {
      "cell_type": "code",
      "metadata": {
        "id": "DHJqNK4vPwDC"
      },
      "source": [
        "def classifier_test(model, data, label):\n",
        "  predictions = model.predict(data)\n",
        "  print('Testing predicted classes: {}'.format(np.unique(predictions)))\n",
        "  print('Testing accuracy: {}'.format(accuracy_score(label, predictions)))\n",
        "  print('Testing F1 score: {}'.format(f1_score(label, predictions, average='weighted')))"
      ],
      "execution_count": 187,
      "outputs": []
    },
    {
      "cell_type": "code",
      "metadata": {
        "id": "CkhyBJO-RgEB"
      },
      "source": [
        "def confusion_matrix_test(model, data, label):\n",
        "  predictions = model.predict(data)\n",
        "\n",
        "  cm = confusion_matrix(label, predictions)\n",
        "  print(f'''  \n",
        "  verdadeiros negativos: {cm[0,0]}\n",
        "  falsos negativos: {cm[0,1]}\n",
        "  falsos positivos: {cm[1,0]}\n",
        "  verdadeiros positivos: {cm[1,1]}\n",
        "  ''')"
      ],
      "execution_count": 188,
      "outputs": []
    },
    {
      "cell_type": "code",
      "metadata": {
        "id": "JAcHkIMaTOoG"
      },
      "source": [
        "def classification_report_test(model, data, label):\n",
        "  predictions = model.predict(data)\n",
        "\n",
        "  print(classification_report(label, predictions))"
      ],
      "execution_count": 189,
      "outputs": []
    },
    {
      "cell_type": "markdown",
      "metadata": {
        "id": "Krsw2E1xO9R-"
      },
      "source": [
        "## Main"
      ]
    },
    {
      "cell_type": "code",
      "metadata": {
        "id": "KupfXVXLSpx7"
      },
      "source": [
        "df = read_dataset('/content/drive/My Drive/TCC_Thalles Sobral/2-dados/germany/use-data/adjusted.csv')"
      ],
      "execution_count": 190,
      "outputs": []
    },
    {
      "cell_type": "code",
      "metadata": {
        "id": "QiXEtqxlZO8v"
      },
      "source": [
        "df = df.drop(columns='hashtag')"
      ],
      "execution_count": 191,
      "outputs": []
    },
    {
      "cell_type": "code",
      "metadata": {
        "id": "WmwhuUydRf8R"
      },
      "source": [
        "x_train, x_test, y_train, y_test, all_data =  build_train_test_data(df)"
      ],
      "execution_count": 192,
      "outputs": []
    },
    {
      "cell_type": "markdown",
      "metadata": {
        "id": "AR9JWbaoPMGp"
      },
      "source": [
        "### Doc2Vec"
      ]
    },
    {
      "cell_type": "code",
      "metadata": {
        "id": "0luswGuJSEtu"
      },
      "source": [
        "documents = tagged_tweets_and_create_documents(all_data)"
      ],
      "execution_count": 193,
      "outputs": []
    },
    {
      "cell_type": "code",
      "metadata": {
        "id": "xzGVejc-Pell",
        "outputId": "022d4bb5-e63c-47ed-b80c-0ecbd78db956",
        "colab": {
          "base_uri": "https://localhost:8080/"
        }
      },
      "source": [
        "%time model_d2v_dm = create_d2v(documents, 160, 'dm')"
      ],
      "execution_count": 194,
      "outputs": [
        {
          "output_type": "stream",
          "text": [
            "CPU times: user 16.2 s, sys: 118 ms, total: 16.3 s\n",
            "Wall time: 16.4 s\n"
          ],
          "name": "stdout"
        }
      ]
    },
    {
      "cell_type": "code",
      "metadata": {
        "id": "CFk--xuyqjIn",
        "outputId": "795cdee5-c876-44a1-e9c1-b2fd1619c717",
        "colab": {
          "base_uri": "https://localhost:8080/"
        }
      },
      "source": [
        "%time model_d2v_dm = train_d2v(model_d2v_dm, documents, 2) # conforme o trabalho original foi selecionado 24 épocas"
      ],
      "execution_count": 195,
      "outputs": [
        {
          "output_type": "stream",
          "text": [
            "CPU times: user 1min 29s, sys: 2.47 s, total: 1min 31s\n",
            "Wall time: 49.9 s\n"
          ],
          "name": "stdout"
        }
      ]
    },
    {
      "cell_type": "code",
      "metadata": {
        "id": "UhxlYJoxhpxh",
        "outputId": "250f5816-8f95-43d3-f738-70ce8ec249db",
        "colab": {
          "base_uri": "https://localhost:8080/"
        }
      },
      "source": [
        "%time model_d2v_dbow = create_d2v(documents, 160, 'dbow')"
      ],
      "execution_count": 196,
      "outputs": [
        {
          "output_type": "stream",
          "text": [
            "CPU times: user 15 s, sys: 118 ms, total: 15.1 s\n",
            "Wall time: 15.1 s\n"
          ],
          "name": "stdout"
        }
      ]
    },
    {
      "cell_type": "code",
      "metadata": {
        "id": "lBTnyDVDhqSf",
        "outputId": "c33437a0-4b33-4041-fe98-c3d12cc699df",
        "colab": {
          "base_uri": "https://localhost:8080/"
        }
      },
      "source": [
        "%time model_d2v_dbow = train_d2v(model_d2v_dbow, documents, 2) # conforme o trabalho original foi selecionado 24 épocas"
      ],
      "execution_count": 197,
      "outputs": [
        {
          "output_type": "stream",
          "text": [
            "CPU times: user 36.6 s, sys: 5.36 s, total: 41.9 s\n",
            "Wall time: 31.6 s\n"
          ],
          "name": "stdout"
        }
      ]
    },
    {
      "cell_type": "code",
      "metadata": {
        "id": "f7VprO1e59qq",
        "outputId": "770e0f09-dc60-4de3-d97d-3049b1b247b9",
        "colab": {
          "base_uri": "https://localhost:8080/"
        }
      },
      "source": [
        "%time all_regressors = get_vector_d2v(model_d2v_dm, model_d2v_dbow, all_data)"
      ],
      "execution_count": 198,
      "outputs": [
        {
          "output_type": "stream",
          "text": [
            "CPU times: user 2.59 s, sys: 902 ms, total: 3.49 s\n",
            "Wall time: 3.5 s\n"
          ],
          "name": "stdout"
        }
      ]
    },
    {
      "cell_type": "code",
      "metadata": {
        "id": "zcowsMRF76id",
        "outputId": "25e902ca-2f90-48fb-9e7c-6e6b07135cd6",
        "colab": {
          "base_uri": "https://localhost:8080/"
        }
      },
      "source": [
        "%time df = add_column(df, all_regressors, 'd2v')"
      ],
      "execution_count": 199,
      "outputs": [
        {
          "output_type": "stream",
          "text": [
            "CPU times: user 336 ms, sys: 0 ns, total: 336 ms\n",
            "Wall time: 336 ms\n"
          ],
          "name": "stdout"
        }
      ]
    },
    {
      "cell_type": "markdown",
      "metadata": {
        "id": "ohILtaeyPTej"
      },
      "source": [
        "### Classificação"
      ]
    },
    {
      "cell_type": "markdown",
      "metadata": {
        "id": "SkhjQhTy5ZDc"
      },
      "source": [
        "#### Logistic Regression"
      ]
    },
    {
      "cell_type": "code",
      "metadata": {
        "id": "Q9maSotW-DPm",
        "outputId": "05be01e4-d9d0-4d4d-a233-53cd45ff47bf",
        "colab": {
          "base_uri": "https://localhost:8080/"
        }
      },
      "source": [
        "# %time model_log = create_model_logistic_regression(all_regressors[:len(y_train)], np.array(y_train))\n",
        "%time model_log = create_model_logistic_regression(all_regressors[:len(y_train)], y_train.values.ravel())"
      ],
      "execution_count": 200,
      "outputs": [
        {
          "output_type": "stream",
          "text": [
            "CPU times: user 1.83 s, sys: 298 ms, total: 2.13 s\n",
            "Wall time: 33 s\n"
          ],
          "name": "stdout"
        }
      ]
    },
    {
      "cell_type": "markdown",
      "metadata": {
        "id": "bw_0zOs4bF_5"
      },
      "source": [
        "#### Random Forest"
      ]
    },
    {
      "cell_type": "code",
      "metadata": {
        "id": "AnWxqG8dbM68",
        "outputId": "4898e4cd-e5f0-4e6d-83e7-30e24b280250",
        "colab": {
          "base_uri": "https://localhost:8080/"
        }
      },
      "source": [
        "# %time model_rand = create_model_random_forest(all_regressors[:len(y_train)], np.array(y_train))\n",
        "%time model_rand = create_model_random_forest(all_regressors[:len(y_train)], y_train.values.ravel())"
      ],
      "execution_count": 201,
      "outputs": [
        {
          "output_type": "stream",
          "text": [
            "CPU times: user 4min 34s, sys: 70.5 ms, total: 4min 34s\n",
            "Wall time: 4min 34s\n"
          ],
          "name": "stdout"
        }
      ]
    },
    {
      "cell_type": "markdown",
      "metadata": {
        "id": "lQ7VwM5iicAL"
      },
      "source": [
        "#### SVC (Support Vector Classification)"
      ]
    },
    {
      "cell_type": "code",
      "metadata": {
        "id": "bbIU6gmQiehJ",
        "outputId": "d306d39f-af13-487c-a67f-5846c85757fc",
        "colab": {
          "base_uri": "https://localhost:8080/"
        }
      },
      "source": [
        "# %time model_svc = create_model_svc(all_regressors[:len(y_train)], np.array(y_train))\n",
        "%time model_svc = create_model_svc(all_regressors[:len(y_train)], y_train.values.ravel())"
      ],
      "execution_count": 272,
      "outputs": [
        {
          "output_type": "stream",
          "text": [
            "CPU times: user 22min 39s, sys: 228 ms, total: 22min 39s\n",
            "Wall time: 22min 40s\n"
          ],
          "name": "stdout"
        }
      ]
    },
    {
      "cell_type": "markdown",
      "metadata": {
        "id": "93ra4-ZaBDOE"
      },
      "source": [
        "### Avaliação"
      ]
    },
    {
      "cell_type": "markdown",
      "metadata": {
        "id": "uH5KS9qwfLCV"
      },
      "source": [
        "#### predict classes - accuracy - F1 score (train datas)"
      ]
    },
    {
      "cell_type": "code",
      "metadata": {
        "id": "ObVZRQqb_Ut_",
        "outputId": "5dab8920-7aab-4d83-abf9-289425a2d26c",
        "colab": {
          "base_uri": "https://localhost:8080/"
        }
      },
      "source": [
        "%time train_regressors = get_vector_d2v(model_d2v_dm, model_d2v_dbow, x_train)"
      ],
      "execution_count": 203,
      "outputs": [
        {
          "output_type": "stream",
          "text": [
            "CPU times: user 3.45 s, sys: 917 ms, total: 4.36 s\n",
            "Wall time: 4.37 s\n"
          ],
          "name": "stdout"
        }
      ]
    },
    {
      "cell_type": "markdown",
      "metadata": {
        "id": "7r931xzvjKGm"
      },
      "source": [
        "Logistic Regression"
      ]
    },
    {
      "cell_type": "code",
      "metadata": {
        "id": "UoHemBR6E-yM",
        "outputId": "3096d766-03d3-4a57-d025-3243b25eb2af",
        "colab": {
          "base_uri": "https://localhost:8080/"
        }
      },
      "source": [
        "%time classifier_test(model_log, train_regressors, y_train)"
      ],
      "execution_count": 204,
      "outputs": [
        {
          "output_type": "stream",
          "text": [
            "Testing predicted classes: [0]\n",
            "Testing accuracy: 0.9929503772649667\n",
            "Testing F1 score: 0.9894380341408324\n",
            "CPU times: user 1.53 s, sys: 34.1 ms, total: 1.57 s\n",
            "Wall time: 1.52 s\n"
          ],
          "name": "stdout"
        }
      ]
    },
    {
      "cell_type": "markdown",
      "metadata": {
        "id": "neHA9CQEjcpT"
      },
      "source": [
        "Random Forest"
      ]
    },
    {
      "cell_type": "code",
      "metadata": {
        "id": "L7rjPR92cZ6_",
        "outputId": "e3d4aa22-45e7-4872-b042-de485df6a384",
        "colab": {
          "base_uri": "https://localhost:8080/"
        }
      },
      "source": [
        "%time classifier_test(model_rand, train_regressors, y_train)"
      ],
      "execution_count": 205,
      "outputs": [
        {
          "output_type": "stream",
          "text": [
            "Testing predicted classes: [0 1]\n",
            "Testing accuracy: 1.0\n",
            "Testing F1 score: 1.0\n",
            "CPU times: user 3.02 s, sys: 55.2 ms, total: 3.07 s\n",
            "Wall time: 3.02 s\n"
          ],
          "name": "stdout"
        }
      ]
    },
    {
      "cell_type": "markdown",
      "metadata": {
        "id": "GyFizftZjhYL"
      },
      "source": [
        "SVC"
      ]
    },
    {
      "cell_type": "code",
      "metadata": {
        "id": "Ae8I2vaqjjHy",
        "outputId": "fdcc9258-4a67-4848-8ea9-d67e86682deb",
        "colab": {
          "base_uri": "https://localhost:8080/"
        }
      },
      "source": [
        "%time classifier_test(model_svc, train_regressors, y_train)"
      ],
      "execution_count": 206,
      "outputs": [
        {
          "output_type": "stream",
          "text": [
            "Testing predicted classes: [0]\n",
            "Testing accuracy: 0.9929503772649667\n",
            "Testing F1 score: 0.9894380341408324\n",
            "CPU times: user 2min 3s, sys: 20.4 ms, total: 2min 3s\n",
            "Wall time: 2min 3s\n"
          ],
          "name": "stdout"
        }
      ]
    },
    {
      "cell_type": "markdown",
      "metadata": {
        "id": "JdsRi9KDfoU9"
      },
      "source": [
        "#### predict classes - accuracy - F1 score (test datas)"
      ]
    },
    {
      "cell_type": "code",
      "metadata": {
        "id": "wRSx5CHLC7-X",
        "outputId": "21e588cf-66a3-45a5-eb57-45870939657b",
        "colab": {
          "base_uri": "https://localhost:8080/"
        }
      },
      "source": [
        "%time test_regressors = get_vector_d2v(model_d2v_dm, model_d2v_dbow, x_test)"
      ],
      "execution_count": 207,
      "outputs": [
        {
          "output_type": "stream",
          "text": [
            "CPU times: user 452 ms, sys: 66.3 ms, total: 518 ms\n",
            "Wall time: 518 ms\n"
          ],
          "name": "stdout"
        }
      ]
    },
    {
      "cell_type": "markdown",
      "metadata": {
        "id": "-E3EculSjTyU"
      },
      "source": [
        "Logistic Regression"
      ]
    },
    {
      "cell_type": "code",
      "metadata": {
        "id": "hwsg5ke2BXtX",
        "outputId": "42806fb2-bca2-4d4c-9a2a-a65aaf7ec605",
        "colab": {
          "base_uri": "https://localhost:8080/"
        }
      },
      "source": [
        "%time classifier_test(model_log, test_regressors, y_test)"
      ],
      "execution_count": 208,
      "outputs": [
        {
          "output_type": "stream",
          "text": [
            "Testing predicted classes: [0]\n",
            "Testing accuracy: 0.9976870973071205\n",
            "Testing F1 score: 0.9965319848888025\n",
            "CPU times: user 178 ms, sys: 12 ms, total: 190 ms\n",
            "Wall time: 184 ms\n"
          ],
          "name": "stdout"
        }
      ]
    },
    {
      "cell_type": "markdown",
      "metadata": {
        "id": "yGqgdPOqjb0d"
      },
      "source": [
        "Random Forest"
      ]
    },
    {
      "cell_type": "code",
      "metadata": {
        "id": "f_YKPXKPcgTd",
        "outputId": "b55008eb-3537-4bd5-8088-3167fb7b608a",
        "colab": {
          "base_uri": "https://localhost:8080/"
        }
      },
      "source": [
        "%time classifier_test(model_rand, test_regressors, y_test)"
      ],
      "execution_count": 209,
      "outputs": [
        {
          "output_type": "stream",
          "text": [
            "Testing predicted classes: [0 1]\n",
            "Testing accuracy: 0.9919048405749216\n",
            "Testing F1 score: 0.99363246781653\n",
            "CPU times: user 384 ms, sys: 77.4 ms, total: 461 ms\n",
            "Wall time: 363 ms\n"
          ],
          "name": "stdout"
        }
      ]
    },
    {
      "cell_type": "markdown",
      "metadata": {
        "id": "TeuiC_u0jueq"
      },
      "source": [
        "SVC"
      ]
    },
    {
      "cell_type": "code",
      "metadata": {
        "id": "d1Ji9WWIjtzp",
        "outputId": "62e14636-f92b-4267-9041-cd2765029fd6",
        "colab": {
          "base_uri": "https://localhost:8080/"
        }
      },
      "source": [
        "%time classifier_test(model_svc, test_regressors, y_test)"
      ],
      "execution_count": 210,
      "outputs": [
        {
          "output_type": "stream",
          "text": [
            "Testing predicted classes: [0]\n",
            "Testing accuracy: 0.9976870973071205\n",
            "Testing F1 score: 0.9965319848888025\n",
            "CPU times: user 13.7 s, sys: 4.4 ms, total: 13.7 s\n",
            "Wall time: 13.7 s\n"
          ],
          "name": "stdout"
        }
      ]
    },
    {
      "cell_type": "markdown",
      "metadata": {
        "id": "Fw_aSlbsftiq"
      },
      "source": [
        "#### Confusion matrix"
      ]
    },
    {
      "cell_type": "markdown",
      "metadata": {
        "id": "IqGeeqY0jUmU"
      },
      "source": [
        "Logistic Regression"
      ]
    },
    {
      "cell_type": "code",
      "metadata": {
        "id": "-ZPaLU7fN9x5",
        "outputId": "685bb211-da2f-4a7e-e5c7-0b67880556b1",
        "colab": {
          "base_uri": "https://localhost:8080/"
        }
      },
      "source": [
        "%time confusion_matrix_test(model_log, test_regressors, y_test)"
      ],
      "execution_count": 211,
      "outputs": [
        {
          "output_type": "stream",
          "text": [
            "  \n",
            "  verdadeiros negativos: 6039\n",
            "  falsos negativos: 0\n",
            "  falsos positivos: 14\n",
            "  verdadeiros positivos: 0\n",
            "  \n",
            "CPU times: user 186 ms, sys: 13.1 ms, total: 199 ms\n",
            "Wall time: 189 ms\n"
          ],
          "name": "stdout"
        }
      ]
    },
    {
      "cell_type": "markdown",
      "metadata": {
        "id": "JH7J_YhJja_S"
      },
      "source": [
        "Random Forest"
      ]
    },
    {
      "cell_type": "code",
      "metadata": {
        "id": "1guPF5nxcoR2",
        "outputId": "541fa441-e90e-408a-981f-ac60a88d428d",
        "colab": {
          "base_uri": "https://localhost:8080/"
        }
      },
      "source": [
        "%time confusion_matrix_test(model_rand, test_regressors, y_test)"
      ],
      "execution_count": 212,
      "outputs": [
        {
          "output_type": "stream",
          "text": [
            "  \n",
            "  verdadeiros negativos: 6004\n",
            "  falsos negativos: 35\n",
            "  falsos positivos: 14\n",
            "  verdadeiros positivos: 0\n",
            "  \n",
            "CPU times: user 346 ms, sys: 70.3 ms, total: 416 ms\n",
            "Wall time: 343 ms\n"
          ],
          "name": "stdout"
        }
      ]
    },
    {
      "cell_type": "markdown",
      "metadata": {
        "id": "N-MdWjZrj1PA"
      },
      "source": [
        "SVC"
      ]
    },
    {
      "cell_type": "code",
      "metadata": {
        "id": "Ix4qTkpej3NA",
        "outputId": "57d6ec5e-7220-4511-edf9-2a8d8ac5ba23",
        "colab": {
          "base_uri": "https://localhost:8080/"
        }
      },
      "source": [
        "%time confusion_matrix_test(model_svc, test_regressors, y_test)"
      ],
      "execution_count": 213,
      "outputs": [
        {
          "output_type": "stream",
          "text": [
            "  \n",
            "  verdadeiros negativos: 6039\n",
            "  falsos negativos: 0\n",
            "  falsos positivos: 14\n",
            "  verdadeiros positivos: 0\n",
            "  \n",
            "CPU times: user 13.6 s, sys: 2.87 ms, total: 13.6 s\n",
            "Wall time: 13.7 s\n"
          ],
          "name": "stdout"
        }
      ]
    },
    {
      "cell_type": "markdown",
      "metadata": {
        "id": "swAeG26GfyLZ"
      },
      "source": [
        "#### Classification report"
      ]
    },
    {
      "cell_type": "markdown",
      "metadata": {
        "id": "-T8JgNSnjVxz"
      },
      "source": [
        "Logistic Regression"
      ]
    },
    {
      "cell_type": "code",
      "metadata": {
        "id": "g-dUILRqT-5s",
        "outputId": "d17c5dfa-abf4-465f-fe3f-3f27bc680459",
        "colab": {
          "base_uri": "https://localhost:8080/"
        }
      },
      "source": [
        "%time classification_report_test(model_log, test_regressors, y_test)"
      ],
      "execution_count": 214,
      "outputs": [
        {
          "output_type": "stream",
          "text": [
            "              precision    recall  f1-score   support\n",
            "\n",
            "           0       1.00      1.00      1.00      6039\n",
            "           1       0.00      0.00      0.00        14\n",
            "\n",
            "    accuracy                           1.00      6053\n",
            "   macro avg       0.50      0.50      0.50      6053\n",
            "weighted avg       1.00      1.00      1.00      6053\n",
            "\n",
            "CPU times: user 185 ms, sys: 9.63 ms, total: 194 ms\n",
            "Wall time: 182 ms\n"
          ],
          "name": "stdout"
        },
        {
          "output_type": "stream",
          "text": [
            "/usr/local/lib/python3.6/dist-packages/sklearn/metrics/_classification.py:1272: UndefinedMetricWarning: Precision and F-score are ill-defined and being set to 0.0 in labels with no predicted samples. Use `zero_division` parameter to control this behavior.\n",
            "  _warn_prf(average, modifier, msg_start, len(result))\n"
          ],
          "name": "stderr"
        }
      ]
    },
    {
      "cell_type": "markdown",
      "metadata": {
        "id": "Sg9h7C7sjaND"
      },
      "source": [
        "Random Forest"
      ]
    },
    {
      "cell_type": "code",
      "metadata": {
        "id": "4hJ852ymePrn",
        "outputId": "2f898445-5e8c-4398-b5d2-0cc9296fff96",
        "colab": {
          "base_uri": "https://localhost:8080/"
        }
      },
      "source": [
        "%time classification_report_test(model_rand, test_regressors, y_test)"
      ],
      "execution_count": 215,
      "outputs": [
        {
          "output_type": "stream",
          "text": [
            "              precision    recall  f1-score   support\n",
            "\n",
            "           0       1.00      0.99      1.00      6039\n",
            "           1       0.00      0.00      0.00        14\n",
            "\n",
            "    accuracy                           0.99      6053\n",
            "   macro avg       0.50      0.50      0.50      6053\n",
            "weighted avg       1.00      0.99      0.99      6053\n",
            "\n",
            "CPU times: user 361 ms, sys: 73.3 ms, total: 434 ms\n",
            "Wall time: 351 ms\n"
          ],
          "name": "stdout"
        }
      ]
    },
    {
      "cell_type": "markdown",
      "metadata": {
        "id": "U5ihl3iyj_oo"
      },
      "source": [
        "SVC"
      ]
    },
    {
      "cell_type": "code",
      "metadata": {
        "id": "xkz_mUdQkBRK",
        "outputId": "e6e92a46-a21f-445d-b078-18972f9343b0",
        "colab": {
          "base_uri": "https://localhost:8080/"
        }
      },
      "source": [
        "%time classification_report_test(model_svc, test_regressors, y_test)"
      ],
      "execution_count": 216,
      "outputs": [
        {
          "output_type": "stream",
          "text": [
            "              precision    recall  f1-score   support\n",
            "\n",
            "           0       1.00      1.00      1.00      6039\n",
            "           1       0.00      0.00      0.00        14\n",
            "\n",
            "    accuracy                           1.00      6053\n",
            "   macro avg       0.50      0.50      0.50      6053\n",
            "weighted avg       1.00      1.00      1.00      6053\n",
            "\n",
            "CPU times: user 13.6 s, sys: 552 µs, total: 13.6 s\n",
            "Wall time: 13.6 s\n"
          ],
          "name": "stdout"
        },
        {
          "output_type": "stream",
          "text": [
            "/usr/local/lib/python3.6/dist-packages/sklearn/metrics/_classification.py:1272: UndefinedMetricWarning: Precision and F-score are ill-defined and being set to 0.0 in labels with no predicted samples. Use `zero_division` parameter to control this behavior.\n",
            "  _warn_prf(average, modifier, msg_start, len(result))\n"
          ],
          "name": "stderr"
        }
      ]
    },
    {
      "cell_type": "markdown",
      "metadata": {
        "id": "U0qKCocpf0G0"
      },
      "source": [
        "#### Predict tweet"
      ]
    },
    {
      "cell_type": "markdown",
      "metadata": {
        "id": "Ldj1pDQDjWv7"
      },
      "source": [
        "Logistic Regression"
      ]
    },
    {
      "cell_type": "code",
      "metadata": {
        "id": "eUkrFDY1FkqI",
        "outputId": "6ec42192-2c6f-4c7d-bb65-f952669c0638",
        "colab": {
          "base_uri": "https://localhost:8080/"
        }
      },
      "source": [
        "# %time predict_tweet(model_d2v_dm, model_log, df.loc[1].tweet)\n",
        "%time predict_tweet(model_d2v_dm, model_d2v_dbow, model_log, df.loc[1].tweet)"
      ],
      "execution_count": 217,
      "outputs": [
        {
          "output_type": "stream",
          "text": [
            "[0]\n",
            "Avaliação negativa\n",
            "\n",
            "CPU times: user 12.2 ms, sys: 1.02 ms, total: 13.3 ms\n",
            "Wall time: 13.9 ms\n"
          ],
          "name": "stdout"
        }
      ]
    },
    {
      "cell_type": "markdown",
      "metadata": {
        "id": "qiX4RrMWjXg6"
      },
      "source": [
        "Random Forest"
      ]
    },
    {
      "cell_type": "code",
      "metadata": {
        "id": "qBpDh-w9e84I",
        "outputId": "bba60170-bb5a-45b8-adfc-aad08bade4a0",
        "colab": {
          "base_uri": "https://localhost:8080/"
        }
      },
      "source": [
        "# predict_tweet(model_dm, model_rand, df.loc[1].tweet)\n",
        "predict_tweet(model_d2v_dm, model_d2v_dbow, model_rand, df.loc[1].tweet)"
      ],
      "execution_count": 218,
      "outputs": [
        {
          "output_type": "stream",
          "text": [
            "[1]\n",
            "Avaliação positiva!\n",
            "\n"
          ],
          "name": "stdout"
        }
      ]
    },
    {
      "cell_type": "markdown",
      "metadata": {
        "id": "Pw3kRPLnkE3W"
      },
      "source": [
        "SVC"
      ]
    },
    {
      "cell_type": "code",
      "metadata": {
        "id": "McDLYVzQkKo-",
        "outputId": "5e51f025-4f04-43c9-ec36-dc2de6de8a90",
        "colab": {
          "base_uri": "https://localhost:8080/"
        }
      },
      "source": [
        "# predict_tweet(model_d2v, model_svc, df.loc[1].tweet)\n",
        "predict_tweet(model_d2v_dm, model_d2v_dbow, model_svc, df.loc[1].tweet)"
      ],
      "execution_count": 219,
      "outputs": [
        {
          "output_type": "stream",
          "text": [
            "[0]\n",
            "Avaliação negativa\n",
            "\n"
          ],
          "name": "stdout"
        }
      ]
    },
    {
      "cell_type": "markdown",
      "metadata": {
        "id": "NA1rUfbNnWdU"
      },
      "source": [
        "#### Predict tweet (with answer)"
      ]
    },
    {
      "cell_type": "markdown",
      "metadata": {
        "id": "nznoqo1MnosJ"
      },
      "source": [
        "Logistic Regression"
      ]
    },
    {
      "cell_type": "code",
      "metadata": {
        "id": "hqKRqATInaKE",
        "outputId": "0a3f0bd0-b0b6-4175-f63e-ee5fe5807d62",
        "colab": {
          "base_uri": "https://localhost:8080/"
        }
      },
      "source": [
        "# avaliation_classification(model_d2v, model_log, df.loc[1].tweet, df.loc[1].flood)\n",
        "avaliation_classification(model_d2v_dm, model_d2v_dbow, model_log, df.loc[1].tweet, df.loc[1].flood)"
      ],
      "execution_count": 220,
      "outputs": [
        {
          "output_type": "stream",
          "text": [
            "right\n"
          ],
          "name": "stdout"
        }
      ]
    },
    {
      "cell_type": "markdown",
      "metadata": {
        "id": "kKIKlBq9oIvA"
      },
      "source": [
        "Random Forest"
      ]
    },
    {
      "cell_type": "code",
      "metadata": {
        "id": "a6T5XPAdoMcv",
        "outputId": "339634df-4c37-47dc-d083-c74bb51c5178",
        "colab": {
          "base_uri": "https://localhost:8080/"
        }
      },
      "source": [
        "# avaliation_classification(model_d2v, model_rand, df.loc[1].tweet, df.loc[1].flood)\n",
        "avaliation_classification(model_d2v_dm, model_d2v_dbow, model_rand, df.loc[1].tweet, df.loc[1].flood)"
      ],
      "execution_count": 221,
      "outputs": [
        {
          "output_type": "stream",
          "text": [
            "wrong\n"
          ],
          "name": "stdout"
        }
      ]
    },
    {
      "cell_type": "markdown",
      "metadata": {
        "id": "2nAZ_p4JoQ8W"
      },
      "source": [
        "SVC"
      ]
    },
    {
      "cell_type": "code",
      "metadata": {
        "id": "zBvtpbtAoSYt",
        "outputId": "05706bc1-3e20-417e-d5cb-1457281ff838",
        "colab": {
          "base_uri": "https://localhost:8080/"
        }
      },
      "source": [
        "# avaliation_classification(model_d2v, model_svc, df.loc[1].tweet, df.loc[1].flood)\n",
        "avaliation_classification(model_d2v_dm, model_d2v_dbow, model_svc, df.loc[1].tweet, df.loc[1].flood)"
      ],
      "execution_count": 222,
      "outputs": [
        {
          "output_type": "stream",
          "text": [
            "right\n"
          ],
          "name": "stdout"
        }
      ]
    },
    {
      "cell_type": "markdown",
      "metadata": {
        "id": "ZxE7kqpPacay"
      },
      "source": [
        "### Prediction application to the set and classification"
      ]
    },
    {
      "cell_type": "code",
      "metadata": {
        "id": "ACGNVeAybTqj"
      },
      "source": [
        "df_test = df['tweet']"
      ],
      "execution_count": 224,
      "outputs": []
    },
    {
      "cell_type": "markdown",
      "metadata": {
        "id": "U52cwcqtbhds"
      },
      "source": [
        "Logistic Regression "
      ]
    },
    {
      "cell_type": "code",
      "metadata": {
        "id": "YYGKBKPpawdX"
      },
      "source": [
        "df_test.apply( lambda x: predict_tweet(model_d2v_dm, model_d2v_dbow, model_log, x))"
      ],
      "execution_count": null,
      "outputs": []
    },
    {
      "cell_type": "markdown",
      "metadata": {
        "id": "NzcCxe1-bfLG"
      },
      "source": [
        "Random Forest"
      ]
    },
    {
      "cell_type": "code",
      "metadata": {
        "id": "PFgmk5ESbWfC"
      },
      "source": [
        "df_test.apply( lambda x: predict_tweet(model_d2v_dm, model_d2v_dbow, model_rand, x))"
      ],
      "execution_count": null,
      "outputs": []
    },
    {
      "cell_type": "markdown",
      "metadata": {
        "id": "ZbfAo3s4bh57"
      },
      "source": [
        "SVC"
      ]
    },
    {
      "cell_type": "code",
      "metadata": {
        "id": "DReunGWIbXCt"
      },
      "source": [
        "df_test.apply( lambda x: predict_tweet(model_d2v_dm, model_d2v_dbow, model_svc, x))"
      ],
      "execution_count": null,
      "outputs": []
    },
    {
      "cell_type": "markdown",
      "metadata": {
        "id": "Qw24m1f-cqlu"
      },
      "source": [
        "### Prediction application to the set and classification (with answer)\n"
      ]
    },
    {
      "cell_type": "code",
      "metadata": {
        "id": "t2C0B8SaeJSd"
      },
      "source": [
        "[print(df.loc[x].tweet) for x in range(0, len(df))]\n",
        "\n",
        "# avaliation_classification(model_d2v_dm, model_d2v_dbow, model_log, df.loc[1].tweet, df.loc[1].flood)"
      ],
      "execution_count": null,
      "outputs": []
    },
    {
      "cell_type": "markdown",
      "metadata": {
        "id": "UiyJxYMedDEP"
      },
      "source": [
        "Logistic Regression "
      ]
    },
    {
      "cell_type": "code",
      "metadata": {
        "id": "4aYtxrRddDEP"
      },
      "source": [
        "[(avaliation_classification(model_d2v_dm, model_d2v_dbow, model_log, df.loc[id].tweet, df.loc[id].flood)) for id in range(0, len(df))]"
      ],
      "execution_count": null,
      "outputs": []
    },
    {
      "cell_type": "markdown",
      "metadata": {
        "id": "MaY4tysddDES"
      },
      "source": [
        "Random Forest"
      ]
    },
    {
      "cell_type": "code",
      "metadata": {
        "id": "MsZKIpfZdDES"
      },
      "source": [
        "[(avaliation_classification(model_d2v_dm, model_d2v_dbow, model_rand, df.loc[id].tweet, df.loc[id].flood)) for id in range(0, len(df))]"
      ],
      "execution_count": null,
      "outputs": []
    },
    {
      "cell_type": "markdown",
      "metadata": {
        "id": "9w03LwjVdDEV"
      },
      "source": [
        "SVC"
      ]
    },
    {
      "cell_type": "code",
      "metadata": {
        "id": "NFeNaQSOdDEV"
      },
      "source": [
        "[(avaliation_classification(model_d2v_dm, model_d2v_dbow, model_svc, df.loc[id].tweet, df.loc[id].flood)) for id in range(0, len(df))]"
      ],
      "execution_count": null,
      "outputs": []
    }
  ]
}