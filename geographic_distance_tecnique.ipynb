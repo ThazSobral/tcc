{
  "nbformat": 4,
  "nbformat_minor": 0,
  "metadata": {
    "colab": {
      "name": "geographic-distance-tecnique.ipynb",
      "provenance": [],
      "collapsed_sections": [],
      "authorship_tag": "ABX9TyPyWkwbI1VRbGeQvN1tyFP/",
      "include_colab_link": true
    },
    "kernelspec": {
      "name": "python3",
      "display_name": "Python 3"
    }
  },
  "cells": [
    {
      "cell_type": "markdown",
      "metadata": {
        "id": "view-in-github",
        "colab_type": "text"
      },
      "source": [
        "<a href=\"https://colab.research.google.com/github/ThazSobral/tcc/blob/main/geographic_distance_tecnique.ipynb\" target=\"_parent\"><img src=\"https://colab.research.google.com/assets/colab-badge.svg\" alt=\"Open In Colab\"/></a>"
      ]
    },
    {
      "cell_type": "markdown",
      "metadata": {
        "id": "rSi_ONTJWNGr"
      },
      "source": [
        "# Técnica de distância geográfica.\n",
        "\n",
        "by: João Porto de Albuquerque"
      ]
    },
    {
      "cell_type": "markdown",
      "metadata": {
        "id": "LDQaWYSSus_M"
      },
      "source": [
        "Os dados foram coletados num período de chuvas intensas que afetaram o Rio Elba na Alemanha. Para serem trabalhos em analises os foram limitados aos dias 8, 9 e 10 de junho de 2013."
      ]
    },
    {
      "cell_type": "markdown",
      "metadata": {
        "id": "Z3OXO938v-Vq"
      },
      "source": [
        "## Oque há no dataset?"
      ]
    },
    {
      "cell_type": "markdown",
      "metadata": {
        "id": "V_dOSxQ-wHHh"
      },
      "source": [
        "- **hashtags**: hashtags encontradas no tweet;\n",
        "- **tweet**: mensagem;\n",
        "- **created_at**: data e hora de criação;\n",
        "- **X**: coordenada no eixo X;\n",
        "- **Y**: coordenada no eixo Y;\n",
        "- **distance_meters**: distância em metros do tweet para a bacia hidrográfica mais próxima;\n",
        "- **sev_08**: nível relativo da água no dia 08;\n",
        "- **sev_09**: nível relativo da água no dia 09;\n",
        "- **sev_10**: nível relativo da água no dia 10;\n",
        "- **flood**: se está localizado numa área afetada ou não;\n",
        "- **relevance**: rótulo de relevância (de acordo com análise manual);\n",
        "- **theme**: rótulo e tema (de acordo com análise manual)."
      ]
    },
    {
      "cell_type": "markdown",
      "metadata": {
        "id": "qSHeS_xX39BC"
      },
      "source": [
        "## Ajuste"
      ]
    },
    {
      "cell_type": "markdown",
      "metadata": {
        "id": "H8x_00uy4Mlp"
      },
      "source": [
        "Primeiro fazemos todos os **ajustes** necessários para realizar o teste da técnica."
      ]
    },
    {
      "cell_type": "code",
      "metadata": {
        "id": "i0bO1_zj5BTZ",
        "outputId": "ad18fe7e-90dd-42c2-c8f7-802d714447ff",
        "colab": {
          "base_uri": "https://localhost:8080/"
        }
      },
      "source": [
        "# Montar do drive no notebook\n",
        "from google.colab import drive\n",
        "drive.mount('/content/drive', force_remount=True)"
      ],
      "execution_count": 61,
      "outputs": [
        {
          "output_type": "stream",
          "text": [
            "Mounted at /content/drive\n"
          ],
          "name": "stdout"
        }
      ]
    },
    {
      "cell_type": "markdown",
      "metadata": {
        "id": "ohoobecC4Zua"
      },
      "source": [
        "Em seguida fazemos a **importação** das primeiras **bibliotecas** e do nosso **dataset**."
      ]
    },
    {
      "cell_type": "code",
      "metadata": {
        "id": "Ffr9hyuNXQMI"
      },
      "source": [
        "# Importar bibliotecas\n",
        "import pandas as pd\n",
        "import matplotlib.pyplot as plt\n",
        "\n",
        "# Importar dataset\n",
        "df = pd.read_csv('/content/drive/My Drive/TCC_Thalles Sobral/2-dados/germany/use-data/adjusted.csv', header=0)\n",
        "\n",
        "# Exibir os dados\n",
        "# df.head()"
      ],
      "execution_count": 62,
      "outputs": []
    },
    {
      "cell_type": "markdown",
      "metadata": {
        "id": "vu5TJ__eg4b8"
      },
      "source": [
        "Podemos verificar **quantos tweets há** no nosso dataframe."
      ]
    },
    {
      "cell_type": "code",
      "metadata": {
        "id": "F-hXGacKr44Z",
        "outputId": "032d6bef-ce29-41b2-a664-c1f747733c30",
        "colab": {
          "base_uri": "https://localhost:8080/"
        }
      },
      "source": [
        "# Mostrar quantos tweets há no nosso dataframe\n",
        "print(f'Há { len(df) } tweets no total.')"
      ],
      "execution_count": 63,
      "outputs": [
        {
          "output_type": "stream",
          "text": [
            "Há 60524 tweets no total.\n"
          ],
          "name": "stdout"
        }
      ]
    },
    {
      "cell_type": "markdown",
      "metadata": {
        "id": "2DRj48mlDqN2"
      },
      "source": [
        "## Identificando regiões afetadas"
      ]
    },
    {
      "cell_type": "markdown",
      "metadata": {
        "id": "BVgzDOqUEdj9"
      },
      "source": [
        "1. As **características** dos **eventos** são definidos com base no **modelo digital de elevação** e os **dados oficiais** (ou seja, de sensores).\n",
        "2. A identificação das **áreas de captação** foi feita utilizando um conjunto de ferrametas **ArcHydro** para ArcGIS. \n",
        "  * Primeiramente foram definidos os **canais de drenagem**, o que resultou em dados vetorias.\n",
        "  * E por fim as **áreas de captação** foram identificadas utilizando as junções do rio, que foram definidas utilizando o arquivo vetorial de canal de drenagem.\n",
        "3. O **calculando o nível relativo da água** (ou severidade da inundação) foi baseado na medição de 185 estações. Esse cálculo foi feito **seguindo a definiçao** a baixo:\n",
        "~~~\n",
        "relative_level = nível médio relativo\n",
        "max_level = nível máximo de água diária\n",
        "mean_level = nível médio de água da enchente (total)\n",
        "~~~\n",
        "`relative_level = max_level - mean_level`\n",
        "\n",
        "> Em caso de **valores negativos** pode indicar que a estação **não foi afetada**, o que **valores positivos** podem indicar **o contrário**.\n",
        "\n",
        "> Em caso de **mais de uma estação na mesma bácia hidrográfica**, o nível relativo de água **é cálculado somando o valor relativo de cada estação** e depois **calculada a média aritmética do conjunto**. Onde esse resultado definirá se a bácia foi afetada ou não.\n"
      ]
    },
    {
      "cell_type": "code",
      "metadata": {
        "id": "qjVjJbRaZEV9"
      },
      "source": [
        "# faz a média dos valores de severidade e atribui a uma nova coluna\n",
        "df['sev'] = df[['sev_08', 'sev_09', 'sev_10']].mean(axis=1)"
      ],
      "execution_count": 64,
      "outputs": []
    },
    {
      "cell_type": "markdown",
      "metadata": {
        "id": "bzCVb-M9D0Ie"
      },
      "source": [
        "## Coletando informações de mídia social (Twitter)"
      ]
    },
    {
      "cell_type": "markdown",
      "metadata": {
        "id": "g9NBZUS7L7HG"
      },
      "source": [
        "Essa etapa se dividi nas seguintes etapas:\n",
        "* Filtragem baseada em palavras-chave;\n",
        "* Análise do conteúdo, e;\n",
        "* Condificação temática."
      ]
    },
    {
      "cell_type": "markdown",
      "metadata": {
        "id": "LjXOjMFhMXZo"
      },
      "source": [
        "### Filtragem baseada em palavras-chave"
      ]
    },
    {
      "cell_type": "markdown",
      "metadata": {
        "id": "04FK8GnrKqhs"
      },
      "source": [
        "Mas primeiro precisamos **remover as colunas que não seram  utilizadas**"
      ]
    },
    {
      "cell_type": "code",
      "metadata": {
        "id": "6ibwz3SUJyCU"
      },
      "source": [
        "# remover colunas\n",
        "df = df.drop(columns=['hashtag'])"
      ],
      "execution_count": 65,
      "outputs": []
    },
    {
      "cell_type": "markdown",
      "metadata": {
        "id": "ovfkAw2HMhPs"
      },
      "source": [
        "> Antes filtrar o tweets por palavras-chave filtramos por campo de georreferência, ou seja, **somente tweets georreferenciados** passam para esse etapa. Isso pode ser feito na própria API do Twitter ou através de um script."
      ]
    },
    {
      "cell_type": "markdown",
      "metadata": {
        "id": "u-x_8altNNOC"
      },
      "source": [
        "O filtro por palavras-chave considera palavras (alemão e inglês) relacionadas a eventos de inundação, como descrito a seguir:\n",
        "\n",
        "**German**\n",
        "\n",
        "* *hochwasser*\n",
        "* *flut*\n",
        "* *überschwemmung*\n",
        "\n",
        "**Addiotional-words in German**\n",
        "\n",
        "* *deich*\n",
        "* *sandsack*\n",
        "\n",
        "**English**\n",
        "\n",
        "* *flood*\n"
      ]
    },
    {
      "cell_type": "code",
      "metadata": {
        "id": "FqohrD6Ky2bg"
      },
      "source": [
        "# definir as palavras em inglês\n",
        "key_words_english = ['flood']\n",
        "\n",
        "# definir as palavras em alemão\n",
        "key_words_german = ['hochwasser',\n",
        "                     'flut',\n",
        "                     'überschwemmung']\n",
        "\n",
        "# definir as palavras adicionais em alemão\n",
        "key_addiotional_words_german = ['deich',\n",
        "                                'sandsack']\n",
        "\n",
        "# combinar palavras-chave\n",
        "key_words = key_words_english + key_words_german + key_addiotional_words_german"
      ],
      "execution_count": 66,
      "outputs": []
    },
    {
      "cell_type": "code",
      "metadata": {
        "id": "KCrtlOD2_aPw"
      },
      "source": [
        "# definir função para retornar somente aos tweets que contém as palavras-chaves\n",
        "def select_tweets_with_key_words (df):\n",
        "  return df[df.tweet.str.contains('|'.join(key_words), na=False)]"
      ],
      "execution_count": 67,
      "outputs": []
    },
    {
      "cell_type": "code",
      "metadata": {
        "id": "SF7nLfyo_-Qh",
        "outputId": "9635daaf-a493-493f-9dae-b6431a4f2b1c",
        "colab": {
          "base_uri": "https://localhost:8080/"
        }
      },
      "source": [
        "# chamar a função para selecionar os tweets passando o dataframe completo\n",
        "tweets_with_key_words = select_tweets_with_key_words(df)\n",
        "\n",
        "# mostrar a quantidade de tweets que foram encontrados dentro do dataframe\n",
        "print(f'Foram encontrados {len(tweets_with_key_words)} tweets contendo as palavras-chave definidas.')\n",
        "\n",
        "# mostrar tweets que foram encotrados entro do dataframe\n",
        "# tweets_with_key_words"
      ],
      "execution_count": 68,
      "outputs": [
        {
          "output_type": "stream",
          "text": [
            "Foram encontrados 405 tweets contendo as palavras-chave definidas.\n"
          ],
          "name": "stdout"
        }
      ]
    },
    {
      "cell_type": "markdown",
      "metadata": {
        "id": "eWa98HDYGj2J"
      },
      "source": [
        "### Análise de conteúdo"
      ]
    },
    {
      "cell_type": "markdown",
      "metadata": {
        "id": "vvsXUGkmHHxN"
      },
      "source": [
        "> **Só** são analisados os **tweets que contém** as **palavras-chave**.\n",
        "\n",
        "Os tweets são **analisados e rotulados manualmente** (por três pesquisadores) dentro de **três classes**:\n",
        "* (0) - fora do tópico;\n",
        "* (1) - no tópico, mas não relevante, e;\n",
        "* (2) - no tópico e relevante.\n",
        "\n",
        "> O **tweet no tópico** (nesse trabalha) é aquele que se **refere ao evento** de inundação, mas **não contém informações relevantes**. \n",
        "\n",
        "> O **tweet relevante** (nesse trabalha) é definido como, aquele que **contém informações** que possam **contribuir para a consciência situacional**, ou seja, que pode ser útil para outras pessoas e/ou agências."
      ]
    },
    {
      "cell_type": "code",
      "metadata": {
        "id": "vSsuvkKfH0ZO",
        "outputId": "75f2f1fb-fd24-4081-9e5a-01cff3aabccb",
        "colab": {
          "base_uri": "https://localhost:8080/"
        }
      },
      "source": [
        "# adicionar uma variável para cada rótulo da análise de conteúdo\n",
        "topic_out = len(tweets_with_key_words[(tweets_with_key_words['relevance'] == 0)])\n",
        "topic_in = len(tweets_with_key_words[(tweets_with_key_words['relevance'] == 1)])\n",
        "topic_in_and_relevance = len(tweets_with_key_words[(tweets_with_key_words['relevance'] == 2)])\n",
        "# topic_out = len(df.loc[(df['relevance'] == 0)])\n",
        "# topic_in = len(df.loc[(df['relevance'] == 1)])\n",
        "# topic_in_and_relevance = len(df.loc[(df['relevance'] == 2)])\n",
        "\n",
        "# exibir os rótulos com as respectivas quantias de tweets\n",
        "print(f'''\n",
        " - fora do tópico: {topic_out};\n",
        " - no tópico: {topic_in}, e;\n",
        " - no tópico e relevante: {topic_in_and_relevance}\n",
        "''')"
      ],
      "execution_count": 69,
      "outputs": [
        {
          "output_type": "stream",
          "text": [
            "\n",
            " - fora do tópico: 35;\n",
            " - no tópico: 187, e;\n",
            " - no tópico e relevante: 183\n",
            "\n"
          ],
          "name": "stdout"
        }
      ]
    },
    {
      "cell_type": "code",
      "metadata": {
        "id": "5XJGqKPplfrA",
        "outputId": "09f7a05e-ddc6-462c-eee6-c585ace5cfb9",
        "colab": {
          "base_uri": "https://localhost:8080/"
        }
      },
      "source": [
        "# exibir todos os tweets rotulados como no tópico\n",
        "print(f'No geral são {topic_in + topic_in_and_relevance} tweets marcados como no tópico.')"
      ],
      "execution_count": 70,
      "outputs": [
        {
          "output_type": "stream",
          "text": [
            "No geral são 370 tweets marcados como no tópico.\n"
          ],
          "name": "stdout"
        }
      ]
    },
    {
      "cell_type": "markdown",
      "metadata": {
        "id": "34zaREGMMfLp"
      },
      "source": [
        "### Codificação temática"
      ]
    },
    {
      "cell_type": "markdown",
      "metadata": {
        "id": "Ncz2rpL-MjFu"
      },
      "source": [
        "Os tweets \"no tópico\", sendo relevantes ou não passaram por uma codificação que avalia seu conteúdo (também e forma manual). Essa avaliação consiste em **verificar o conteúdo e rotular o tweet** dentro das seguintes classe\n",
        "* (0) - other;\n",
        "* (1) - volunteer actions;\n",
        "* (2) - media reports;\n",
        "* (3) - traffic conditions;\n",
        "* (4) - first-hand observations;\n",
        "* (5) - official actions, e;\n",
        "* (6) - infrastructure damage;"
      ]
    },
    {
      "cell_type": "code",
      "metadata": {
        "id": "jn0KohYBOo61",
        "outputId": "e64ef6a5-e16c-416d-e55c-cecef00aeca4",
        "colab": {
          "base_uri": "https://localhost:8080/"
        }
      },
      "source": [
        "# adicionar uma variável para cada rótulo da codificação temática\n",
        "outhers = len(tweets_with_key_words[(tweets_with_key_words['theme']) == 0])\n",
        "media_report = len(tweets_with_key_words[(tweets_with_key_words['theme']) == 1])\n",
        "traffic_condition = len(tweets_with_key_words[(tweets_with_key_words['theme']) == 2])\n",
        "firsthand_observation = len(tweets_with_key_words[(tweets_with_key_words['theme']) == 3])\n",
        "official_action = len(tweets_with_key_words[(tweets_with_key_words['theme']) == 4])\n",
        "damage_to_infrastruture = len(tweets_with_key_words[(tweets_with_key_words['theme']) == 5])\n",
        "volunteer_action = len(tweets_with_key_words[(tweets_with_key_words['theme']) == 6])\n",
        "\n",
        "# outhers = len(df[(df['theme']) == 0])\n",
        "# media_report = len(df[(df['theme']) == 1])\n",
        "# traffic_condition = len(df[(df['theme']) == 2])\n",
        "# firsthand_observation = len(df[(df['theme']) == 3])\n",
        "# official_action = len(df[(df['theme']) == 4])\n",
        "# damage_to_infrastruture = len(df[(df['theme']) == 5])\n",
        "# volunteer_action = len(df[(df['theme']) == 6])\n",
        "\n",
        "# exibir a quantidade de tweets que são rotulados conforme a codificação temática\n",
        "print(f'''\n",
        " - ação voluntaria: {volunteer_action}\n",
        " - relatório de mídia: {media_report}\n",
        " - condição de tráfego: {traffic_condition}\n",
        " - observação em primeira mão: {firsthand_observation}\n",
        " - ação oficial: {official_action}\n",
        " - dano a infraestrutura: {damage_to_infrastruture}\n",
        " - outros: {outhers}''')"
      ],
      "execution_count": 71,
      "outputs": [
        {
          "output_type": "stream",
          "text": [
            "\n",
            " - ação voluntaria: 9\n",
            " - relatório de mídia: 71\n",
            " - condição de tráfego: 54\n",
            " - observação em primeira mão: 26\n",
            " - ação oficial: 69\n",
            " - dano a infraestrutura: 21\n",
            " - outros: 155\n"
          ],
          "name": "stdout"
        }
      ]
    },
    {
      "cell_type": "markdown",
      "metadata": {
        "id": "A4EYouqhT-LY"
      },
      "source": [
        "### Estabelecer relações geográficas entre tweets e os eventos"
      ]
    },
    {
      "cell_type": "markdown",
      "metadata": {
        "id": "skmDUWziUO08"
      },
      "source": [
        "Para estabelecer a **relação de proximidade** para cada tweet é realizado um cálculo de resulta na **distância geográfica** (em metros) entre o **tweet e a bacia hidrográfica** mais próxima.\n",
        "\n",
        "> tweets localizados **dentro da área** das bacias afetadas têm a **distância igual a 0m**.\n",
        "\n",
        "> a relação de **gravidade** (severidade) é igual ao **nível relativo da água** da bacia que o tweet está localizado."
      ]
    },
    {
      "cell_type": "code",
      "metadata": {
        "id": "HniFrDao2BWk",
        "outputId": "86f7e24d-f53f-485d-bafb-345a54c03c91",
        "colab": {
          "base_uri": "https://localhost:8080/"
        }
      },
      "source": [
        "# adicionando variável com quantidade e tweets entro das bacias\n",
        "tweets_within_the_affected_basins = len(df[df['distance_meters'] == 0])\n",
        "\n",
        "# exibir quantidade de tweets que estão dentro das bacias\n",
        "print(f'São {tweets_within_the_affected_basins} tweets localizados dentro da bacia afetada')"
      ],
      "execution_count": 72,
      "outputs": [
        {
          "output_type": "stream",
          "text": [
            "São 1577 tweets localizados dentro da bacia afetada\n"
          ],
          "name": "stdout"
        }
      ]
    },
    {
      "cell_type": "markdown",
      "metadata": {
        "id": "CZEDeIGaD_Ks"
      },
      "source": [
        "## Analisando as relações geográficas entre as informações sobre os eventos e as mensagens da mídia social"
      ]
    },
    {
      "cell_type": "markdown",
      "metadata": {
        "id": "SWWHmlijcTfS"
      },
      "source": [
        "Os objetivos dessa análise são dois:\n",
        "* identificar **padrões espaciais** na ocorrência de tweets \"no tópico\" que podem estar **associados** à **distância** e o **nível relativo de água**, e;\n",
        "* explorar mais as **possíveis diferenças** entre os **padrões de origem** e as **codificações dos tweets** no tópico.\n",
        "\n",
        "> De acordo com o trabalho original foi constatado que há uma **maior probabilidade** de **tweets no tópico** ao redor das **bacias com níveis de água mais altos** comparados com bacias de níveis de água mais baixos.\n",
        "\n",
        "> Para essa análise foram **utilizados** apenas tweets localizados **dentro de uma distância de 100 km** de bacias afetadas."
      ]
    },
    {
      "cell_type": "code",
      "metadata": {
        "id": "lx51VqqDDeuC",
        "outputId": "d885ed31-27fc-4670-927d-a9488d82cf7f",
        "colab": {
          "base_uri": "https://localhost:8080/"
        }
      },
      "source": [
        "# filtra apenas os tweets com distancia menor ou igual a 100000 m (100 km)\n",
        "tweets_within_distance = df[df['distance_meters'] <= 100000]\n",
        "\n",
        "# separa os tweets fora do tópico\n",
        "topic_out = tweets_within_distance[tweets_within_distance['relevance'] == 0]\n",
        "# separa os tweets com relevancia 1 (no tópico)\n",
        "topic_in = tweets_within_distance[tweets_within_distance['relevance'] == 1]\n",
        "# separa os tweets com relevancia 2 (no tópico e relevante)\n",
        "topic_in_and_relevance = tweets_within_distance[tweets_within_distance['relevance'] == 2]\n",
        "# concatena os tweets\n",
        "tweets_on_topic = pd.concat([topic_in, topic_in_and_relevance])\n",
        "# embaralha os tweets para evitar viés\n",
        "tweets_on_topic = tweets_on_topic.sample(frac=1).reset_index(drop=True)\n",
        "\n",
        "print(f'Há {len(tweets_on_topic)} tweets no tópico e {len(topic_out)} tweets fora do tópico.')"
      ],
      "execution_count": 73,
      "outputs": [
        {
          "output_type": "stream",
          "text": [
            "Há 306 tweets no tópico e 27424 tweets fora do tópico.\n"
          ],
          "name": "stdout"
        }
      ]
    },
    {
      "cell_type": "markdown",
      "metadata": {
        "id": "A4yXN09QH5Cg"
      },
      "source": [
        "> Essa análise é realizada em **tweets no tópico** e **dentro do buffer de 100 km** (resultando 320 no trabalho original)."
      ]
    },
    {
      "cell_type": "markdown",
      "metadata": {
        "id": "84fldOEngm3y"
      },
      "source": [
        "Nessa etapa é utilizado **GAM** (Generalized Aritmetic Model) com um **link logísitico** e **dois preditores** (**nível relativo de água** em metros e **log de base 10 da distância euclidiana** em quilometros para a **bacia mais próxima afetada**).\n",
        "\n",
        "> Para **evitar resultados excessivamente influenciados** por valores extremos, foram feitos a seguitens alterações:\n",
        "> * nível relativo da água entre + 1m e -1m;\n",
        "> * distancias < 10km recebem 10km (antes de calcular o logaritmo)."
      ]
    },
    {
      "cell_type": "code",
      "metadata": {
        "id": "n2Ljr6T64MdI",
        "outputId": "4cabc90c-3912-4987-8df3-1b06f2db37c4",
        "colab": {
          "base_uri": "https://localhost:8080/"
        }
      },
      "source": [
        "''' \n",
        "para mais informações:\n",
        "https://scikit-learn.org/stable/modules/generated/sklearn.preprocessing.MaxAbsScaler.html\n",
        "'''\n",
        "# importe bibliotecas necessárias\n",
        "import numpy as np\n",
        "from sklearn.preprocessing import MaxAbsScaler\n",
        "\n",
        "# extrai valores de severidade (níveis relativos de água) de cada dia\n",
        "# sev_08 = tweets_on_topic['sev_08'].values\n",
        "# sev_09 = tweets_on_topic['sev_09'].values\n",
        "# sev_10 = tweets_on_topic['sev_10'].values\n",
        "sev = tweets_within_distance['sev'].values\n",
        "\n",
        "# concatene todos os valores de severidade coletados\n",
        "# sev = np.concatenate((sev_08, sev_09, sev_10))\n",
        "\n",
        "# instancia do modelo para normalização\n",
        "model = MaxAbsScaler()\n",
        "# treine o modelo para realizar normalização com esses valores\n",
        "model.fit(sev.reshape(-1, 1))\n",
        "\n",
        "# transforme os valores de acordo com o modelo\n",
        "'''\n",
        "convertendo os arrays em 2D (porque o modelo só funciona com 2D)\n",
        "'''\n",
        "# sev_08 = model.transform(sev_08.reshape(-1,1))\n",
        "# sev_09 = model.transform(sev_09.reshape(-1,1))\n",
        "# sev_10 = model.transform(sev_10.reshape(-1,1))\n",
        "sev = model.transform(sev.reshape(-1,1))\n",
        "\n",
        "# exibir os valores das matrizes\n",
        "# print(f'Sev08: {sev08}\\nSev09: {sev09}\\nSev10: {sev10}')\n",
        "\n",
        "# conveter os arrays para 1D novamente\n",
        "# sev_08 = sev_08.flatten()\n",
        "# sev_09 = sev_09.flatten()\n",
        "# sev_10 = sev_10.flatten()\n",
        "sev = sev.flatten()\n",
        "\n",
        "# atribuir os valores ajustados no dataframe\n",
        "# tweets_on_topic['sev_08'] = sev_08\n",
        "# tweets_on_topic['sev_09'] = sev_09\n",
        "# tweets_on_topic['sev_10'] = sev_10\n",
        "tweets_within_distance['sev'] = sev\n",
        "\n",
        "# exibir os valores dos arrays\n",
        "# print(f'Sev08: {sev_08}\\nSev09: {sev_09}\\nSev10: {sev_10}')\n",
        "# print(f'Sev: {sev}')"
      ],
      "execution_count": 74,
      "outputs": [
        {
          "output_type": "stream",
          "text": [
            "/usr/local/lib/python3.6/dist-packages/ipykernel_launcher.py:45: SettingWithCopyWarning: \n",
            "A value is trying to be set on a copy of a slice from a DataFrame.\n",
            "Try using .loc[row_indexer,col_indexer] = value instead\n",
            "\n",
            "See the caveats in the documentation: https://pandas.pydata.org/pandas-docs/stable/user_guide/indexing.html#returning-a-view-versus-a-copy\n"
          ],
          "name": "stderr"
        }
      ]
    },
    {
      "cell_type": "code",
      "metadata": {
        "id": "bIIvlxgM_rph",
        "outputId": "37ca02b8-0251-4b63-b468-22d4bdbfdcf9",
        "colab": {
          "base_uri": "https://localhost:8080/"
        }
      },
      "source": [
        "# função de substituição de valores que são menores que 10000 m (10 km)\n",
        "def replace_value(value):\n",
        "  limit = 10000\n",
        "  if value < limit:\n",
        "    return limit\n",
        "  return value\n",
        "\n",
        "# atribui a todas as distancias que forem menores ou iguais a 10000 (10 km) atribui 10000\n",
        "tweets_within_distance['distance_meters'] = tweets_within_distance['distance_meters'].map(replace_value)"
      ],
      "execution_count": 75,
      "outputs": [
        {
          "output_type": "stream",
          "text": [
            "/usr/local/lib/python3.6/dist-packages/ipykernel_launcher.py:9: SettingWithCopyWarning: \n",
            "A value is trying to be set on a copy of a slice from a DataFrame.\n",
            "Try using .loc[row_indexer,col_indexer] = value instead\n",
            "\n",
            "See the caveats in the documentation: https://pandas.pydata.org/pandas-docs/stable/user_guide/indexing.html#returning-a-view-versus-a-copy\n",
            "  if __name__ == '__main__':\n"
          ],
          "name": "stderr"
        }
      ]
    },
    {
      "cell_type": "code",
      "metadata": {
        "id": "R2Dx3tsoARQ7",
        "outputId": "9a9eb7ff-e80c-4899-ea19-6c8e087c7ba8",
        "colab": {
          "base_uri": "https://localhost:8080/"
        }
      },
      "source": [
        "# importar biblioteca necessária\n",
        "import math\n",
        "\n",
        "# criar nova coluna com valores da distancia com log 10\n",
        "tweets_within_distance['distance_log'] = tweets_within_distance['distance_meters'].apply(lambda x: math.log10(x))"
      ],
      "execution_count": 76,
      "outputs": [
        {
          "output_type": "stream",
          "text": [
            "/usr/local/lib/python3.6/dist-packages/ipykernel_launcher.py:5: SettingWithCopyWarning: \n",
            "A value is trying to be set on a copy of a slice from a DataFrame.\n",
            "Try using .loc[row_indexer,col_indexer] = value instead\n",
            "\n",
            "See the caveats in the documentation: https://pandas.pydata.org/pandas-docs/stable/user_guide/indexing.html#returning-a-view-versus-a-copy\n",
            "  \"\"\"\n"
          ],
          "name": "stderr"
        }
      ]
    },
    {
      "cell_type": "markdown",
      "metadata": {
        "id": "OrVu6YOcDrvA"
      },
      "source": [
        "O GAM implementado (do pacote R 'mgcv') **ajusta automaticamente de liberdade** efetivos do spline com um processo de validação cruzada generalizado, além de ser um 'bam' que é apropriado para **grandes conjuntos de dados**."
      ]
    },
    {
      "cell_type": "markdown",
      "metadata": {
        "id": "jWI4gv5Czyw4"
      },
      "source": [
        "Foram ajustados **GAMs alternativos** que representem os preditores como termos **aditivos** (duas splines univariadas) ou **interativos** (uam spline bivariada). Para o modelo **aditivo** foi aplicado um **limite de liberdade** de **3 graus**, e para o modelo **interativo** um **limite** de **5 graus**, sendo a finalidade desses objetivos **evitar oscilações excessivas** nos splines resultantes."
      ]
    },
    {
      "cell_type": "code",
      "metadata": {
        "id": "z88-IywQ3kQc"
      },
      "source": [
        "degree = [3,5]"
      ],
      "execution_count": 77,
      "outputs": []
    },
    {
      "cell_type": "markdown",
      "metadata": {
        "id": "NbCuc4Pv_11F"
      },
      "source": [
        "Além dos GAMs serem utilizados por causa dos recursos visuais, mas também têm a função de **calcular** as **razões de chance e riscos relativos** (proporção de probabilidades) **associados** à **distância** e **nível relativo da água**. "
      ]
    },
    {
      "cell_type": "markdown",
      "metadata": {
        "id": "dJxhxyVAzDyG"
      },
      "source": [
        "> O odds ratios (probablidade de relação) e risco relativo são calculados para **<= 10 km** versus **30 km** de distância das áreas afetadas, e para um nível relativo da água **+0,75 m** versus **-0,75 m** mantendo o **outro preditor constante**.\n",
        "> Para esse cálculo é feito operando em cima de um preditor em diferentes níveis do outro preditor.\n",
        "~~~\n",
        " - gravity_ratio = relação de gravidade\n",
        " - nível de água relativa da captura na localização do tweet\n",
        "~~~\n",
        "`gravity_ratio[tweet] = relative_level[tweet]`\n",
        "\n",
        "> É aplicao o **bootstrap** de bloco espacial para obter **intervalos de confiança** percentil no nível de **95%**.\n",
        "> O processo de **bootstrap** foi **repetido 2500 vezes** a fim de obter os **intervalos de confiança** de percentil de **95%**."
      ]
    },
    {
      "cell_type": "markdown",
      "metadata": {
        "id": "vNn5_cHR12dw"
      },
      "source": [
        "Exploração dos tweets para modelar a **probabilidade** de um **tweet no tópico pertencer a um subtipo** específico.\n",
        "\n",
        "> O modelo foi ajustado para **identificar padrões tweets como relevantes** (resultando 169 no trabalho original) **versus** os ***não relevantes** em relação a **distância** e ao **nível relativo da água**. Isso foi realizado para responder a **questão** dos **tweets mais relevantes** são fortemente **concetrado**s nas proximidades das **áreas afetadas** ou em **bacias** com **níveis relativos de água** mais **elevados**.\n",
        "\n",
        "Cálculo da **relação geográfica** com o **tweet**\n",
        "~~~\n",
        " - tweet_interface = relação do tweet\n",
        " - tweet_localization = localização do tweet\n",
        " - hydrographic_basin = bacia hidrográfica afetada\n",
        "~~~\n",
        "`tweet_interface = tweet_localization - hyrographic_basin`"
      ]
    },
    {
      "cell_type": "markdown",
      "metadata": {
        "id": "hrcZdKO2_PKy"
      },
      "source": [
        "> Como a amostra é pequena, somente **GAMs sem termo de interação** foram considerados, e apenas **resumos gráficos** e **numéricos básicos** são fornecidos para **análise exploratória** desses padrões."
      ]
    },
    {
      "cell_type": "code",
      "metadata": {
        "id": "6EcNz-J06o1M",
        "outputId": "4f9c6580-5f64-405b-a452-a4ebcefa0b84",
        "colab": {
          "base_uri": "https://localhost:8080/"
        }
      },
      "source": [
        "'''\n",
        "para mais informações de correlação:\n",
        "https://medium.com/brdata/correla%C3%A7%C3%A3o-direto-ao-ponto-9ec1d48735fb\n",
        "'''\n",
        "# medir a correlação entre a distancia e o grau de severidade\n",
        "# corr_dist_sev08 = df['distance_meters'].corr(df['sev_08'])\n",
        "# corr_dist_sev09 = df['distance_meters'].corr(df['sev_09'])\n",
        "# corr_dist_sev10 = df['distance_meters'].corr(df['sev_10'])\n",
        "corr_dist_sev = df['distance_meters'].corr(df['sev'])\n",
        "\n",
        "# print(f'Graus de correlação de distancia para os dias:\\n08 = {corr_dist_sev08}\\n09 = {corr_dist_sev09}\\n10 = {corr_dist_sev10}')\n",
        "print(f'Graus de correlação de distancia e a severidade: {corr_dist_sev}')"
      ],
      "execution_count": 78,
      "outputs": [
        {
          "output_type": "stream",
          "text": [
            "Graus de correlação de distancia e a severidade: -0.44566766199791147\n"
          ],
          "name": "stdout"
        }
      ]
    },
    {
      "cell_type": "markdown",
      "metadata": {
        "id": "ObYFnX6tpirK"
      },
      "source": [
        "### PyGAM (Classificação)"
      ]
    },
    {
      "cell_type": "code",
      "metadata": {
        "id": "d_NqkQcu_x_u",
        "outputId": "b248a783-0418-48a9-b02b-3d01c47a2aed",
        "colab": {
          "base_uri": "https://localhost:8080/"
        }
      },
      "source": [
        "''' Documentação \n",
        "https://pygam.readthedocs.io/en/latest/notebooks/quick_start.html#Fit-a-Model\n",
        "Olhar artigos:\n",
        "https://codeburst.io/pygam-getting-started-with-generalized-additive-models-in-python-457df5b4705f\n",
        "e depois\n",
        "https://medium.com/just-another-data-scientist/building-interpretable-models-with-generalized-additive-models-in-python-c4404eaf5515\n",
        "'''\n",
        "# Teste PyGAM\n",
        "!pip install pygam"
      ],
      "execution_count": 79,
      "outputs": [
        {
          "output_type": "stream",
          "text": [
            "Requirement already satisfied: pygam in /usr/local/lib/python3.6/dist-packages (0.8.0)\n",
            "Requirement already satisfied: scipy in /usr/local/lib/python3.6/dist-packages (from pygam) (1.4.1)\n",
            "Requirement already satisfied: future in /usr/local/lib/python3.6/dist-packages (from pygam) (0.16.0)\n",
            "Requirement already satisfied: numpy in /usr/local/lib/python3.6/dist-packages (from pygam) (1.18.5)\n",
            "Requirement already satisfied: progressbar2 in /usr/local/lib/python3.6/dist-packages (from pygam) (3.38.0)\n",
            "Requirement already satisfied: six in /usr/local/lib/python3.6/dist-packages (from progressbar2->pygam) (1.15.0)\n",
            "Requirement already satisfied: python-utils>=2.3.0 in /usr/local/lib/python3.6/dist-packages (from progressbar2->pygam) (2.4.0)\n"
          ],
          "name": "stdout"
        }
      ]
    },
    {
      "cell_type": "code",
      "metadata": {
        "id": "NQaieB8Wc7lK",
        "outputId": "d323e2c0-6f62-42ca-deb1-c87e8f6055d6",
        "colab": {
          "base_uri": "https://localhost:8080/"
        }
      },
      "source": [
        "# importe a biblioteca necessária\n",
        "from pygam import LogisticGAM\n",
        "\n",
        "# importe a biblioteca necessária para trabalhar com conjunto de treino e teste\n",
        "import numpy as np\n",
        "from sklearn.model_selection import train_test_split\n",
        "\n",
        "X = np.array(tweets_within_distance[['distance_log', 'sev']])\n",
        "y = np.array(tweets_within_distance[['flood']])\n",
        "\n",
        "# separar conjunto de treino e teste\n",
        "x_train, x_test, y_train, y_test = train_test_split(X, y, test_size=.2, random_state=100)\n",
        "\n",
        "# treina o modelo utlizando todos os dados de treino\n",
        "gam = LogisticGAM().fit(x_train, y_train)\n",
        "# treina o modelo utlizando todos os dados dentro de 100 km\n",
        "# gam = LogisticGAM().fit(X, y)\n",
        "gam.summary()\n",
        "\n",
        "# verificar a acuracia com todos os dados de treino\n",
        "gam.accuracy(x_train, y_train)\n",
        "# verificar a acuracia com todos os dados dentro de 100 km\n",
        "# gam.accuracy(X, y)"
      ],
      "execution_count": 80,
      "outputs": [
        {
          "output_type": "stream",
          "text": [
            "LogisticGAM                                                                                               \n",
            "=============================================== ==========================================================\n",
            "Distribution:                      BinomialDist Effective DoF:                                     16.6213\n",
            "Link Function:                        LogitLink Log Likelihood:                                  -989.3414\n",
            "Number of Samples:                        22184 AIC:                                             2011.9253\n",
            "                                                AICc:                                            2011.9549\n",
            "                                                UBRE:                                               2.0913\n",
            "                                                Scale:                                                 1.0\n",
            "                                                Pseudo R-Squared:                                   0.3176\n",
            "==========================================================================================================\n",
            "Feature Function                  Lambda               Rank         EDoF         P > x        Sig. Code   \n",
            "================================= ==================== ============ ============ ============ ============\n",
            "s(0)                              [0.6]                20           9.3          0.00e+00     ***         \n",
            "s(1)                              [0.6]                20           7.3          0.00e+00     ***         \n",
            "intercept                                              1            0.0          0.00e+00     ***         \n",
            "==========================================================================================================\n",
            "Significance codes:  0 '***' 0.001 '**' 0.01 '*' 0.05 '.' 0.1 ' ' 1\n",
            "\n",
            "WARNING: Fitting splines and a linear function to a feature introduces a model identifiability problem\n",
            "         which can cause p-values to appear significant when they are not.\n",
            "\n",
            "WARNING: p-values calculated in this manner behave correctly for un-penalized models or models with\n",
            "         known smoothing parameters, but when smoothing parameters have been estimated, the p-values\n",
            "         are typically lower than they should be, meaning that the tests reject the null too readily.\n"
          ],
          "name": "stdout"
        },
        {
          "output_type": "stream",
          "text": [
            "/usr/local/lib/python3.6/dist-packages/ipykernel_launcher.py:18: UserWarning: KNOWN BUG: p-values computed in this summary are likely much smaller than they should be. \n",
            " \n",
            "Please do not make inferences based on these values! \n",
            "\n",
            "Collaborate on a solution, and stay up to date at: \n",
            "github.com/dswah/pyGAM/issues/163 \n",
            "\n"
          ],
          "name": "stderr"
        },
        {
          "output_type": "execute_result",
          "data": {
            "text/plain": [
              "0.9879192210602236"
            ]
          },
          "metadata": {
            "tags": []
          },
          "execution_count": 80
        }
      ]
    },
    {
      "cell_type": "code",
      "metadata": {
        "id": "u9mbKxxhB6Bs",
        "outputId": "c3988e47-866d-463a-aecd-d1af2d82f097",
        "colab": {
          "base_uri": "https://localhost:8080/"
        }
      },
      "source": [
        "# importar bibliotecas necessárias\n",
        "from sklearn.metrics import accuracy_score, log_loss\n",
        "\n",
        "# prever a acuracia do modelo\n",
        "predictions = gam.predict(x_test)\n",
        "print(\"Accuracy: {} \".format(accuracy_score(y_test, predictions)))\n",
        "# prever a probabilidade de perda\n",
        "probas = gam.predict_proba(x_test)      \n",
        "print(\"Log Loss: {} \".format(log_loss(y_test, probas)))"
      ],
      "execution_count": 81,
      "outputs": [
        {
          "output_type": "stream",
          "text": [
            "Accuracy: 0.9906238730616661 \n",
            "Log Loss: 0.03845200969132748 \n"
          ],
          "name": "stdout"
        }
      ]
    },
    {
      "cell_type": "code",
      "metadata": {
        "id": "XPolFl51TxHV"
      },
      "source": [
        "# definir o termo de penalização\n",
        "lambda_ = 0.6\n",
        "# definir a função\n",
        "constraints = None\n",
        "# criar modelo \n",
        "gam = LogisticGAM(constraints=constraints, \n",
        "        lam=lambda_,\n",
        "        n_splines=10).fit(X, y)"
      ],
      "execution_count": 82,
      "outputs": []
    },
    {
      "cell_type": "code",
      "metadata": {
        "id": "qhsHPRDBYQh0",
        "outputId": "3a9f30d6-e0f5-4fee-88a3-282b732ac9d0",
        "colab": {
          "base_uri": "https://localhost:8080/"
        }
      },
      "source": [
        "# criar modelo logistico atribuindo 10 splines\n",
        "log_gam = LogisticGAM(n_splines=10).gridsearch(X, y)"
      ],
      "execution_count": 83,
      "outputs": [
        {
          "output_type": "stream",
          "text": [
            "100% (11 of 11) |########################| Elapsed Time: 0:00:03 Time:  0:00:03\n"
          ],
          "name": "stderr"
        }
      ]
    },
    {
      "cell_type": "code",
      "metadata": {
        "id": "Gon0u5lkYItB",
        "outputId": "6eaac95d-76e2-44dd-d003-9f9c66775957",
        "colab": {
          "base_uri": "https://localhost:8080/",
          "height": 622
        }
      },
      "source": [
        "# trabalhar com plotagem para o modelo\n",
        "titles = tweets_within_distance[['distance_log', 'sev']]\n",
        "titles = titles.columns[1:2]\n",
        "plt.figure()\n",
        "fig, axs = plt.subplots(1,2,figsize=(20, 10))\n",
        "for i, ax in enumerate(axs):\n",
        "    XX = log_gam.generate_X_grid(term=i)\n",
        "    ax.plot(XX[:, i], log_gam.partial_dependence(term=i, X=XX))\n",
        "    ax.plot(XX[:, i], log_gam.partial_dependence(term=i, X=XX, width=.95)[1], c='gray', ls='--')\n",
        "    if i == 0:\n",
        "        ax.set_ylim(-30,30)\n",
        "    ax.set_title(titles[i-1])"
      ],
      "execution_count": 91,
      "outputs": [
        {
          "output_type": "display_data",
          "data": {
            "text/plain": [
              "<Figure size 432x288 with 0 Axes>"
            ]
          },
          "metadata": {
            "tags": []
          }
        },
        {
          "output_type": "display_data",
          "data": {
            "image/png": "[encoded data removed]",
            "text/plain": [
              "<Figure size 1440x720 with 2 Axes>"
            ]
          },
          "metadata": {
            "tags": [],
            "needs_background": "light"
          }
        }
      ]
    },
    {
      "cell_type": "markdown",
      "metadata": {
        "id": "uMl1rvidWAh3"
      },
      "source": [
        "# TESTES"
      ]
    },
    {
      "cell_type": "markdown",
      "metadata": {
        "id": "9TGexNOiP5Ul"
      },
      "source": [
        "### PyGAM (regressão)"
      ]
    },
    {
      "cell_type": "code",
      "metadata": {
        "id": "ZkGReCvOD4Al",
        "outputId": "ee93cc91-9645-4d7a-a98f-d87ddc986f46",
        "colab": {
          "base_uri": "https://localhost:8080/"
        }
      },
      "source": [
        "from pygam import LinearGAM, s\n",
        "import numpy as np\n",
        "\n",
        "lin_gam = LinearGAM(s(0, n_splines=4) + s(1, n_splines=5)).gridsearch(x_train, y_train)"
      ],
      "execution_count": 92,
      "outputs": [
        {
          "output_type": "stream",
          "text": [
            "100% (11 of 11) |########################| Elapsed Time: 0:00:01 Time:  0:00:01\n"
          ],
          "name": "stderr"
        }
      ]
    },
    {
      "cell_type": "code",
      "metadata": {
        "id": "LnHT9J-3XZ5Y",
        "outputId": "c14a7b07-5a05-4131-c1bd-615719770755",
        "colab": {
          "base_uri": "https://localhost:8080/",
          "height": 278
        }
      },
      "source": [
        "plt.figure()\n",
        "fig, axs = plt.subplots(1,2,figsize=(40, 8))\n",
        "for i, ax in enumerate(axs):\n",
        "    XX = gam.generate_X_grid(term=i)\n",
        "    ax.plot(XX[:, i], gam.partial_dependence(term=i, X=XX))\n",
        "    ax.plot(XX[:, i], gam.partial_dependence(term=i, X=XX,   width=.95)[1], c='r', ls='--')\n",
        "    if i == 0:\n",
        "        ax.set_ylim(-30,30)\n",
        "    ax.set_title(titles[i-1])"
      ],
      "execution_count": 93,
      "outputs": [
        {
          "output_type": "display_data",
          "data": {
            "text/plain": [
              "<Figure size 432x288 with 0 Axes>"
            ]
          },
          "metadata": {
            "tags": []
          }
        },
        {
          "output_type": "display_data",
          "data": {
            "image/png": "[encoded data removed]",
            "text/plain": [
              "<Figure size 2880x576 with 2 Axes>"
            ]
          },
          "metadata": {
            "tags": [],
            "needs_background": "light"
          }
        }
      ]
    },
    {
      "cell_type": "markdown",
      "metadata": {
        "id": "eKj-pzZSEFCs"
      },
      "source": [
        "### Statsmodels.gam"
      ]
    },
    {
      "cell_type": "code",
      "metadata": {
        "id": "mn7dFUxroRK6",
        "outputId": "ae5af106-e76e-476b-a33d-64c3fb0dd88d",
        "colab": {
          "base_uri": "https://localhost:8080/",
          "height": 1000
        }
      },
      "source": [
        "from statsmodels.gam.api import GLMGam, BSplines\n",
        "\n",
        "x_spline = X\n",
        "\n",
        "bs = BSplines(x_spline, df=[12, 10], degree=[3,5])\n",
        "\n",
        "gam_bs = GLMGam.from_formula('flood ~ distance_log + sev', data=tweets_within_distance, smoother=bs)\n",
        "\n",
        "res_bs = gam_bs.fit()\n",
        "\n",
        "print(res_bs.summary())\n",
        "\n",
        "res_bs.plot_partial(0, cpr=True)\n",
        "res_bs.plot_partial(1, cpr=True)"
      ],
      "execution_count": 89,
      "outputs": [
        {
          "output_type": "stream",
          "text": [
            "                 Generalized Linear Model Regression Results                  \n",
            "==============================================================================\n",
            "Dep. Variable:                  flood   No. Observations:                27730\n",
            "Model:                         GLMGam   Df Residuals:                    27709\n",
            "Model Family:                Gaussian   Df Model:                        20.00\n",
            "Link Function:               identity   Scale:                        0.010326\n",
            "Method:                         PIRLS   Log-Likelihood:                 24069.\n",
            "Date:                Tue, 10 Nov 2020   Deviance:                       286.12\n",
            "Time:                        01:30:18   Pearson chi2:                     286.\n",
            "No. Iterations:                     3                                         \n",
            "Covariance Type:            nonrobust                                         \n",
            "================================================================================\n",
            "                   coef    std err          z      P>|z|      [0.025      0.975]\n",
            "--------------------------------------------------------------------------------\n",
            "Intercept        0.0666      0.004     18.381      0.000       0.059       0.074\n",
            "distance_log     0.0006      0.001      0.792      0.429      -0.001       0.002\n",
            "sev              0.0191      0.010      1.914      0.056      -0.000       0.039\n",
            "x0_s0           -0.0488      0.008     -5.810      0.000      -0.065      -0.032\n",
            "x0_s1           -0.0572      0.008     -7.193      0.000      -0.073      -0.042\n",
            "x0_s2           -0.0174      0.008     -2.054      0.040      -0.034      -0.001\n",
            "x0_s3           -0.0744      0.006    -12.028      0.000      -0.087      -0.062\n",
            "x0_s4           -0.0248      0.004     -5.567      0.000      -0.034      -0.016\n",
            "x0_s5           -0.0409      0.004     -9.310      0.000      -0.050      -0.032\n",
            "x0_s6           -0.0308      0.003     -9.058      0.000      -0.037      -0.024\n",
            "x0_s7           -0.0424      0.006     -7.300      0.000      -0.054      -0.031\n",
            "x0_s8           -0.0347      0.008     -4.432      0.000      -0.050      -0.019\n",
            "x0_s9           -0.0318      0.007     -4.258      0.000      -0.046      -0.017\n",
            "x0_s10          -0.0384      0.006     -6.729      0.000      -0.050      -0.027\n",
            "x1_s0           -0.0682      0.031     -2.205      0.027      -0.129      -0.008\n",
            "x1_s1            0.0630      0.031      2.044      0.041       0.003       0.123\n",
            "x1_s2           -0.0728      0.026     -2.800      0.005      -0.124      -0.022\n",
            "x1_s3           -0.0032      0.011     -0.286      0.775      -0.025       0.019\n",
            "x1_s4           -0.0525      0.008     -6.300      0.000      -0.069      -0.036\n",
            "x1_s5            0.0661      0.017      3.999      0.000       0.034       0.098\n",
            "x1_s6           -0.1941      0.022     -8.769      0.000      -0.237      -0.151\n",
            "x1_s7            0.1282      0.015      8.493      0.000       0.099       0.158\n",
            "x1_s8            0.1072      0.007     16.360      0.000       0.094       0.120\n",
            "================================================================================\n"
          ],
          "name": "stdout"
        },
        {
          "output_type": "execute_result",
          "data": {
            "image/png": "[encoded data removed]",
            "text/plain": [
              "<Figure size 432x288 with 1 Axes>"
            ]
          },
          "metadata": {
            "tags": []
          },
          "execution_count": 89
        },
        {
          "output_type": "display_data",
          "data": {
            "image/png": "[encoded data removed]",
            "text/plain": [
              "<Figure size 432x288 with 1 Axes>"
            ]
          },
          "metadata": {
            "tags": [],
            "needs_background": "light"
          }
        },
        {
          "output_type": "display_data",
          "data": {
            "image/png": "[encoded data removed]",
            "text/plain": [
              "<Figure size 432x288 with 1 Axes>"
            ]
          },
          "metadata": {
            "tags": [],
            "needs_background": "light"
          }
        }
      ]
    }
  ]
}