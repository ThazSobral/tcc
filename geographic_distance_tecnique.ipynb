{
  "nbformat": 4,
  "nbformat_minor": 0,
  "metadata": {
    "colab": {
      "name": "geographic-distance-tecnique.ipynb",
      "provenance": [],
      "collapsed_sections": [],
      "authorship_tag": "ABX9TyPU8Jis7mfjxb4/bTagOLcw",
      "include_colab_link": true
    },
    "kernelspec": {
      "name": "python3",
      "display_name": "Python 3"
    },
    "accelerator": "TPU"
  },
  "cells": [
    {
      "cell_type": "markdown",
      "metadata": {
        "id": "view-in-github",
        "colab_type": "text"
      },
      "source": [
        "<a href=\"https://colab.research.google.com/github/ThazSobral/tcc/blob/main/geographic_distance_tecnique.ipynb\" target=\"_parent\"><img src=\"https://colab.research.google.com/assets/colab-badge.svg\" alt=\"Open In Colab\"/></a>"
      ]
    },
    {
      "cell_type": "markdown",
      "metadata": {
        "id": "rSi_ONTJWNGr"
      },
      "source": [
        "# Técnica de distância geográfica.\n",
        "\n",
        "by: João Porto de Albuquerque"
      ]
    },
    {
      "cell_type": "markdown",
      "metadata": {
        "id": "qSHeS_xX39BC"
      },
      "source": [
        "## Ajuste"
      ]
    },
    {
      "cell_type": "markdown",
      "metadata": {
        "id": "H8x_00uy4Mlp"
      },
      "source": [
        "Primeiro fazemos todos os **ajustes** necessários para realizar o teste da técnica."
      ]
    },
    {
      "cell_type": "code",
      "metadata": {
        "id": "i0bO1_zj5BTZ",
        "outputId": "8d9a212d-d516-47f2-811b-d4497e92f4b3",
        "colab": {
          "base_uri": "https://localhost:8080/"
        }
      },
      "source": [
        "# Montar do drive no notebook\n",
        "from google.colab import drive\n",
        "drive.mount('/content/drive', force_remount=True)"
      ],
      "execution_count": 369,
      "outputs": [
        {
          "output_type": "stream",
          "text": [
            "Mounted at /content/drive\n"
          ],
          "name": "stdout"
        }
      ]
    },
    {
      "cell_type": "markdown",
      "metadata": {
        "id": "ohoobecC4Zua"
      },
      "source": [
        "Em seguida fazemos a **importação** das primeiras **bibliotecas** e do nosso **dataset**."
      ]
    },
    {
      "cell_type": "code",
      "metadata": {
        "id": "Ffr9hyuNXQMI"
      },
      "source": [
        "# Importar bibliotecas\n",
        "import pandas as pd\n",
        "import matplotlib.pyplot as plt\n",
        "\n",
        "# Importar dataset\n",
        "df = pd.read_csv('/content/drive/My Drive/TCC_Thalles Sobral/2-dados/germany/use-data/adjusted.csv', header=0)\n",
        "\n",
        "# Exibir os dados\n",
        "# df.head()"
      ],
      "execution_count": 370,
      "outputs": []
    },
    {
      "cell_type": "markdown",
      "metadata": {
        "id": "vu5TJ__eg4b8"
      },
      "source": [
        "Podemos verificar **quantos tweets há** no nosso dataframe."
      ]
    },
    {
      "cell_type": "code",
      "metadata": {
        "id": "F-hXGacKr44Z",
        "outputId": "3c990828-87c5-4fe9-9761-0a3c807018f0",
        "colab": {
          "base_uri": "https://localhost:8080/"
        }
      },
      "source": [
        "# Mostrar quantos tweets há no nosso dataframe\n",
        "print(f'Há { len(df) } tweets no total.')"
      ],
      "execution_count": 371,
      "outputs": [
        {
          "output_type": "stream",
          "text": [
            "Há 60524 tweets no total.\n"
          ],
          "name": "stdout"
        }
      ]
    },
    {
      "cell_type": "markdown",
      "metadata": {
        "id": "2DRj48mlDqN2"
      },
      "source": [
        "## Identificando regiões afetadas"
      ]
    },
    {
      "cell_type": "markdown",
      "metadata": {
        "id": "BVgzDOqUEdj9"
      },
      "source": [
        "1. As **características** dos **eventos** são definidos com base no **modelo digital de elevação** e os **dados oficiais** (ou seja, de sensores).\n",
        "2. A identificação das **áreas de captação** foi feita utilizando um conjunto de ferrametas **ArcHydro** para ArcGIS. \n",
        "  * Primeiramente foram definidos os **canais de drenagem**, o que resultou em dados vetorias.\n",
        "  * E por fim as **áreas de captação** foram identificadas utilizando as junções do rio, que foram definidas utilizando o arquivo vetorial de canal de drenagem.\n",
        "3. O calculando o nível relativo da água (ou severidade da inundação) foi baseado na medição de 185 estações. Esse cálculo foi feito seguindo a definiçao a baixo:\n",
        "~~~\n",
        "relative_level = nível médio relativo\n",
        "max_level = nível máximo de água diária\n",
        "mean_level = nível médio de água da enchente (total)\n",
        "~~~\n",
        "`relative_level = max_level - mean_level`\n",
        "\n",
        "> Em caso de **valores negativos** pode indicar que a estação **não foi afetada**, o que **valores positivos** podem indicar **o contrário**.\n",
        "\n",
        "> Em caso de mais de uma estação na mesma bácia hidrográfica, o nível relativo de água é cálculado somando o valor relativo de cada estação e depois calculada a média aritmética do conjunto. Onde esse resultado definirá se a bácia foi afetada ou não.\n"
      ]
    },
    {
      "cell_type": "markdown",
      "metadata": {
        "id": "bzCVb-M9D0Ie"
      },
      "source": [
        "## Coletando informações de mídia social (Twitter)"
      ]
    },
    {
      "cell_type": "markdown",
      "metadata": {
        "id": "g9NBZUS7L7HG"
      },
      "source": [
        "Essa etapa se dividi nas seguintes etapas:\n",
        "* Filtragem baseada em palavras-chave;\n",
        "* Análise do conteúdo, e;\n",
        "* Condificação temática."
      ]
    },
    {
      "cell_type": "markdown",
      "metadata": {
        "id": "LjXOjMFhMXZo"
      },
      "source": [
        "### Filtragem baseada em palavras-chave"
      ]
    },
    {
      "cell_type": "markdown",
      "metadata": {
        "id": "04FK8GnrKqhs"
      },
      "source": [
        "Mas primeiro precisamos remover as colunas que não ser  utilzadas"
      ]
    },
    {
      "cell_type": "code",
      "metadata": {
        "id": "6ibwz3SUJyCU"
      },
      "source": [
        "# remover colunas\n",
        "df = df.drop(columns=['hashtag'])"
      ],
      "execution_count": 372,
      "outputs": []
    },
    {
      "cell_type": "markdown",
      "metadata": {
        "id": "ovfkAw2HMhPs"
      },
      "source": [
        "> Antes filtrar o tweets por palavras-chave filtramos por campo de georreferência, ou seja, **somente tweets georreferenciados** passam para esse etapa. Isso pode ser feito na própria API do Twitter ou através de um script."
      ]
    },
    {
      "cell_type": "markdown",
      "metadata": {
        "id": "u-x_8altNNOC"
      },
      "source": [
        "O filtro por palavras-chave considera palavras (alemão e inglês) relacionadas a eventos de inundação, como descrito a seguir:\n",
        "\n",
        "**German**\n",
        "\n",
        "* *hochwasser*\n",
        "* *flut*\n",
        "* *überschwemmung*\n",
        "\n",
        "**Addiotional-words in German**\n",
        "\n",
        "* *deich*\n",
        "* *sandsack*\n",
        "\n",
        "**English**\n",
        "\n",
        "* *flood*\n"
      ]
    },
    {
      "cell_type": "code",
      "metadata": {
        "id": "FqohrD6Ky2bg"
      },
      "source": [
        "# definir as palavras em inglês\n",
        "key_words_english = ['flood']\n",
        "\n",
        "# definir as palavras em alemão\n",
        "key_words_german = ['hochwasser',\n",
        "                     'flut',\n",
        "                     'überschwemmung']\n",
        "\n",
        "# definir as palavras adicionais em alemão\n",
        "key_addiotional_words_german = ['deich',\n",
        "                                'sandsack']\n",
        "\n",
        "# combinar palavras-chave\n",
        "key_words = key_words_english + key_words_german + key_addiotional_words_german"
      ],
      "execution_count": 373,
      "outputs": []
    },
    {
      "cell_type": "code",
      "metadata": {
        "id": "KCrtlOD2_aPw"
      },
      "source": [
        "# definir função para retornar somente aos tweets que contém as palavras-chaves\n",
        "def select_tweets_with_key_words (df):\n",
        "  return df[df.tweet.str.contains('|'.join(key_words), na=False)]"
      ],
      "execution_count": 374,
      "outputs": []
    },
    {
      "cell_type": "code",
      "metadata": {
        "id": "SF7nLfyo_-Qh",
        "outputId": "fae76999-1258-42a2-e743-4da2a9429f53",
        "colab": {
          "base_uri": "https://localhost:8080/"
        }
      },
      "source": [
        "# chamar a função para selecionar os tweets passando o dataframe completo\n",
        "tweets_with_key_words = select_tweets_with_key_words(df)\n",
        "\n",
        "# mostrar a quantidade de tweets que foram encontrados dentro do dataframe\n",
        "print(f'Foram encontrados {len(tweets_with_key_words)} tweets contendo as palavras-chave definidas.')\n",
        "\n",
        "# mostrar tweets que foram encotrados entro do dataframe\n",
        "# tweets_with_key_words"
      ],
      "execution_count": 375,
      "outputs": [
        {
          "output_type": "stream",
          "text": [
            "Foram encontrados 405 tweets contendo as palavras-chave definidas.\n"
          ],
          "name": "stdout"
        }
      ]
    },
    {
      "cell_type": "markdown",
      "metadata": {
        "id": "eWa98HDYGj2J"
      },
      "source": [
        "### Análise de conteúdo"
      ]
    },
    {
      "cell_type": "markdown",
      "metadata": {
        "id": "vvsXUGkmHHxN"
      },
      "source": [
        "> **Só** são analisados os **tweets que contém** as **palavras-chave**.\n",
        "\n",
        "Os tweets são **analisados e rotulados manualmente** (por três pesquisadores) dentro de **três classes**:\n",
        "* (0) - fora do tópico;\n",
        "* (1) - no tópico, mas não relevante, e;\n",
        "* (2) - no tópico e relevante.\n",
        "\n",
        "> O **tweet no tópico** (nesse trabalha) é aquele que se **refere ao evento** de inundação, mas **não contém informações relevantes**. \n",
        "\n",
        "> O **tweet relevante** (nesse trabalha) é definido como, aquele que **contém informações** que possam **contribuir para a consciência situacional**, ou seja, que pode ser útil para outras pessoas e/ou agências."
      ]
    },
    {
      "cell_type": "code",
      "metadata": {
        "id": "vSsuvkKfH0ZO",
        "outputId": "2e45bd92-4ba6-4660-a7e1-dbf7adf3191e",
        "colab": {
          "base_uri": "https://localhost:8080/"
        }
      },
      "source": [
        "# adicionar uma variável para cada rótulo da análise de conteúdo\n",
        "topic_out = len(tweets_with_key_words.loc[(tweets_with_key_words['relevance'] == 0)])\n",
        "topic_in = len(tweets_with_key_words.loc[(tweets_with_key_words['relevance'] == 1)])\n",
        "topic_in_and_relevance = len(tweets_with_key_words.loc[(tweets_with_key_words['relevance'] == 2)])\n",
        "# topic_out = len(df.loc[(df['relevance'] == 0)])\n",
        "# topic_in = len(df.loc[(df['relevance'] == 1)])\n",
        "# topic_in_and_relevance = len(df.loc[(df['relevance'] == 2)])\n",
        "\n",
        "# exibir os rótulos com as respectivas quantias de tweets\n",
        "print(f'''\n",
        " - fora do tópico: {topic_out};\n",
        " - no tópico: {topic_in}, e;\n",
        " - no tópico e relevante: {topic_in_and_relevance}\n",
        "''')"
      ],
      "execution_count": 376,
      "outputs": [
        {
          "output_type": "stream",
          "text": [
            "\n",
            " - fora do tópico: 35;\n",
            " - no tópico: 187, e;\n",
            " - no tópico e relevante: 183\n",
            "\n"
          ],
          "name": "stdout"
        }
      ]
    },
    {
      "cell_type": "code",
      "metadata": {
        "id": "5XJGqKPplfrA",
        "outputId": "55e5c7fd-7500-44c3-d03f-fc33a7ad9d2a",
        "colab": {
          "base_uri": "https://localhost:8080/"
        }
      },
      "source": [
        "# exibir todos os tweets rotulados como no tópico\n",
        "print(f'No geral são {topic_in + topic_in_and_relevance} tweets marcados como no tópico.')"
      ],
      "execution_count": 377,
      "outputs": [
        {
          "output_type": "stream",
          "text": [
            "No geral são 370 tweets marcados como no tópico.\n"
          ],
          "name": "stdout"
        }
      ]
    },
    {
      "cell_type": "markdown",
      "metadata": {
        "id": "34zaREGMMfLp"
      },
      "source": [
        "### Codificação temática"
      ]
    },
    {
      "cell_type": "markdown",
      "metadata": {
        "id": "Ncz2rpL-MjFu"
      },
      "source": [
        "Os tweets \"no tópico\", sendo relevantes ou não passaram por uma codificação que avalia seu conteúdo (também e forma manual). Essa avaliação consiste em **verificar o conteúdo e rotular o tweet** dentro das seguintes classe\n",
        "* (0) - other;\n",
        "* (1) - volunteer actions;\n",
        "* (2) - media reports;\n",
        "* (3) - traffic conditions;\n",
        "* (4) - first-hand observations;\n",
        "* (5) - official actions, e;\n",
        "* (6) - infrastructure damage;"
      ]
    },
    {
      "cell_type": "code",
      "metadata": {
        "id": "jn0KohYBOo61",
        "outputId": "252e354e-9ba6-421b-e6b0-df1b2a90c4ba",
        "colab": {
          "base_uri": "https://localhost:8080/"
        }
      },
      "source": [
        "# adicionar uma variável para cada rótulo da codificação temática\n",
        "outhers = len(tweets_with_key_words[(tweets_with_key_words['theme']) == 0])\n",
        "media_report = len(tweets_with_key_words[(tweets_with_key_words['theme']) == 1])\n",
        "traffic_condition = len(tweets_with_key_words[(tweets_with_key_words['theme']) == 2])\n",
        "firsthand_observation = len(tweets_with_key_words[(tweets_with_key_words['theme']) == 3])\n",
        "official_action = len(tweets_with_key_words[(tweets_with_key_words['theme']) == 4])\n",
        "damage_to_infrastruture = len(tweets_with_key_words[(tweets_with_key_words['theme']) == 5])\n",
        "volunteer_action = len(tweets_with_key_words[(tweets_with_key_words['theme']) == 6])\n",
        "\n",
        "# outhers = len(df[(df['theme']) == 0])\n",
        "# media_report = len(df[(df['theme']) == 1])\n",
        "# traffic_condition = len(df[(df['theme']) == 2])\n",
        "# firsthand_observation = len(df[(df['theme']) == 3])\n",
        "# official_action = len(df[(df['theme']) == 4])\n",
        "# damage_to_infrastruture = len(df[(df['theme']) == 5])\n",
        "# volunteer_action = len(df[(df['theme']) == 6])\n",
        "\n",
        "# exibir a quantidade de tweets que são rotulados conforme a codificação temática\n",
        "print(f'''\n",
        " - ação voluntaria: {volunteer_action}\n",
        " - relatório de mídia: {media_report}\n",
        " - condição de tráfego: {traffic_condition}\n",
        " - observação em primeira mão: {firsthand_observation}\n",
        " - ação oficial: {official_action}\n",
        " - dano a infraestrutura: {damage_to_infrastruture}\n",
        " - outros: {outhers}''')"
      ],
      "execution_count": 378,
      "outputs": [
        {
          "output_type": "stream",
          "text": [
            "\n",
            " - ação voluntaria: 9\n",
            " - relatório de mídia: 71\n",
            " - condição de tráfego: 54\n",
            " - observação em primeira mão: 26\n",
            " - ação oficial: 69\n",
            " - dano a infraestrutura: 21\n",
            " - outros: 155\n"
          ],
          "name": "stdout"
        }
      ]
    },
    {
      "cell_type": "markdown",
      "metadata": {
        "id": "A4EYouqhT-LY"
      },
      "source": [
        "### Estabelecer relações geográficas entre tweets e os eventos"
      ]
    },
    {
      "cell_type": "markdown",
      "metadata": {
        "id": "skmDUWziUO08"
      },
      "source": [
        "Para estabelecer a **relação de proximidade** para cada tweet é realizado um cálculo de resulta na **distância geográfica** (em metros) entre o **tweet e a bacia hidrográfica** mais próxima.\n",
        "\n",
        "> tweets localizados **dentro da área** das bacias afetadas têm a **distância igual a 0m**.\n",
        "\n",
        "> a relação de **gravidade** (severidade) é igual ao **nível relativo da água** da bacia que o tweet está localizado."
      ]
    },
    {
      "cell_type": "code",
      "metadata": {
        "id": "HniFrDao2BWk",
        "outputId": "58ca4f2a-7b5b-4cb4-a0af-ce49a06bfd63",
        "colab": {
          "base_uri": "https://localhost:8080/"
        }
      },
      "source": [
        "# adicionando variável com quantidade e tweets entro das bacias\n",
        "tweets_within_the_affected_basins = len(df[df['distance_meters'] == 0])\n",
        "\n",
        "# exibir quantidade de tweets que estão dentro das bacias\n",
        "print(f'São {tweets_within_the_affected_basins} tweets localizados dentro da bacia afetada')"
      ],
      "execution_count": 379,
      "outputs": [
        {
          "output_type": "stream",
          "text": [
            "São 1577 tweets localizados dentro da bacia afetada\n"
          ],
          "name": "stdout"
        }
      ]
    },
    {
      "cell_type": "markdown",
      "metadata": {
        "id": "CZEDeIGaD_Ks"
      },
      "source": [
        "## Analisando as relações geográficas entre as informações sobre os eventos e as mensagens da mídia social"
      ]
    },
    {
      "cell_type": "markdown",
      "metadata": {
        "id": "SWWHmlijcTfS"
      },
      "source": [
        "Os objetivos dessa análise são dois:\n",
        "* identificar **padrões espaciais** na ocorrência de tweets \"no tópico\" que podem estar **associados** à **distância** e o **nível relativo de água**, e;\n",
        "* explorar mais as **possíveis diferenças** entre os **padrões de origem** e as **codificações dos tweets** no tópico.\n",
        "\n",
        "> De acordo com o trabalho original foi constatado que há uma **maior probabilidade** de **tweets no tópico** ao redor das **bacias com níveis de água mais altos** comparados com bacias de níveis de água mais baixos.\n",
        "\n",
        "> Para essa análise foram **utilizados** apenas tweets localizados **dentro de uma distância de 100 km** de bacias afetadas."
      ]
    },
    {
      "cell_type": "code",
      "metadata": {
        "id": "lx51VqqDDeuC",
        "outputId": "37eceefd-d21d-413c-8900-508a92c85957",
        "colab": {
          "base_uri": "https://localhost:8080/"
        }
      },
      "source": [
        "# filtra apenas os tweets com distancia menor ou igual a 100000 m (100 km)\n",
        "df = df[df['distance_meters'] <= 100000]\n",
        "\n",
        "topic_in= len(df[df['relevance'] == 1])\n",
        "topic_in_and_relevance = len(df[df['relevance'] == 2])\n",
        "print(f'Há {topic_in + topic_in_and_relevance} tweets no tópico')"
      ],
      "execution_count": 380,
      "outputs": [
        {
          "output_type": "stream",
          "text": [
            "Há 306 tweets no tópico\n"
          ],
          "name": "stdout"
        }
      ]
    },
    {
      "cell_type": "markdown",
      "metadata": {
        "id": "A4yXN09QH5Cg"
      },
      "source": [
        "> Essa análise é realizada em tweets no tópico **dentro do buffer de 100 km** (resultando 320 no trabalho original)."
      ]
    },
    {
      "cell_type": "markdown",
      "metadata": {
        "id": "84fldOEngm3y"
      },
      "source": [
        "Nessa etapa é utilizado **GAM** (Generalized Aritmetic Model) com um **link logísitico** e **dois preditores** (**nível relativo de água** em metros e **log de base 10 da distância euclidiana** em quilometros para a **bacia mais próxima afetada**).\n",
        "\n",
        "> Para **evitar resultados excessivamente influenciados** por valores extremos, foram feitos a seguitens alterações:\n",
        "> * nível relativo da água entre + 1m e -1m;\n",
        "> * distancias < 10km recebem 10km (antes de calcular o logaritmo)."
      ]
    },
    {
      "cell_type": "code",
      "metadata": {
        "id": "n2Ljr6T64MdI"
      },
      "source": [
        "''' \n",
        "para mais informações:\n",
        "https://scikit-learn.org/stable/modules/generated/sklearn.preprocessing.MaxAbsScaler.html\n",
        "'''\n",
        "# importe bibliotecas necessárias\n",
        "import numpy as np\n",
        "from sklearn.preprocessing import MaxAbsScaler\n",
        "\n",
        "# extrai valores de severidade (níveis relativos de água) de cada dia\n",
        "sev08 = df['sev_08'].values\n",
        "sev09 = df['sev_09'].values\n",
        "sev10 = df['sev_10'].values\n",
        "\n",
        "# concatene todos os valores de severidade coletados\n",
        "sev = np.concatenate((sev08, sev09, sev10))\n",
        "\n",
        "# instancia do modelo para normalização\n",
        "model = MaxAbsScaler()\n",
        "# treine o modelo para realizar normalização com esses valores\n",
        "model.fit(sev.reshape(-1, 1))\n",
        "\n",
        "# transforme os valores de acordo com o modelo\n",
        "'''\n",
        "convertendo os arrays em 2D (porque o modelo só funciona com 2D)\n",
        "'''\n",
        "sev08 = model.transform(sev08.reshape(-1,1))\n",
        "sev09 = model.transform(sev09.reshape(-1,1))\n",
        "sev10 = model.transform(sev10.reshape(-1,1))\n",
        "\n",
        "# exibir os valores das matrizes\n",
        "# print(f'Sev08: {sev08}\\nSev09: {sev09}\\nSev10: {sev10}')\n",
        "\n",
        "# conveter os arrays para 1D novamente\n",
        "sev08 = sev08.flatten()\n",
        "sev09 = sev09.flatten()\n",
        "sev10 = sev10.flatten()\n",
        "\n",
        "# exibir os valores dos arrays\n",
        "# print(f'Sev08: {sev08}\\nSev09: {sev09}\\nSev10: {sev10}')"
      ],
      "execution_count": 381,
      "outputs": []
    },
    {
      "cell_type": "code",
      "metadata": {
        "id": "bIIvlxgM_rph"
      },
      "source": [
        "# função de substituição de valores que são menores que 10000 m (10 km)\n",
        "def replace_value(value):\n",
        "  limit = 10000\n",
        "  if value < limit:\n",
        "    return limit\n",
        "  return value\n",
        "\n",
        "# atribui todas as distancias que forem menores ou iguais a 10000 (10 km) atribui 10000\n",
        "df['distance_meters'] = df['distance_meters'].map(replace_value)"
      ],
      "execution_count": 382,
      "outputs": []
    },
    {
      "cell_type": "code",
      "metadata": {
        "id": "R2Dx3tsoARQ7"
      },
      "source": [
        "# importar biblioteca necessária\n",
        "import math\n",
        "\n",
        "# criar nova coluna com valores da distancia com log 10\n",
        "df['distance_log'] = df['distance_meters'].apply(lambda x: math.log10(x))"
      ],
      "execution_count": 383,
      "outputs": []
    },
    {
      "cell_type": "markdown",
      "metadata": {
        "id": "OrVu6YOcDrvA"
      },
      "source": [
        "O GAM implementado (do pacote R 'mgcv') **ajusta automaticamente de liberdade** efetivos do spline com um processo de validação cruzada generalizado, além de ser um 'bam' que é apropriado para **grandes conjuntos de dados**."
      ]
    },
    {
      "cell_type": "markdown",
      "metadata": {
        "id": "jWI4gv5Czyw4"
      },
      "source": [
        "Foram ajustados **GAMs alternativos** que representem os preditores como termos **aditivos** (duas splines univariadas) ou **interativos** (uam spline bivariada). Para o modelo **aditivo** foi aplicado um **limite de liberdade** de **3 graus**, e para o modelo **interativo** um **limite** de **5 graus**, sendo a finalidade desses objetivos **evitar oscilações excessivas** nos splines resultantes."
      ]
    },
    {
      "cell_type": "markdown",
      "metadata": {
        "id": "NbCuc4Pv_11F"
      },
      "source": [
        "Além dos GAMs serem utilizados por causa dos recursos visuais, mas também têm a função de **calcular** as **razões de chance e riscos relativos** (proporção de probabilidades) **associados** à **distância** e **nível relativo da água**. "
      ]
    },
    {
      "cell_type": "markdown",
      "metadata": {
        "id": "dJxhxyVAzDyG"
      },
      "source": [
        "> O odds ratios (probablidade de relação) e risco relativo são calculados para **<= 10 km** versus **30 km** de distância das áreas afetadas, e para um nível relativo da água **+0,75 m** versus **-0,75 m** mantendo o **outro preditor constante**.\n",
        "> Para esse cálculo é feito operando em cima de um preditor em diferentes níveis do outro preditor.\n",
        "~~~\n",
        " - gravity_ratio = relação de gravidade\n",
        " - nível de água relativa da captura na localização do tweet\n",
        "~~~\n",
        "`gravity_ratio[tweet] = relative_level[tweet]`\n",
        "\n",
        "> É aplicao o **bootstrap** de bloco espacial para obter **intervalos de confiança** percentil no nível de **95%**.\n",
        "> O processo de **bootstrap** foi **repetido 2500 vezes** a fim de obter os **intervalos de confiança** de percentil de **95%**."
      ]
    },
    {
      "cell_type": "markdown",
      "metadata": {
        "id": "vNn5_cHR12dw"
      },
      "source": [
        "Exploração dos tweets para modelar a **probabilidade** de um **tweet no tópico pertencer a um subtipo** específico.\n",
        "\n",
        "> O modelo foi ajustado para **identificar padrões tweets como relevantes** (resultando 169 no trabalho original) **versus** os ***não relevantes** em relação a **distância** e ao **nível relativo da água**. Isso foi realizado para responder a **questão** dos **tweets mais relevantes** são fortemente **concetrado**s nas proximidades das **áreas afetadas** ou em **bacias** com **níveis relativos de água** mais **elevados**.\n",
        "\n",
        "Cálculo da **relação geográfica** com o **tweet**\n",
        "~~~\n",
        " - tweet_interface = relação do tweet\n",
        " - tweet_localization = localização do tweet\n",
        " - hydrographic_basin = bacia hidrográfica afetada\n",
        "~~~\n",
        "`tweet_interface = tweet_localization - hyrographic_basin`"
      ]
    },
    {
      "cell_type": "markdown",
      "metadata": {
        "id": "hrcZdKO2_PKy"
      },
      "source": [
        "> Como a amostra é pequena, somente **GAMs sem termo de interação** foram considerados, e apenas **resumos gráficos** e **numéricos básicos** são fornecidos para **análise exploratória** desses padrões."
      ]
    },
    {
      "cell_type": "code",
      "metadata": {
        "id": "6EcNz-J06o1M",
        "outputId": "1edd4ea5-7230-4e75-ed47-c091853e6fa1",
        "colab": {
          "base_uri": "https://localhost:8080/"
        }
      },
      "source": [
        "'''\n",
        "para mais informações de correlação:\n",
        "https://medium.com/brdata/correla%C3%A7%C3%A3o-direto-ao-ponto-9ec1d48735fb\n",
        "'''\n",
        "corr_dist_sev08 = df['distance_meters'].corr(df['sev_08'])\n",
        "corr_dist_sev09 = df['distance_meters'].corr(df['sev_09'])\n",
        "corr_dist_sev10 = df['distance_meters'].corr(df['sev_10'])\n",
        "\n",
        "print(f'Graus de correlação de distancia para os dias:\\n08 = {corr_dist_sev08}\\n09 = {corr_dist_sev09}\\n10 = {corr_dist_sev10}')"
      ],
      "execution_count": 384,
      "outputs": [
        {
          "output_type": "stream",
          "text": [
            "Graus de correlação de distancia para os dias:\n",
            "08 = -0.38290690133196864\n",
            "09 = -0.4459123755448043\n",
            "10 = -0.43619075664848644\n"
          ],
          "name": "stdout"
        }
      ]
    },
    {
      "cell_type": "markdown",
      "metadata": {
        "id": "uMl1rvidWAh3"
      },
      "source": [
        "# TESTES"
      ]
    },
    {
      "cell_type": "code",
      "metadata": {
        "id": "Xi3mw0A_Le9F"
      },
      "source": [
        "# realizar bootstraping para separar os dados que seram passados para o modelo\n",
        "import pandas\n",
        "import numpy as np\n",
        "\n",
        "# n = 5000\n",
        "# values = np.random.uniform(size=(n, 5))\n",
        "\n",
        "# columns = ['a', 'b', 'c', 'd', 'e']\n",
        "# df = pandas.DataFrame(values, columns=columns)\n",
        "\n",
        "# %timeit df.iloc[np.random.randint(n, size=n)]\n",
        "\n",
        "# randlist = pandas.DataFrame(index=np.random.randint(n, size=n))\n",
        "# %timeit df.merge(randlist, left_index=True, right_index=True, how='right')\n",
        "\n",
        "# %timeit df.merge(pandas.DataFrame(index=np.random.randint(n, size=n)), left_index=True, right_index=True, how='right')\n",
        "\n",
        "# df\n",
        "\n",
        "# metodo mais rapido para bootstraping\n",
        "# s = pd.Series(np.random.uniform(size=100))\n",
        "# s"
      ],
      "execution_count": 385,
      "outputs": []
    },
    {
      "cell_type": "code",
      "metadata": {
        "id": "3iGOg2rnatM6"
      },
      "source": [
        "# separar dados de treino e teste\n",
        "\n",
        "# importe a biblioteca necessária\n",
        "from sklearn.model_selection import train_test_split\n",
        "\n",
        "# define as variaveis de entrada\n",
        "X = df[['distance_meters', 'sev_08']]\n",
        "# define as variaveis de saida \n",
        "y = df['flood']\n",
        "\n",
        "# separe os conjuntos de treino e teste\n",
        "x_train, x_test, y_train, y_test = train_test_split(X, df.flood, test_size=.2)"
      ],
      "execution_count": 386,
      "outputs": []
    },
    {
      "cell_type": "markdown",
      "metadata": {
        "id": "doh3RO3npfQg"
      },
      "source": [
        "### Statsmodel.gam"
      ]
    },
    {
      "cell_type": "code",
      "metadata": {
        "id": "Brq0YlS4Y9nf",
        "outputId": "331e36cb-d1f9-4310-f987-161b814a485a",
        "colab": {
          "base_uri": "https://localhost:8080/",
          "height": 419
        }
      },
      "source": [
        "# faz a média dos valores de severidade\n",
        "df['sev'] = df[['sev_08', 'sev_09', 'sev_10']].mean(axis=1)"
      ],
      "execution_count": 391,
      "outputs": [
        {
          "output_type": "execute_result",
          "data": {
            "text/html": [
              "<div>\n",
              "<style scoped>\n",
              "    .dataframe tbody tr th:only-of-type {\n",
              "        vertical-align: middle;\n",
              "    }\n",
              "\n",
              "    .dataframe tbody tr th {\n",
              "        vertical-align: top;\n",
              "    }\n",
              "\n",
              "    .dataframe thead th {\n",
              "        text-align: right;\n",
              "    }\n",
              "</style>\n",
              "<table border=\"1\" class=\"dataframe\">\n",
              "  <thead>\n",
              "    <tr style=\"text-align: right;\">\n",
              "      <th></th>\n",
              "      <th>tweet</th>\n",
              "      <th>created_at</th>\n",
              "      <th>X</th>\n",
              "      <th>Y</th>\n",
              "      <th>distance_meters</th>\n",
              "      <th>sev_08</th>\n",
              "      <th>sev_09</th>\n",
              "      <th>sev_10</th>\n",
              "      <th>flood</th>\n",
              "      <th>relevance</th>\n",
              "      <th>theme</th>\n",
              "      <th>distance_log</th>\n",
              "      <th>sev</th>\n",
              "    </tr>\n",
              "  </thead>\n",
              "  <tbody>\n",
              "    <tr>\n",
              "      <th>9</th>\n",
              "      <td>in the car and my boyfriend just said that loo...</td>\n",
              "      <td>2013-06-08 13:33:34+02</td>\n",
              "      <td>568,866</td>\n",
              "      <td>5,928,233</td>\n",
              "      <td>12326</td>\n",
              "      <td>13</td>\n",
              "      <td>142</td>\n",
              "      <td>209</td>\n",
              "      <td>0</td>\n",
              "      <td>0</td>\n",
              "      <td>0</td>\n",
              "      <td>4.090822</td>\n",
              "      <td>121.333333</td>\n",
              "    </tr>\n",
              "    <tr>\n",
              "      <th>12</th>\n",
              "      <td>grandios... kurt kister entführt unter die \"\"k...</td>\n",
              "      <td>2013-06-08 13:33:37+02</td>\n",
              "      <td>565,55</td>\n",
              "      <td>5,937,485</td>\n",
              "      <td>19485</td>\n",
              "      <td>13</td>\n",
              "      <td>142</td>\n",
              "      <td>209</td>\n",
              "      <td>0</td>\n",
              "      <td>0</td>\n",
              "      <td>0</td>\n",
              "      <td>4.289700</td>\n",
              "      <td>121.333333</td>\n",
              "    </tr>\n",
              "    <tr>\n",
              "      <th>17</th>\n",
              "      <td>beckstrassenfest. #alteheimat #wetterwa #gibtn...</td>\n",
              "      <td>2013-06-08 13:33:50+02</td>\n",
              "      <td>563,971</td>\n",
              "      <td>5,934,873</td>\n",
              "      <td>19630</td>\n",
              "      <td>13</td>\n",
              "      <td>142</td>\n",
              "      <td>209</td>\n",
              "      <td>0</td>\n",
              "      <td>0</td>\n",
              "      <td>0</td>\n",
              "      <td>4.292920</td>\n",
              "      <td>121.333333</td>\n",
              "    </tr>\n",
              "    <tr>\n",
              "      <th>23</th>\n",
              "      <td>next stop binnenalster (@ hotel vier jahreszei...</td>\n",
              "      <td>2013-06-08 13:34:05+02</td>\n",
              "      <td>565,694</td>\n",
              "      <td>5,934,529</td>\n",
              "      <td>17924</td>\n",
              "      <td>13</td>\n",
              "      <td>142</td>\n",
              "      <td>209</td>\n",
              "      <td>0</td>\n",
              "      <td>0</td>\n",
              "      <td>0</td>\n",
              "      <td>4.253435</td>\n",
              "      <td>121.333333</td>\n",
              "    </tr>\n",
              "    <tr>\n",
              "      <th>26</th>\n",
              "      <td>i m at @mcfit (hamburg, hh) http://t.co/6phbnu...</td>\n",
              "      <td>2013-06-08 13:34:12+02</td>\n",
              "      <td>561,2</td>\n",
              "      <td>5,938,720</td>\n",
              "      <td>23862</td>\n",
              "      <td>13</td>\n",
              "      <td>142</td>\n",
              "      <td>209</td>\n",
              "      <td>0</td>\n",
              "      <td>0</td>\n",
              "      <td>0</td>\n",
              "      <td>4.377707</td>\n",
              "      <td>121.333333</td>\n",
              "    </tr>\n",
              "    <tr>\n",
              "      <th>...</th>\n",
              "      <td>...</td>\n",
              "      <td>...</td>\n",
              "      <td>...</td>\n",
              "      <td>...</td>\n",
              "      <td>...</td>\n",
              "      <td>...</td>\n",
              "      <td>...</td>\n",
              "      <td>...</td>\n",
              "      <td>...</td>\n",
              "      <td>...</td>\n",
              "      <td>...</td>\n",
              "      <td>...</td>\n",
              "      <td>...</td>\n",
              "    </tr>\n",
              "    <tr>\n",
              "      <th>60494</th>\n",
              "      <td>@imaginesof5sos fave tweet ever... xdd</td>\n",
              "      <td>2013-06-10 23:58:01+02</td>\n",
              "      <td>749,855</td>\n",
              "      <td>5,635,104</td>\n",
              "      <td>44804</td>\n",
              "      <td>63</td>\n",
              "      <td>57</td>\n",
              "      <td>49</td>\n",
              "      <td>0</td>\n",
              "      <td>0</td>\n",
              "      <td>0</td>\n",
              "      <td>4.651317</td>\n",
              "      <td>56.333333</td>\n",
              "    </tr>\n",
              "    <tr>\n",
              "      <th>60497</th>\n",
              "      <td>@annademayence mich irritiert dabei der punkt,...</td>\n",
              "      <td>2013-06-10 23:58:11+02</td>\n",
              "      <td>736,874</td>\n",
              "      <td>5,692,385</td>\n",
              "      <td>12383</td>\n",
              "      <td>63</td>\n",
              "      <td>57</td>\n",
              "      <td>49</td>\n",
              "      <td>0</td>\n",
              "      <td>0</td>\n",
              "      <td>0</td>\n",
              "      <td>4.092826</td>\n",
              "      <td>56.333333</td>\n",
              "    </tr>\n",
              "    <tr>\n",
              "      <th>60500</th>\n",
              "      <td>ich will das nicht! und wenn ich dafür kaitos ...</td>\n",
              "      <td>2013-06-10 23:58:16+02</td>\n",
              "      <td>656,936</td>\n",
              "      <td>5,949,170</td>\n",
              "      <td>33395</td>\n",
              "      <td>30</td>\n",
              "      <td>165</td>\n",
              "      <td>227</td>\n",
              "      <td>0</td>\n",
              "      <td>0</td>\n",
              "      <td>0</td>\n",
              "      <td>4.523681</td>\n",
              "      <td>140.666667</td>\n",
              "    </tr>\n",
              "    <tr>\n",
              "      <th>60507</th>\n",
              "      <td>looking at, fondling with and getting all my j...</td>\n",
              "      <td>2013-06-10 23:58:38+02</td>\n",
              "      <td>567,437</td>\n",
              "      <td>5,935,963</td>\n",
              "      <td>17082</td>\n",
              "      <td>13</td>\n",
              "      <td>142</td>\n",
              "      <td>209</td>\n",
              "      <td>0</td>\n",
              "      <td>0</td>\n",
              "      <td>0</td>\n",
              "      <td>4.232539</td>\n",
              "      <td>121.333333</td>\n",
              "    </tr>\n",
              "    <tr>\n",
              "      <th>60523</th>\n",
              "      <td>@torgator appletv v2 mit jailbreak.</td>\n",
              "      <td>2013-06-10 23:59:56+02</td>\n",
              "      <td>543,002</td>\n",
              "      <td>6,017,844</td>\n",
              "      <td>98705</td>\n",
              "      <td>13</td>\n",
              "      <td>142</td>\n",
              "      <td>209</td>\n",
              "      <td>0</td>\n",
              "      <td>0</td>\n",
              "      <td>0</td>\n",
              "      <td>4.994339</td>\n",
              "      <td>121.333333</td>\n",
              "    </tr>\n",
              "  </tbody>\n",
              "</table>\n",
              "<p>7309 rows × 13 columns</p>\n",
              "</div>"
            ],
            "text/plain": [
              "                                                   tweet  ...         sev\n",
              "9      in the car and my boyfriend just said that loo...  ...  121.333333\n",
              "12     grandios... kurt kister entführt unter die \"\"k...  ...  121.333333\n",
              "17     beckstrassenfest. #alteheimat #wetterwa #gibtn...  ...  121.333333\n",
              "23     next stop binnenalster (@ hotel vier jahreszei...  ...  121.333333\n",
              "26     i m at @mcfit (hamburg, hh) http://t.co/6phbnu...  ...  121.333333\n",
              "...                                                  ...  ...         ...\n",
              "60494             @imaginesof5sos fave tweet ever... xdd  ...   56.333333\n",
              "60497  @annademayence mich irritiert dabei der punkt,...  ...   56.333333\n",
              "60500  ich will das nicht! und wenn ich dafür kaitos ...  ...  140.666667\n",
              "60507  looking at, fondling with and getting all my j...  ...  121.333333\n",
              "60523                @torgator appletv v2 mit jailbreak.  ...  121.333333\n",
              "\n",
              "[7309 rows x 13 columns]"
            ]
          },
          "metadata": {
            "tags": []
          },
          "execution_count": 391
        }
      ]
    },
    {
      "cell_type": "code",
      "metadata": {
        "id": "U2rLtv786xa8",
        "outputId": "08f5e45a-769a-477c-e4a3-74e39efb61c8",
        "colab": {
          "base_uri": "https://localhost:8080/",
          "height": 962
        }
      },
      "source": [
        "'''\n",
        "documentação\n",
        "https://www.statsmodels.org/devel/gam.html\n",
        "'''\n",
        "\n",
        "# Aplicar statsmodel\n",
        "# importe as bibliotecas necessárias\n",
        "import statsmodels.api as sm\n",
        "from statsmodels.gam.api import GLMGam, BSplines\n",
        "# from statsmodels.gam.tests.test_penalized import df_autos\n",
        "\n",
        "# definir os splines para o modelo dentro do dataset\n",
        "# x_spline = df_autos[['weight', 'hp']]\n",
        "x_spline = df[['distance_log', 'sev']]\n",
        "\n",
        "'''\n",
        "instancie a classe, passando:\n",
        "- os dados\n",
        "- graus de liberdade\n",
        "- grau do spline\n",
        "'''\n",
        "# bs= BSplines(x_spline, df=[12, 10], degree=[3,3])\n",
        "bs= BSplines(x_spline, df=[3, 5], degree=[2, 4])\n",
        "\n",
        "# definir penalização, onde o comprimento da lista deve ser igual ao numero de termos regulares no smoother\n",
        "alpha = np.array([21833888.8, 6460.38479])\n",
        "# alpha = np.array([cnsultar no trabalho])\n",
        "\n",
        "'''\n",
        "crie  o modelo a partir de uma fórmula e dataframe, passando:\n",
        "- formula que especifica o modelo\n",
        "- dados do modelo\n",
        "- a instancia da classe\n",
        "- a penalidade do modelo, onde o comprimento deve ser igual ao smoother\n",
        "'''\n",
        "# gam_bs = GLMGam.from_formula('city_mpg ~ fuel + drive', data=df_autos, smoother=bs, alpha=alpha)\n",
        "gam_bs = GLMGam.from_formula('flood ~ distance_log + sev', data=df, smoother=bs, alpha=alpha)\n",
        "\n",
        "# estimar parãmetros e criar uma instancia da classe GLMGamResults\n",
        "res_bs = gam_bs.fit()\n",
        "\n",
        "# plotar as estimativas do modelo\n",
        "res_bs.plot_partial(0, cpr=True)\n",
        "res_bs.plot_partial(1, cpr=True)\n",
        "\n",
        "# alpha = np.array([8283989284.5829611, 14628207.58927821])\n",
        "\n",
        "# gam_bs = GLMGam.from_formula('city_mpg ~fuel + drive', data = df_autos, smoother=bs, alpha=alpha, family=sm.families.Poisson())\n",
        "\n",
        "# res_bs = gam_bs.fit()\n",
        "\n",
        "# res_bs.plot_partial(0, cpr=True)\n",
        "\n",
        "# res_bs.plot_partial(1, cpr=True)\n",
        "\n",
        "# gam_bs.select_penweight()[0]\n",
        "\n",
        "# gam_bs.select_penweight_kfold()[0]\n",
        "\n",
        "res_bs.summary()"
      ],
      "execution_count": 392,
      "outputs": [
        {
          "output_type": "execute_result",
          "data": {
            "text/html": [
              "<table class=\"simpletable\">\n",
              "<caption>Generalized Linear Model Regression Results</caption>\n",
              "<tr>\n",
              "  <th>Dep. Variable:</th>         <td>flood</td>      <th>  No. Observations:  </th>  <td> 27730</td> \n",
              "</tr>\n",
              "<tr>\n",
              "  <th>Model:</th>                <td>GLMGam</td>      <th>  Df Residuals:      </th> <td>27724.00</td>\n",
              "</tr>\n",
              "<tr>\n",
              "  <th>Model Family:</th>        <td>Gaussian</td>     <th>  Df Model:          </th> <td>    5.00</td>\n",
              "</tr>\n",
              "<tr>\n",
              "  <th>Link Function:</th>       <td>identity</td>     <th>  Scale:             </th> <td>0.010494</td>\n",
              "</tr>\n",
              "<tr>\n",
              "  <th>Method:</th>                <td>PIRLS</td>      <th>  Log-Likelihood:    </th> <td>  23838.</td>\n",
              "</tr>\n",
              "<tr>\n",
              "  <th>Date:</th>            <td>Wed, 04 Nov 2020</td> <th>  Deviance:          </th> <td>  290.93</td>\n",
              "</tr>\n",
              "<tr>\n",
              "  <th>Time:</th>                <td>14:45:04</td>     <th>  Pearson chi2:      </th>  <td>  291.</td> \n",
              "</tr>\n",
              "<tr>\n",
              "  <th>No. Iterations:</th>          <td>3</td>        <th>                     </th>     <td> </td>   \n",
              "</tr>\n",
              "<tr>\n",
              "  <th>Covariance Type:</th>     <td>nonrobust</td>    <th>                     </th>     <td> </td>   \n",
              "</tr>\n",
              "</table>\n",
              "<table class=\"simpletable\">\n",
              "<tr>\n",
              "         <td></td>            <th>coef</th>     <th>std err</th>      <th>z</th>      <th>P>|z|</th>  <th>[0.025</th>    <th>0.975]</th>  \n",
              "</tr>\n",
              "<tr>\n",
              "  <th>Intercept</th>       <td>    0.0118</td> <td>    0.001</td> <td>   14.636</td> <td> 0.000</td> <td>    0.010</td> <td>    0.013</td>\n",
              "</tr>\n",
              "<tr>\n",
              "  <th>distance_log</th>    <td>    0.0081</td> <td>    0.000</td> <td>   31.836</td> <td> 0.000</td> <td>    0.008</td> <td>    0.009</td>\n",
              "</tr>\n",
              "<tr>\n",
              "  <th>sev</th>             <td>-6.162e-06</td> <td> 1.76e-05</td> <td>   -0.349</td> <td> 0.727</td> <td>-4.07e-05</td> <td> 2.84e-05</td>\n",
              "</tr>\n",
              "<tr>\n",
              "  <th>distance_log_s0</th> <td>   -0.0156</td> <td>    0.001</td> <td>  -12.401</td> <td> 0.000</td> <td>   -0.018</td> <td>   -0.013</td>\n",
              "</tr>\n",
              "<tr>\n",
              "  <th>distance_log_s1</th> <td>   -0.0312</td> <td>    0.003</td> <td>  -12.401</td> <td> 0.000</td> <td>   -0.036</td> <td>   -0.026</td>\n",
              "</tr>\n",
              "<tr>\n",
              "  <th>sev_s0</th>          <td>   -0.1557</td> <td>    0.023</td> <td>   -6.797</td> <td> 0.000</td> <td>   -0.201</td> <td>   -0.111</td>\n",
              "</tr>\n",
              "<tr>\n",
              "  <th>sev_s1</th>          <td>    0.2188</td> <td>    0.014</td> <td>   15.326</td> <td> 0.000</td> <td>    0.191</td> <td>    0.247</td>\n",
              "</tr>\n",
              "<tr>\n",
              "  <th>sev_s2</th>          <td>   -0.2809</td> <td>    0.010</td> <td>  -28.512</td> <td> 0.000</td> <td>   -0.300</td> <td>   -0.262</td>\n",
              "</tr>\n",
              "<tr>\n",
              "  <th>sev_s3</th>          <td>    0.1479</td> <td>    0.006</td> <td>   26.712</td> <td> 0.000</td> <td>    0.137</td> <td>    0.159</td>\n",
              "</tr>\n",
              "</table>"
            ],
            "text/plain": [
              "<class 'statsmodels.iolib.summary.Summary'>\n",
              "\"\"\"\n",
              "                 Generalized Linear Model Regression Results                  \n",
              "==============================================================================\n",
              "Dep. Variable:                  flood   No. Observations:                27730\n",
              "Model:                         GLMGam   Df Residuals:                 27724.00\n",
              "Model Family:                Gaussian   Df Model:                         5.00\n",
              "Link Function:               identity   Scale:                        0.010494\n",
              "Method:                         PIRLS   Log-Likelihood:                 23838.\n",
              "Date:                Wed, 04 Nov 2020   Deviance:                       290.93\n",
              "Time:                        14:45:04   Pearson chi2:                     291.\n",
              "No. Iterations:                     3                                         \n",
              "Covariance Type:            nonrobust                                         \n",
              "===================================================================================\n",
              "                      coef    std err          z      P>|z|      [0.025      0.975]\n",
              "-----------------------------------------------------------------------------------\n",
              "Intercept           0.0118      0.001     14.636      0.000       0.010       0.013\n",
              "distance_log        0.0081      0.000     31.836      0.000       0.008       0.009\n",
              "sev             -6.162e-06   1.76e-05     -0.349      0.727   -4.07e-05    2.84e-05\n",
              "distance_log_s0    -0.0156      0.001    -12.401      0.000      -0.018      -0.013\n",
              "distance_log_s1    -0.0312      0.003    -12.401      0.000      -0.036      -0.026\n",
              "sev_s0             -0.1557      0.023     -6.797      0.000      -0.201      -0.111\n",
              "sev_s1              0.2188      0.014     15.326      0.000       0.191       0.247\n",
              "sev_s2             -0.2809      0.010    -28.512      0.000      -0.300      -0.262\n",
              "sev_s3              0.1479      0.006     26.712      0.000       0.137       0.159\n",
              "===================================================================================\n",
              "\"\"\""
            ]
          },
          "metadata": {
            "tags": []
          },
          "execution_count": 392
        },
        {
          "output_type": "display_data",
          "data": {
            "image/png": "[encoded data removed]",
            "text/plain": [
              "<Figure size 432x288 with 1 Axes>"
            ]
          },
          "metadata": {
            "tags": [],
            "needs_background": "light"
          }
        },
        {
          "output_type": "display_data",
          "data": {
            "image/png": "[encoded data removed]",
            "text/plain": [
              "<Figure size 432x288 with 1 Axes>"
            ]
          },
          "metadata": {
            "tags": [],
            "needs_background": "light"
          }
        }
      ]
    },
    {
      "cell_type": "markdown",
      "metadata": {
        "id": "ObYFnX6tpirK"
      },
      "source": [
        "### PyGAM"
      ]
    },
    {
      "cell_type": "code",
      "metadata": {
        "id": "d_NqkQcu_x_u"
      },
      "source": [
        "''' Documentação \n",
        "https://pygam.readthedocs.io/en/latest/notebooks/quick_start.html#Fit-a-Model\n",
        "Olhar artigos:\n",
        "https://codeburst.io/pygam-getting-started-with-generalized-additive-models-in-python-457df5b4705f\n",
        "e depois\n",
        "https://medium.com/just-another-data-scientist/building-interpretable-models-with-generalized-additive-models-in-python-c4404eaf5515\n",
        "'''\n",
        "# Teste PyGAM\n",
        "!pip install pygam"
      ],
      "execution_count": null,
      "outputs": []
    },
    {
      "cell_type": "code",
      "metadata": {
        "id": "9H7q-GKH_3xf",
        "outputId": "126003d0-f200-4e62-f522-e64bb24e2f94",
        "colab": {
          "base_uri": "https://localhost:8080/",
          "height": 297
        }
      },
      "source": [
        "import pandas as pd        \n",
        "from pygam import LogisticGAM\n",
        "from sklearn.datasets import load_breast_cancer\n",
        "#load the breast cancer data set\n",
        "data = load_breast_cancer()\n",
        "#keep first 6 features only\n",
        "df = pd.DataFrame(data.data, columns=data.feature_names)[['mean radius', 'mean texture', 'mean perimeter', 'mean area','mean smoothness', 'mean compactness']]\n",
        "target_df = pd.Series(data.target)\n",
        "df.describe()"
      ],
      "execution_count": 393,
      "outputs": [
        {
          "output_type": "execute_result",
          "data": {
            "text/html": [
              "<div>\n",
              "<style scoped>\n",
              "    .dataframe tbody tr th:only-of-type {\n",
              "        vertical-align: middle;\n",
              "    }\n",
              "\n",
              "    .dataframe tbody tr th {\n",
              "        vertical-align: top;\n",
              "    }\n",
              "\n",
              "    .dataframe thead th {\n",
              "        text-align: right;\n",
              "    }\n",
              "</style>\n",
              "<table border=\"1\" class=\"dataframe\">\n",
              "  <thead>\n",
              "    <tr style=\"text-align: right;\">\n",
              "      <th></th>\n",
              "      <th>mean radius</th>\n",
              "      <th>mean texture</th>\n",
              "      <th>mean perimeter</th>\n",
              "      <th>mean area</th>\n",
              "      <th>mean smoothness</th>\n",
              "      <th>mean compactness</th>\n",
              "    </tr>\n",
              "  </thead>\n",
              "  <tbody>\n",
              "    <tr>\n",
              "      <th>count</th>\n",
              "      <td>569.000000</td>\n",
              "      <td>569.000000</td>\n",
              "      <td>569.000000</td>\n",
              "      <td>569.000000</td>\n",
              "      <td>569.000000</td>\n",
              "      <td>569.000000</td>\n",
              "    </tr>\n",
              "    <tr>\n",
              "      <th>mean</th>\n",
              "      <td>14.127292</td>\n",
              "      <td>19.289649</td>\n",
              "      <td>91.969033</td>\n",
              "      <td>654.889104</td>\n",
              "      <td>0.096360</td>\n",
              "      <td>0.104341</td>\n",
              "    </tr>\n",
              "    <tr>\n",
              "      <th>std</th>\n",
              "      <td>3.524049</td>\n",
              "      <td>4.301036</td>\n",
              "      <td>24.298981</td>\n",
              "      <td>351.914129</td>\n",
              "      <td>0.014064</td>\n",
              "      <td>0.052813</td>\n",
              "    </tr>\n",
              "    <tr>\n",
              "      <th>min</th>\n",
              "      <td>6.981000</td>\n",
              "      <td>9.710000</td>\n",
              "      <td>43.790000</td>\n",
              "      <td>143.500000</td>\n",
              "      <td>0.052630</td>\n",
              "      <td>0.019380</td>\n",
              "    </tr>\n",
              "    <tr>\n",
              "      <th>25%</th>\n",
              "      <td>11.700000</td>\n",
              "      <td>16.170000</td>\n",
              "      <td>75.170000</td>\n",
              "      <td>420.300000</td>\n",
              "      <td>0.086370</td>\n",
              "      <td>0.064920</td>\n",
              "    </tr>\n",
              "    <tr>\n",
              "      <th>50%</th>\n",
              "      <td>13.370000</td>\n",
              "      <td>18.840000</td>\n",
              "      <td>86.240000</td>\n",
              "      <td>551.100000</td>\n",
              "      <td>0.095870</td>\n",
              "      <td>0.092630</td>\n",
              "    </tr>\n",
              "    <tr>\n",
              "      <th>75%</th>\n",
              "      <td>15.780000</td>\n",
              "      <td>21.800000</td>\n",
              "      <td>104.100000</td>\n",
              "      <td>782.700000</td>\n",
              "      <td>0.105300</td>\n",
              "      <td>0.130400</td>\n",
              "    </tr>\n",
              "    <tr>\n",
              "      <th>max</th>\n",
              "      <td>28.110000</td>\n",
              "      <td>39.280000</td>\n",
              "      <td>188.500000</td>\n",
              "      <td>2501.000000</td>\n",
              "      <td>0.163400</td>\n",
              "      <td>0.345400</td>\n",
              "    </tr>\n",
              "  </tbody>\n",
              "</table>\n",
              "</div>"
            ],
            "text/plain": [
              "       mean radius  mean texture  ...  mean smoothness  mean compactness\n",
              "count   569.000000    569.000000  ...       569.000000        569.000000\n",
              "mean     14.127292     19.289649  ...         0.096360          0.104341\n",
              "std       3.524049      4.301036  ...         0.014064          0.052813\n",
              "min       6.981000      9.710000  ...         0.052630          0.019380\n",
              "25%      11.700000     16.170000  ...         0.086370          0.064920\n",
              "50%      13.370000     18.840000  ...         0.095870          0.092630\n",
              "75%      15.780000     21.800000  ...         0.105300          0.130400\n",
              "max      28.110000     39.280000  ...         0.163400          0.345400\n",
              "\n",
              "[8 rows x 6 columns]"
            ]
          },
          "metadata": {
            "tags": []
          },
          "execution_count": 393
        }
      ]
    },
    {
      "cell_type": "code",
      "metadata": {
        "id": "Pax6YUoigyP8"
      },
      "source": [
        "X = df[['mean radius', 'mean texture', 'mean perimeter', 'mean area','mean smoothness', 'mean compactness']]\n",
        "y = target_df\n",
        "#Fit a model with the default parameters\n",
        "gam = LogisticGAM().fit(X, y)"
      ],
      "execution_count": 394,
      "outputs": []
    },
    {
      "cell_type": "code",
      "metadata": {
        "id": "KT7myRGwg1Qc",
        "outputId": "ac0b3c0b-a60b-48d8-820c-0f49f49b95f6",
        "colab": {
          "base_uri": "https://localhost:8080/"
        }
      },
      "source": [
        "gam.accuracy(X, y)"
      ],
      "execution_count": 395,
      "outputs": [
        {
          "output_type": "execute_result",
          "data": {
            "text/plain": [
              "0.9560632688927944"
            ]
          },
          "metadata": {
            "tags": []
          },
          "execution_count": 395
        }
      ]
    },
    {
      "cell_type": "code",
      "metadata": {
        "id": "PfiBZR6lg40H",
        "outputId": "1f66173e-478b-403c-b7d8-a9381971e379",
        "colab": {
          "base_uri": "https://localhost:8080/",
          "height": 370
        }
      },
      "source": [
        "import matplotlib.pyplot as plt\n",
        "\n",
        "for i, term in enumerate(gam.terms):\n",
        "  if term.isintercept:\n",
        "    continue\n",
        "\n",
        "XX = gam.generate_X_grid(term=i)\n",
        "plt.rcParams['figure.figsize'] = (28, 8)\n",
        "fig, axs = plt.subplots(1, len(data.feature_names[0:6]))\n",
        "titles = data.feature_names\n",
        "for i, ax in enumerate(axs):\n",
        "    pdep, confi = gam.partial_dependence(XX, feature=i+1, width=.95)\n",
        "    ax.plot(XX[:, i], pdep)\n",
        "    ax.plot(XX[:, i], confi[0][:, 0], c='grey', ls='--')\n",
        "    ax.plot(XX[:, i], confi[0][:, 1], c='grey', ls='--')\n",
        "    ax.set_title(titles[i])\n",
        "plt.show()"
      ],
      "execution_count": 406,
      "outputs": [
        {
          "output_type": "error",
          "ename": "ValueError",
          "evalue": "ignored",
          "traceback": [
            "\u001b[0;31m---------------------------------------------------------------------------\u001b[0m",
            "\u001b[0;31mValueError\u001b[0m                                Traceback (most recent call last)",
            "\u001b[0;32m<ipython-input-406-43c64d0464f1>\u001b[0m in \u001b[0;36m<module>\u001b[0;34m()\u001b[0m\n\u001b[1;32m      5\u001b[0m     \u001b[0;32mcontinue\u001b[0m\u001b[0;34m\u001b[0m\u001b[0;34m\u001b[0m\u001b[0m\n\u001b[1;32m      6\u001b[0m \u001b[0;34m\u001b[0m\u001b[0m\n\u001b[0;32m----> 7\u001b[0;31m \u001b[0mXX\u001b[0m \u001b[0;34m=\u001b[0m \u001b[0mgam\u001b[0m\u001b[0;34m.\u001b[0m\u001b[0mgenerate_X_grid\u001b[0m\u001b[0;34m(\u001b[0m\u001b[0mterm\u001b[0m\u001b[0;34m=\u001b[0m\u001b[0mi\u001b[0m\u001b[0;34m)\u001b[0m\u001b[0;34m\u001b[0m\u001b[0;34m\u001b[0m\u001b[0m\n\u001b[0m\u001b[1;32m      8\u001b[0m \u001b[0mplt\u001b[0m\u001b[0;34m.\u001b[0m\u001b[0mrcParams\u001b[0m\u001b[0;34m[\u001b[0m\u001b[0;34m'figure.figsize'\u001b[0m\u001b[0;34m]\u001b[0m \u001b[0;34m=\u001b[0m \u001b[0;34m(\u001b[0m\u001b[0;36m28\u001b[0m\u001b[0;34m,\u001b[0m \u001b[0;36m8\u001b[0m\u001b[0;34m)\u001b[0m\u001b[0;34m\u001b[0m\u001b[0;34m\u001b[0m\u001b[0m\n\u001b[1;32m      9\u001b[0m \u001b[0mfig\u001b[0m\u001b[0;34m,\u001b[0m \u001b[0maxs\u001b[0m \u001b[0;34m=\u001b[0m \u001b[0mplt\u001b[0m\u001b[0;34m.\u001b[0m\u001b[0msubplots\u001b[0m\u001b[0;34m(\u001b[0m\u001b[0;36m1\u001b[0m\u001b[0;34m,\u001b[0m \u001b[0mlen\u001b[0m\u001b[0;34m(\u001b[0m\u001b[0mdata\u001b[0m\u001b[0;34m.\u001b[0m\u001b[0mfeature_names\u001b[0m\u001b[0;34m[\u001b[0m\u001b[0;36m0\u001b[0m\u001b[0;34m:\u001b[0m\u001b[0;36m6\u001b[0m\u001b[0;34m]\u001b[0m\u001b[0;34m)\u001b[0m\u001b[0;34m)\u001b[0m\u001b[0;34m\u001b[0m\u001b[0;34m\u001b[0m\u001b[0m\n",
            "\u001b[0;32m/usr/local/lib/python3.6/dist-packages/pygam/pygam.py\u001b[0m in \u001b[0;36mgenerate_X_grid\u001b[0;34m(self, term, n, meshgrid)\u001b[0m\n\u001b[1;32m   1419\u001b[0m         \u001b[0;31m# cant do Intercept\u001b[0m\u001b[0;34m\u001b[0m\u001b[0;34m\u001b[0m\u001b[0;34m\u001b[0m\u001b[0m\n\u001b[1;32m   1420\u001b[0m         \u001b[0;32mif\u001b[0m \u001b[0mself\u001b[0m\u001b[0;34m.\u001b[0m\u001b[0mterms\u001b[0m\u001b[0;34m[\u001b[0m\u001b[0mterm\u001b[0m\u001b[0;34m]\u001b[0m\u001b[0;34m.\u001b[0m\u001b[0misintercept\u001b[0m\u001b[0;34m:\u001b[0m\u001b[0;34m\u001b[0m\u001b[0;34m\u001b[0m\u001b[0m\n\u001b[0;32m-> 1421\u001b[0;31m             \u001b[0;32mraise\u001b[0m \u001b[0mValueError\u001b[0m\u001b[0;34m(\u001b[0m\u001b[0;34m'cannot create grid for intercept term'\u001b[0m\u001b[0;34m)\u001b[0m\u001b[0;34m\u001b[0m\u001b[0;34m\u001b[0m\u001b[0m\n\u001b[0m\u001b[1;32m   1422\u001b[0m \u001b[0;34m\u001b[0m\u001b[0m\n\u001b[1;32m   1423\u001b[0m         \u001b[0;31m# process each subterm in a TensorTerm\u001b[0m\u001b[0;34m\u001b[0m\u001b[0;34m\u001b[0m\u001b[0;34m\u001b[0m\u001b[0m\n",
            "\u001b[0;31mValueError\u001b[0m: cannot create grid for intercept term"
          ]
        }
      ]
    },
    {
      "cell_type": "code",
      "metadata": {
        "id": "veeY-buXifQI"
      },
      "source": [
        "lambda_ = 0.6\n",
        "n_splines = [25, 6, 25, 25, 6, 4] \n",
        "constraints = None\n",
        "gam = LogisticGAM(constraints=constraints, \n",
        "          lam=lambda_,\n",
        "         n_splines=n_splines).fit(X, y)"
      ],
      "execution_count": 405,
      "outputs": []
    },
    {
      "cell_type": "code",
      "metadata": {
        "id": "K4sKWjs_imfq",
        "outputId": "6c5dfd30-6b24-48a3-cbd4-4e2c8c8fdd4f",
        "colab": {
          "base_uri": "https://localhost:8080/",
          "height": 394
        }
      },
      "source": [
        "gam = LogisticGAM().gridsearch(X, y)"
      ],
      "execution_count": 407,
      "outputs": [
        {
          "output_type": "error",
          "ename": "TypeError",
          "evalue": "ignored",
          "traceback": [
            "\u001b[0;31m---------------------------------------------------------------------------\u001b[0m",
            "\u001b[0;31mTypeError\u001b[0m                                 Traceback (most recent call last)",
            "\u001b[0;32m<ipython-input-407-ed87037ddc1c>\u001b[0m in \u001b[0;36m<module>\u001b[0;34m()\u001b[0m\n\u001b[0;32m----> 1\u001b[0;31m \u001b[0mgam\u001b[0m \u001b[0;34m=\u001b[0m \u001b[0mLogisticGAM\u001b[0m\u001b[0;34m(\u001b[0m\u001b[0;34m)\u001b[0m\u001b[0;34m.\u001b[0m\u001b[0mgridsearch\u001b[0m\u001b[0;34m(\u001b[0m\u001b[0mX\u001b[0m\u001b[0;34m,\u001b[0m \u001b[0my\u001b[0m\u001b[0;34m)\u001b[0m\u001b[0;34m\u001b[0m\u001b[0;34m\u001b[0m\u001b[0m\n\u001b[0m",
            "\u001b[0;32m/usr/local/lib/python3.6/dist-packages/pygam/pygam.py\u001b[0m in \u001b[0;36mgridsearch\u001b[0;34m(self, X, y, weights, return_scores, keep_best, objective, progress, **param_grids)\u001b[0m\n\u001b[1;32m   1771\u001b[0m         \u001b[0;32mif\u001b[0m \u001b[0;32mnot\u001b[0m \u001b[0mself\u001b[0m\u001b[0;34m.\u001b[0m\u001b[0m_is_fitted\u001b[0m\u001b[0;34m:\u001b[0m\u001b[0;34m\u001b[0m\u001b[0;34m\u001b[0m\u001b[0m\n\u001b[1;32m   1772\u001b[0m             \u001b[0mself\u001b[0m\u001b[0;34m.\u001b[0m\u001b[0m_validate_params\u001b[0m\u001b[0;34m(\u001b[0m\u001b[0;34m)\u001b[0m\u001b[0;34m\u001b[0m\u001b[0;34m\u001b[0m\u001b[0m\n\u001b[0;32m-> 1773\u001b[0;31m             \u001b[0mself\u001b[0m\u001b[0;34m.\u001b[0m\u001b[0m_validate_data_dep_params\u001b[0m\u001b[0;34m(\u001b[0m\u001b[0mX\u001b[0m\u001b[0;34m)\u001b[0m\u001b[0;34m\u001b[0m\u001b[0;34m\u001b[0m\u001b[0m\n\u001b[0m\u001b[1;32m   1774\u001b[0m \u001b[0;34m\u001b[0m\u001b[0m\n\u001b[1;32m   1775\u001b[0m         \u001b[0my\u001b[0m \u001b[0;34m=\u001b[0m \u001b[0mcheck_y\u001b[0m\u001b[0;34m(\u001b[0m\u001b[0my\u001b[0m\u001b[0;34m,\u001b[0m \u001b[0mself\u001b[0m\u001b[0;34m.\u001b[0m\u001b[0mlink\u001b[0m\u001b[0;34m,\u001b[0m \u001b[0mself\u001b[0m\u001b[0;34m.\u001b[0m\u001b[0mdistribution\u001b[0m\u001b[0;34m,\u001b[0m \u001b[0mverbose\u001b[0m\u001b[0;34m=\u001b[0m\u001b[0mself\u001b[0m\u001b[0;34m.\u001b[0m\u001b[0mverbose\u001b[0m\u001b[0;34m)\u001b[0m\u001b[0;34m\u001b[0m\u001b[0;34m\u001b[0m\u001b[0m\n",
            "\u001b[0;32m/usr/local/lib/python3.6/dist-packages/pygam/pygam.py\u001b[0m in \u001b[0;36m_validate_data_dep_params\u001b[0;34m(self, X)\u001b[0m\n\u001b[1;32m    302\u001b[0m             \u001b[0mdelattr\u001b[0m\u001b[0;34m(\u001b[0m\u001b[0mself\u001b[0m\u001b[0;34m,\u001b[0m \u001b[0mk\u001b[0m\u001b[0;34m)\u001b[0m\u001b[0;34m\u001b[0m\u001b[0;34m\u001b[0m\u001b[0m\n\u001b[1;32m    303\u001b[0m \u001b[0;34m\u001b[0m\u001b[0m\n\u001b[0;32m--> 304\u001b[0;31m         \u001b[0mself\u001b[0m\u001b[0;34m.\u001b[0m\u001b[0mterms\u001b[0m\u001b[0;34m.\u001b[0m\u001b[0mcompile\u001b[0m\u001b[0;34m(\u001b[0m\u001b[0mX\u001b[0m\u001b[0;34m)\u001b[0m\u001b[0;34m\u001b[0m\u001b[0;34m\u001b[0m\u001b[0m\n\u001b[0m\u001b[1;32m    305\u001b[0m \u001b[0;34m\u001b[0m\u001b[0m\n\u001b[1;32m    306\u001b[0m     \u001b[0;32mdef\u001b[0m \u001b[0mloglikelihood\u001b[0m\u001b[0;34m(\u001b[0m\u001b[0mself\u001b[0m\u001b[0;34m,\u001b[0m \u001b[0mX\u001b[0m\u001b[0;34m,\u001b[0m \u001b[0my\u001b[0m\u001b[0;34m,\u001b[0m \u001b[0mweights\u001b[0m\u001b[0;34m=\u001b[0m\u001b[0;32mNone\u001b[0m\u001b[0;34m)\u001b[0m\u001b[0;34m:\u001b[0m\u001b[0;34m\u001b[0m\u001b[0;34m\u001b[0m\u001b[0m\n",
            "\u001b[0;32m/usr/local/lib/python3.6/dist-packages/pygam/terms.py\u001b[0m in \u001b[0;36mcompile\u001b[0;34m(self, X, verbose)\u001b[0m\n\u001b[1;32m   1621\u001b[0m         \"\"\"\n\u001b[1;32m   1622\u001b[0m         \u001b[0;32mfor\u001b[0m \u001b[0mterm\u001b[0m \u001b[0;32min\u001b[0m \u001b[0mself\u001b[0m\u001b[0;34m.\u001b[0m\u001b[0m_terms\u001b[0m\u001b[0;34m:\u001b[0m\u001b[0;34m\u001b[0m\u001b[0;34m\u001b[0m\u001b[0m\n\u001b[0;32m-> 1623\u001b[0;31m             \u001b[0mterm\u001b[0m\u001b[0;34m.\u001b[0m\u001b[0mcompile\u001b[0m\u001b[0;34m(\u001b[0m\u001b[0mX\u001b[0m\u001b[0;34m,\u001b[0m \u001b[0mverbose\u001b[0m\u001b[0;34m=\u001b[0m\u001b[0mverbose\u001b[0m\u001b[0;34m)\u001b[0m\u001b[0;34m\u001b[0m\u001b[0;34m\u001b[0m\u001b[0m\n\u001b[0m\u001b[1;32m   1624\u001b[0m \u001b[0;34m\u001b[0m\u001b[0m\n\u001b[1;32m   1625\u001b[0m         \u001b[0;31m# now remove duplicate intercepts\u001b[0m\u001b[0;34m\u001b[0m\u001b[0;34m\u001b[0m\u001b[0;34m\u001b[0m\u001b[0m\n",
            "\u001b[0;32m/usr/local/lib/python3.6/dist-packages/pygam/terms.py\u001b[0m in \u001b[0;36mcompile\u001b[0;34m(self, X, verbose)\u001b[0m\n\u001b[1;32m    760\u001b[0m \u001b[0;34m\u001b[0m\u001b[0m\n\u001b[1;32m    761\u001b[0m         \u001b[0;32mif\u001b[0m \u001b[0;32mnot\u001b[0m \u001b[0mhasattr\u001b[0m\u001b[0;34m(\u001b[0m\u001b[0mself\u001b[0m\u001b[0;34m,\u001b[0m \u001b[0;34m'edge_knots_'\u001b[0m\u001b[0;34m)\u001b[0m\u001b[0;34m:\u001b[0m\u001b[0;34m\u001b[0m\u001b[0;34m\u001b[0m\u001b[0m\n\u001b[0;32m--> 762\u001b[0;31m             self.edge_knots_ = gen_edge_knots(X[:, self.feature],\n\u001b[0m\u001b[1;32m    763\u001b[0m                                               \u001b[0mself\u001b[0m\u001b[0;34m.\u001b[0m\u001b[0mdtype\u001b[0m\u001b[0;34m,\u001b[0m\u001b[0;34m\u001b[0m\u001b[0;34m\u001b[0m\u001b[0m\n\u001b[1;32m    764\u001b[0m                                               verbose=verbose)\n",
            "\u001b[0;32m/usr/local/lib/python3.6/dist-packages/pandas/core/frame.py\u001b[0m in \u001b[0;36m__getitem__\u001b[0;34m(self, key)\u001b[0m\n\u001b[1;32m   2900\u001b[0m             \u001b[0;32mif\u001b[0m \u001b[0mself\u001b[0m\u001b[0;34m.\u001b[0m\u001b[0mcolumns\u001b[0m\u001b[0;34m.\u001b[0m\u001b[0mnlevels\u001b[0m \u001b[0;34m>\u001b[0m \u001b[0;36m1\u001b[0m\u001b[0;34m:\u001b[0m\u001b[0;34m\u001b[0m\u001b[0;34m\u001b[0m\u001b[0m\n\u001b[1;32m   2901\u001b[0m                 \u001b[0;32mreturn\u001b[0m \u001b[0mself\u001b[0m\u001b[0;34m.\u001b[0m\u001b[0m_getitem_multilevel\u001b[0m\u001b[0;34m(\u001b[0m\u001b[0mkey\u001b[0m\u001b[0;34m)\u001b[0m\u001b[0;34m\u001b[0m\u001b[0;34m\u001b[0m\u001b[0m\n\u001b[0;32m-> 2902\u001b[0;31m             \u001b[0mindexer\u001b[0m \u001b[0;34m=\u001b[0m \u001b[0mself\u001b[0m\u001b[0;34m.\u001b[0m\u001b[0mcolumns\u001b[0m\u001b[0;34m.\u001b[0m\u001b[0mget_loc\u001b[0m\u001b[0;34m(\u001b[0m\u001b[0mkey\u001b[0m\u001b[0;34m)\u001b[0m\u001b[0;34m\u001b[0m\u001b[0;34m\u001b[0m\u001b[0m\n\u001b[0m\u001b[1;32m   2903\u001b[0m             \u001b[0;32mif\u001b[0m \u001b[0mis_integer\u001b[0m\u001b[0;34m(\u001b[0m\u001b[0mindexer\u001b[0m\u001b[0;34m)\u001b[0m\u001b[0;34m:\u001b[0m\u001b[0;34m\u001b[0m\u001b[0;34m\u001b[0m\u001b[0m\n\u001b[1;32m   2904\u001b[0m                 \u001b[0mindexer\u001b[0m \u001b[0;34m=\u001b[0m \u001b[0;34m[\u001b[0m\u001b[0mindexer\u001b[0m\u001b[0;34m]\u001b[0m\u001b[0;34m\u001b[0m\u001b[0;34m\u001b[0m\u001b[0m\n",
            "\u001b[0;32m/usr/local/lib/python3.6/dist-packages/pandas/core/indexes/base.py\u001b[0m in \u001b[0;36mget_loc\u001b[0;34m(self, key, method, tolerance)\u001b[0m\n\u001b[1;32m   2893\u001b[0m             \u001b[0mcasted_key\u001b[0m \u001b[0;34m=\u001b[0m \u001b[0mself\u001b[0m\u001b[0;34m.\u001b[0m\u001b[0m_maybe_cast_indexer\u001b[0m\u001b[0;34m(\u001b[0m\u001b[0mkey\u001b[0m\u001b[0;34m)\u001b[0m\u001b[0;34m\u001b[0m\u001b[0;34m\u001b[0m\u001b[0m\n\u001b[1;32m   2894\u001b[0m             \u001b[0;32mtry\u001b[0m\u001b[0;34m:\u001b[0m\u001b[0;34m\u001b[0m\u001b[0;34m\u001b[0m\u001b[0m\n\u001b[0;32m-> 2895\u001b[0;31m                 \u001b[0;32mreturn\u001b[0m \u001b[0mself\u001b[0m\u001b[0;34m.\u001b[0m\u001b[0m_engine\u001b[0m\u001b[0;34m.\u001b[0m\u001b[0mget_loc\u001b[0m\u001b[0;34m(\u001b[0m\u001b[0mcasted_key\u001b[0m\u001b[0;34m)\u001b[0m\u001b[0;34m\u001b[0m\u001b[0;34m\u001b[0m\u001b[0m\n\u001b[0m\u001b[1;32m   2896\u001b[0m             \u001b[0;32mexcept\u001b[0m \u001b[0mKeyError\u001b[0m \u001b[0;32mas\u001b[0m \u001b[0merr\u001b[0m\u001b[0;34m:\u001b[0m\u001b[0;34m\u001b[0m\u001b[0;34m\u001b[0m\u001b[0m\n\u001b[1;32m   2897\u001b[0m                 \u001b[0;32mraise\u001b[0m \u001b[0mKeyError\u001b[0m\u001b[0;34m(\u001b[0m\u001b[0mkey\u001b[0m\u001b[0;34m)\u001b[0m \u001b[0;32mfrom\u001b[0m \u001b[0merr\u001b[0m\u001b[0;34m\u001b[0m\u001b[0;34m\u001b[0m\u001b[0m\n",
            "\u001b[0;32mpandas/_libs/index.pyx\u001b[0m in \u001b[0;36mpandas._libs.index.IndexEngine.get_loc\u001b[0;34m()\u001b[0m\n",
            "\u001b[0;32mpandas/_libs/index.pyx\u001b[0m in \u001b[0;36mpandas._libs.index.IndexEngine.get_loc\u001b[0;34m()\u001b[0m\n",
            "\u001b[0;31mTypeError\u001b[0m: '(slice(None, None, None), 0)' is an invalid key"
          ]
        }
      ]
    },
    {
      "cell_type": "code",
      "metadata": {
        "id": "27pB7USXix7p",
        "outputId": "776ceab3-bb18-4c84-905c-6bad42950955",
        "colab": {
          "base_uri": "https://localhost:8080/",
          "height": 430
        }
      },
      "source": [
        "import numpy as np\n",
        "from sklearn.model_selection import train_test_split\n",
        "X_train, X_test, y_train, y_test = train_test_split(X, y, test_size=0.33, random_state=42)\n",
        "gam = LogisticGAM().gridsearch(X_train, y_train)"
      ],
      "execution_count": 408,
      "outputs": [
        {
          "output_type": "error",
          "ename": "TypeError",
          "evalue": "ignored",
          "traceback": [
            "\u001b[0;31m---------------------------------------------------------------------------\u001b[0m",
            "\u001b[0;31mTypeError\u001b[0m                                 Traceback (most recent call last)",
            "\u001b[0;32m<ipython-input-408-d6d74ace352e>\u001b[0m in \u001b[0;36m<module>\u001b[0;34m()\u001b[0m\n\u001b[1;32m      2\u001b[0m \u001b[0;32mfrom\u001b[0m \u001b[0msklearn\u001b[0m\u001b[0;34m.\u001b[0m\u001b[0mmodel_selection\u001b[0m \u001b[0;32mimport\u001b[0m \u001b[0mtrain_test_split\u001b[0m\u001b[0;34m\u001b[0m\u001b[0;34m\u001b[0m\u001b[0m\n\u001b[1;32m      3\u001b[0m \u001b[0mX_train\u001b[0m\u001b[0;34m,\u001b[0m \u001b[0mX_test\u001b[0m\u001b[0;34m,\u001b[0m \u001b[0my_train\u001b[0m\u001b[0;34m,\u001b[0m \u001b[0my_test\u001b[0m \u001b[0;34m=\u001b[0m \u001b[0mtrain_test_split\u001b[0m\u001b[0;34m(\u001b[0m\u001b[0mX\u001b[0m\u001b[0;34m,\u001b[0m \u001b[0my\u001b[0m\u001b[0;34m,\u001b[0m \u001b[0mtest_size\u001b[0m\u001b[0;34m=\u001b[0m\u001b[0;36m0.33\u001b[0m\u001b[0;34m,\u001b[0m \u001b[0mrandom_state\u001b[0m\u001b[0;34m=\u001b[0m\u001b[0;36m42\u001b[0m\u001b[0;34m)\u001b[0m\u001b[0;34m\u001b[0m\u001b[0;34m\u001b[0m\u001b[0m\n\u001b[0;32m----> 4\u001b[0;31m \u001b[0mgam\u001b[0m \u001b[0;34m=\u001b[0m \u001b[0mLogisticGAM\u001b[0m\u001b[0;34m(\u001b[0m\u001b[0;34m)\u001b[0m\u001b[0;34m.\u001b[0m\u001b[0mgridsearch\u001b[0m\u001b[0;34m(\u001b[0m\u001b[0mX_train\u001b[0m\u001b[0;34m,\u001b[0m \u001b[0my_train\u001b[0m\u001b[0;34m)\u001b[0m\u001b[0;34m\u001b[0m\u001b[0;34m\u001b[0m\u001b[0m\n\u001b[0m",
            "\u001b[0;32m/usr/local/lib/python3.6/dist-packages/pygam/pygam.py\u001b[0m in \u001b[0;36mgridsearch\u001b[0;34m(self, X, y, weights, return_scores, keep_best, objective, progress, **param_grids)\u001b[0m\n\u001b[1;32m   1771\u001b[0m         \u001b[0;32mif\u001b[0m \u001b[0;32mnot\u001b[0m \u001b[0mself\u001b[0m\u001b[0;34m.\u001b[0m\u001b[0m_is_fitted\u001b[0m\u001b[0;34m:\u001b[0m\u001b[0;34m\u001b[0m\u001b[0;34m\u001b[0m\u001b[0m\n\u001b[1;32m   1772\u001b[0m             \u001b[0mself\u001b[0m\u001b[0;34m.\u001b[0m\u001b[0m_validate_params\u001b[0m\u001b[0;34m(\u001b[0m\u001b[0;34m)\u001b[0m\u001b[0;34m\u001b[0m\u001b[0;34m\u001b[0m\u001b[0m\n\u001b[0;32m-> 1773\u001b[0;31m             \u001b[0mself\u001b[0m\u001b[0;34m.\u001b[0m\u001b[0m_validate_data_dep_params\u001b[0m\u001b[0;34m(\u001b[0m\u001b[0mX\u001b[0m\u001b[0;34m)\u001b[0m\u001b[0;34m\u001b[0m\u001b[0;34m\u001b[0m\u001b[0m\n\u001b[0m\u001b[1;32m   1774\u001b[0m \u001b[0;34m\u001b[0m\u001b[0m\n\u001b[1;32m   1775\u001b[0m         \u001b[0my\u001b[0m \u001b[0;34m=\u001b[0m \u001b[0mcheck_y\u001b[0m\u001b[0;34m(\u001b[0m\u001b[0my\u001b[0m\u001b[0;34m,\u001b[0m \u001b[0mself\u001b[0m\u001b[0;34m.\u001b[0m\u001b[0mlink\u001b[0m\u001b[0;34m,\u001b[0m \u001b[0mself\u001b[0m\u001b[0;34m.\u001b[0m\u001b[0mdistribution\u001b[0m\u001b[0;34m,\u001b[0m \u001b[0mverbose\u001b[0m\u001b[0;34m=\u001b[0m\u001b[0mself\u001b[0m\u001b[0;34m.\u001b[0m\u001b[0mverbose\u001b[0m\u001b[0;34m)\u001b[0m\u001b[0;34m\u001b[0m\u001b[0;34m\u001b[0m\u001b[0m\n",
            "\u001b[0;32m/usr/local/lib/python3.6/dist-packages/pygam/pygam.py\u001b[0m in \u001b[0;36m_validate_data_dep_params\u001b[0;34m(self, X)\u001b[0m\n\u001b[1;32m    302\u001b[0m             \u001b[0mdelattr\u001b[0m\u001b[0;34m(\u001b[0m\u001b[0mself\u001b[0m\u001b[0;34m,\u001b[0m \u001b[0mk\u001b[0m\u001b[0;34m)\u001b[0m\u001b[0;34m\u001b[0m\u001b[0;34m\u001b[0m\u001b[0m\n\u001b[1;32m    303\u001b[0m \u001b[0;34m\u001b[0m\u001b[0m\n\u001b[0;32m--> 304\u001b[0;31m         \u001b[0mself\u001b[0m\u001b[0;34m.\u001b[0m\u001b[0mterms\u001b[0m\u001b[0;34m.\u001b[0m\u001b[0mcompile\u001b[0m\u001b[0;34m(\u001b[0m\u001b[0mX\u001b[0m\u001b[0;34m)\u001b[0m\u001b[0;34m\u001b[0m\u001b[0;34m\u001b[0m\u001b[0m\n\u001b[0m\u001b[1;32m    305\u001b[0m \u001b[0;34m\u001b[0m\u001b[0m\n\u001b[1;32m    306\u001b[0m     \u001b[0;32mdef\u001b[0m \u001b[0mloglikelihood\u001b[0m\u001b[0;34m(\u001b[0m\u001b[0mself\u001b[0m\u001b[0;34m,\u001b[0m \u001b[0mX\u001b[0m\u001b[0;34m,\u001b[0m \u001b[0my\u001b[0m\u001b[0;34m,\u001b[0m \u001b[0mweights\u001b[0m\u001b[0;34m=\u001b[0m\u001b[0;32mNone\u001b[0m\u001b[0;34m)\u001b[0m\u001b[0;34m:\u001b[0m\u001b[0;34m\u001b[0m\u001b[0;34m\u001b[0m\u001b[0m\n",
            "\u001b[0;32m/usr/local/lib/python3.6/dist-packages/pygam/terms.py\u001b[0m in \u001b[0;36mcompile\u001b[0;34m(self, X, verbose)\u001b[0m\n\u001b[1;32m   1621\u001b[0m         \"\"\"\n\u001b[1;32m   1622\u001b[0m         \u001b[0;32mfor\u001b[0m \u001b[0mterm\u001b[0m \u001b[0;32min\u001b[0m \u001b[0mself\u001b[0m\u001b[0;34m.\u001b[0m\u001b[0m_terms\u001b[0m\u001b[0;34m:\u001b[0m\u001b[0;34m\u001b[0m\u001b[0;34m\u001b[0m\u001b[0m\n\u001b[0;32m-> 1623\u001b[0;31m             \u001b[0mterm\u001b[0m\u001b[0;34m.\u001b[0m\u001b[0mcompile\u001b[0m\u001b[0;34m(\u001b[0m\u001b[0mX\u001b[0m\u001b[0;34m,\u001b[0m \u001b[0mverbose\u001b[0m\u001b[0;34m=\u001b[0m\u001b[0mverbose\u001b[0m\u001b[0;34m)\u001b[0m\u001b[0;34m\u001b[0m\u001b[0;34m\u001b[0m\u001b[0m\n\u001b[0m\u001b[1;32m   1624\u001b[0m \u001b[0;34m\u001b[0m\u001b[0m\n\u001b[1;32m   1625\u001b[0m         \u001b[0;31m# now remove duplicate intercepts\u001b[0m\u001b[0;34m\u001b[0m\u001b[0;34m\u001b[0m\u001b[0;34m\u001b[0m\u001b[0m\n",
            "\u001b[0;32m/usr/local/lib/python3.6/dist-packages/pygam/terms.py\u001b[0m in \u001b[0;36mcompile\u001b[0;34m(self, X, verbose)\u001b[0m\n\u001b[1;32m    760\u001b[0m \u001b[0;34m\u001b[0m\u001b[0m\n\u001b[1;32m    761\u001b[0m         \u001b[0;32mif\u001b[0m \u001b[0;32mnot\u001b[0m \u001b[0mhasattr\u001b[0m\u001b[0;34m(\u001b[0m\u001b[0mself\u001b[0m\u001b[0;34m,\u001b[0m \u001b[0;34m'edge_knots_'\u001b[0m\u001b[0;34m)\u001b[0m\u001b[0;34m:\u001b[0m\u001b[0;34m\u001b[0m\u001b[0;34m\u001b[0m\u001b[0m\n\u001b[0;32m--> 762\u001b[0;31m             self.edge_knots_ = gen_edge_knots(X[:, self.feature],\n\u001b[0m\u001b[1;32m    763\u001b[0m                                               \u001b[0mself\u001b[0m\u001b[0;34m.\u001b[0m\u001b[0mdtype\u001b[0m\u001b[0;34m,\u001b[0m\u001b[0;34m\u001b[0m\u001b[0;34m\u001b[0m\u001b[0m\n\u001b[1;32m    764\u001b[0m                                               verbose=verbose)\n",
            "\u001b[0;32m/usr/local/lib/python3.6/dist-packages/pandas/core/frame.py\u001b[0m in \u001b[0;36m__getitem__\u001b[0;34m(self, key)\u001b[0m\n\u001b[1;32m   2900\u001b[0m             \u001b[0;32mif\u001b[0m \u001b[0mself\u001b[0m\u001b[0;34m.\u001b[0m\u001b[0mcolumns\u001b[0m\u001b[0;34m.\u001b[0m\u001b[0mnlevels\u001b[0m \u001b[0;34m>\u001b[0m \u001b[0;36m1\u001b[0m\u001b[0;34m:\u001b[0m\u001b[0;34m\u001b[0m\u001b[0;34m\u001b[0m\u001b[0m\n\u001b[1;32m   2901\u001b[0m                 \u001b[0;32mreturn\u001b[0m \u001b[0mself\u001b[0m\u001b[0;34m.\u001b[0m\u001b[0m_getitem_multilevel\u001b[0m\u001b[0;34m(\u001b[0m\u001b[0mkey\u001b[0m\u001b[0;34m)\u001b[0m\u001b[0;34m\u001b[0m\u001b[0;34m\u001b[0m\u001b[0m\n\u001b[0;32m-> 2902\u001b[0;31m             \u001b[0mindexer\u001b[0m \u001b[0;34m=\u001b[0m \u001b[0mself\u001b[0m\u001b[0;34m.\u001b[0m\u001b[0mcolumns\u001b[0m\u001b[0;34m.\u001b[0m\u001b[0mget_loc\u001b[0m\u001b[0;34m(\u001b[0m\u001b[0mkey\u001b[0m\u001b[0;34m)\u001b[0m\u001b[0;34m\u001b[0m\u001b[0;34m\u001b[0m\u001b[0m\n\u001b[0m\u001b[1;32m   2903\u001b[0m             \u001b[0;32mif\u001b[0m \u001b[0mis_integer\u001b[0m\u001b[0;34m(\u001b[0m\u001b[0mindexer\u001b[0m\u001b[0;34m)\u001b[0m\u001b[0;34m:\u001b[0m\u001b[0;34m\u001b[0m\u001b[0;34m\u001b[0m\u001b[0m\n\u001b[1;32m   2904\u001b[0m                 \u001b[0mindexer\u001b[0m \u001b[0;34m=\u001b[0m \u001b[0;34m[\u001b[0m\u001b[0mindexer\u001b[0m\u001b[0;34m]\u001b[0m\u001b[0;34m\u001b[0m\u001b[0;34m\u001b[0m\u001b[0m\n",
            "\u001b[0;32m/usr/local/lib/python3.6/dist-packages/pandas/core/indexes/base.py\u001b[0m in \u001b[0;36mget_loc\u001b[0;34m(self, key, method, tolerance)\u001b[0m\n\u001b[1;32m   2893\u001b[0m             \u001b[0mcasted_key\u001b[0m \u001b[0;34m=\u001b[0m \u001b[0mself\u001b[0m\u001b[0;34m.\u001b[0m\u001b[0m_maybe_cast_indexer\u001b[0m\u001b[0;34m(\u001b[0m\u001b[0mkey\u001b[0m\u001b[0;34m)\u001b[0m\u001b[0;34m\u001b[0m\u001b[0;34m\u001b[0m\u001b[0m\n\u001b[1;32m   2894\u001b[0m             \u001b[0;32mtry\u001b[0m\u001b[0;34m:\u001b[0m\u001b[0;34m\u001b[0m\u001b[0;34m\u001b[0m\u001b[0m\n\u001b[0;32m-> 2895\u001b[0;31m                 \u001b[0;32mreturn\u001b[0m \u001b[0mself\u001b[0m\u001b[0;34m.\u001b[0m\u001b[0m_engine\u001b[0m\u001b[0;34m.\u001b[0m\u001b[0mget_loc\u001b[0m\u001b[0;34m(\u001b[0m\u001b[0mcasted_key\u001b[0m\u001b[0;34m)\u001b[0m\u001b[0;34m\u001b[0m\u001b[0;34m\u001b[0m\u001b[0m\n\u001b[0m\u001b[1;32m   2896\u001b[0m             \u001b[0;32mexcept\u001b[0m \u001b[0mKeyError\u001b[0m \u001b[0;32mas\u001b[0m \u001b[0merr\u001b[0m\u001b[0;34m:\u001b[0m\u001b[0;34m\u001b[0m\u001b[0;34m\u001b[0m\u001b[0m\n\u001b[1;32m   2897\u001b[0m                 \u001b[0;32mraise\u001b[0m \u001b[0mKeyError\u001b[0m\u001b[0;34m(\u001b[0m\u001b[0mkey\u001b[0m\u001b[0;34m)\u001b[0m \u001b[0;32mfrom\u001b[0m \u001b[0merr\u001b[0m\u001b[0;34m\u001b[0m\u001b[0;34m\u001b[0m\u001b[0m\n",
            "\u001b[0;32mpandas/_libs/index.pyx\u001b[0m in \u001b[0;36mpandas._libs.index.IndexEngine.get_loc\u001b[0;34m()\u001b[0m\n",
            "\u001b[0;32mpandas/_libs/index.pyx\u001b[0m in \u001b[0;36mpandas._libs.index.IndexEngine.get_loc\u001b[0;34m()\u001b[0m\n",
            "\u001b[0;31mTypeError\u001b[0m: '(slice(None, None, None), 0)' is an invalid key"
          ]
        }
      ]
    },
    {
      "cell_type": "code",
      "metadata": {
        "id": "nqKD_Xdui56F",
        "outputId": "b1b5cf43-321e-4c1b-f4d0-6361cf3e6d9a",
        "colab": {
          "base_uri": "https://localhost:8080/"
        }
      },
      "source": [
        "from sklearn.metrics import accuracy_score\n",
        "from sklearn.metrics import log_loss\n",
        "predictions = gam.predict(X_test)\n",
        "print(\"Accuracy: {} \".format(accuracy_score(y_test, predictions)))\n",
        "probas = gam.predict_proba(X_test)      \n",
        "print(\"Log Loss: {} \".format(log_loss(y_test, probas)))"
      ],
      "execution_count": 409,
      "outputs": [
        {
          "output_type": "stream",
          "text": [
            "Accuracy: 0.9574468085106383 \n",
            "Log Loss: 0.097103438068048 \n"
          ],
          "name": "stdout"
        }
      ]
    },
    {
      "cell_type": "code",
      "metadata": {
        "id": "zhZrKKEmi86A",
        "outputId": "1d7a149b-a4aa-49ec-ff06-5fb022754a6e",
        "colab": {
          "base_uri": "https://localhost:8080/",
          "height": 394
        }
      },
      "source": [
        "lambda_ = [0.6, 0.6, 0.6, 0.6, 0.6, 0.6]\n",
        "n_splines = [4, 14, 4, 6, 12, 12] \n",
        "constraints = [None, None, None, None, None, None]\n",
        "X_train, X_test, y_train, y_test = train_test_split(X, y, test_size=0.33, random_state=42)\n",
        "gam = LogisticGAM(constraints=constraints, \n",
        "                  lam=lambda_,\n",
        "                 n_splines=n_splines).train(X_train, y_train)\n",
        "predictions = gam.predict(X_test)\n",
        "print(\"Accuracy: {} \".format(accuracy_score(y_test, predictions)))\n",
        "probas = gam.predict_proba(X_test)      \n",
        "print(\"Log Loss: {} \".format(log_loss(y_test, probas)))"
      ],
      "execution_count": 410,
      "outputs": [
        {
          "output_type": "error",
          "ename": "AttributeError",
          "evalue": "ignored",
          "traceback": [
            "\u001b[0;31m---------------------------------------------------------------------------\u001b[0m",
            "\u001b[0;31mAttributeError\u001b[0m                            Traceback (most recent call last)",
            "\u001b[0;32m<ipython-input-410-4ba431848140>\u001b[0m in \u001b[0;36m<module>\u001b[0;34m()\u001b[0m\n\u001b[1;32m      5\u001b[0m gam = LogisticGAM(constraints=constraints, \n\u001b[1;32m      6\u001b[0m                   \u001b[0mlam\u001b[0m\u001b[0;34m=\u001b[0m\u001b[0mlambda_\u001b[0m\u001b[0;34m,\u001b[0m\u001b[0;34m\u001b[0m\u001b[0;34m\u001b[0m\u001b[0m\n\u001b[0;32m----> 7\u001b[0;31m                  n_splines=n_splines).train(X_train, y_train)\n\u001b[0m\u001b[1;32m      8\u001b[0m \u001b[0mpredictions\u001b[0m \u001b[0;34m=\u001b[0m \u001b[0mgam\u001b[0m\u001b[0;34m.\u001b[0m\u001b[0mpredict\u001b[0m\u001b[0;34m(\u001b[0m\u001b[0mX_test\u001b[0m\u001b[0;34m)\u001b[0m\u001b[0;34m\u001b[0m\u001b[0;34m\u001b[0m\u001b[0m\n\u001b[1;32m      9\u001b[0m \u001b[0mprint\u001b[0m\u001b[0;34m(\u001b[0m\u001b[0;34m\"Accuracy: {} \"\u001b[0m\u001b[0;34m.\u001b[0m\u001b[0mformat\u001b[0m\u001b[0;34m(\u001b[0m\u001b[0maccuracy_score\u001b[0m\u001b[0;34m(\u001b[0m\u001b[0my_test\u001b[0m\u001b[0;34m,\u001b[0m \u001b[0mpredictions\u001b[0m\u001b[0;34m)\u001b[0m\u001b[0;34m)\u001b[0m\u001b[0;34m)\u001b[0m\u001b[0;34m\u001b[0m\u001b[0;34m\u001b[0m\u001b[0m\n",
            "\u001b[0;32m/usr/local/lib/python3.6/dist-packages/pygam/terms.py\u001b[0m in \u001b[0;36m__getattr__\u001b[0;34m(self, name)\u001b[0m\n\u001b[1;32m   1025\u001b[0m             \u001b[0;32mreturn\u001b[0m \u001b[0mvalues\u001b[0m\u001b[0;34m\u001b[0m\u001b[0;34m\u001b[0m\u001b[0m\n\u001b[1;32m   1026\u001b[0m \u001b[0;34m\u001b[0m\u001b[0m\n\u001b[0;32m-> 1027\u001b[0;31m         \u001b[0;32mreturn\u001b[0m \u001b[0mself\u001b[0m\u001b[0;34m.\u001b[0m\u001b[0m_super_get\u001b[0m\u001b[0;34m(\u001b[0m\u001b[0mname\u001b[0m\u001b[0;34m)\u001b[0m\u001b[0;34m\u001b[0m\u001b[0;34m\u001b[0m\u001b[0m\n\u001b[0m\u001b[1;32m   1028\u001b[0m \u001b[0;34m\u001b[0m\u001b[0m\n\u001b[1;32m   1029\u001b[0m \u001b[0;34m\u001b[0m\u001b[0m\n",
            "\u001b[0;32m/usr/local/lib/python3.6/dist-packages/pygam/terms.py\u001b[0m in \u001b[0;36m_super_get\u001b[0;34m(self, name)\u001b[0m\n\u001b[1;32m    946\u001b[0m \u001b[0;34m\u001b[0m\u001b[0m\n\u001b[1;32m    947\u001b[0m     \u001b[0;32mdef\u001b[0m \u001b[0m_super_get\u001b[0m\u001b[0;34m(\u001b[0m\u001b[0mself\u001b[0m\u001b[0;34m,\u001b[0m \u001b[0mname\u001b[0m\u001b[0;34m)\u001b[0m\u001b[0;34m:\u001b[0m\u001b[0;34m\u001b[0m\u001b[0;34m\u001b[0m\u001b[0m\n\u001b[0;32m--> 948\u001b[0;31m         \u001b[0;32mreturn\u001b[0m \u001b[0msuper\u001b[0m\u001b[0;34m(\u001b[0m\u001b[0mMetaTermMixin\u001b[0m\u001b[0;34m,\u001b[0m \u001b[0mself\u001b[0m\u001b[0;34m)\u001b[0m\u001b[0;34m.\u001b[0m\u001b[0m__getattribute__\u001b[0m\u001b[0;34m(\u001b[0m\u001b[0mname\u001b[0m\u001b[0;34m)\u001b[0m\u001b[0;34m\u001b[0m\u001b[0;34m\u001b[0m\u001b[0m\n\u001b[0m\u001b[1;32m    949\u001b[0m \u001b[0;34m\u001b[0m\u001b[0m\n\u001b[1;32m    950\u001b[0m     \u001b[0;32mdef\u001b[0m \u001b[0m_super_has\u001b[0m\u001b[0;34m(\u001b[0m\u001b[0mself\u001b[0m\u001b[0;34m,\u001b[0m \u001b[0mname\u001b[0m\u001b[0;34m)\u001b[0m\u001b[0;34m:\u001b[0m\u001b[0;34m\u001b[0m\u001b[0;34m\u001b[0m\u001b[0m\n",
            "\u001b[0;31mAttributeError\u001b[0m: 'LogisticGAM' object has no attribute 'train'"
          ]
        }
      ]
    },
    {
      "cell_type": "code",
      "metadata": {
        "id": "NJrtTS-6jBXC",
        "outputId": "c237bb89-19ab-47f4-8c87-ca18aa4774a1",
        "colab": {
          "base_uri": "https://localhost:8080/",
          "height": 204
        }
      },
      "source": [
        "from sklearn.datasets import load_boston\n",
        "boston = load_boston()\n",
        "df = pd.DataFrame(boston.data, columns=boston.feature_names)\n",
        "target_df = pd.Series(boston.target)\n",
        "df.head()"
      ],
      "execution_count": 411,
      "outputs": [
        {
          "output_type": "execute_result",
          "data": {
            "text/html": [
              "<div>\n",
              "<style scoped>\n",
              "    .dataframe tbody tr th:only-of-type {\n",
              "        vertical-align: middle;\n",
              "    }\n",
              "\n",
              "    .dataframe tbody tr th {\n",
              "        vertical-align: top;\n",
              "    }\n",
              "\n",
              "    .dataframe thead th {\n",
              "        text-align: right;\n",
              "    }\n",
              "</style>\n",
              "<table border=\"1\" class=\"dataframe\">\n",
              "  <thead>\n",
              "    <tr style=\"text-align: right;\">\n",
              "      <th></th>\n",
              "      <th>CRIM</th>\n",
              "      <th>ZN</th>\n",
              "      <th>INDUS</th>\n",
              "      <th>CHAS</th>\n",
              "      <th>NOX</th>\n",
              "      <th>RM</th>\n",
              "      <th>AGE</th>\n",
              "      <th>DIS</th>\n",
              "      <th>RAD</th>\n",
              "      <th>TAX</th>\n",
              "      <th>PTRATIO</th>\n",
              "      <th>B</th>\n",
              "      <th>LSTAT</th>\n",
              "    </tr>\n",
              "  </thead>\n",
              "  <tbody>\n",
              "    <tr>\n",
              "      <th>0</th>\n",
              "      <td>0.00632</td>\n",
              "      <td>18.0</td>\n",
              "      <td>2.31</td>\n",
              "      <td>0.0</td>\n",
              "      <td>0.538</td>\n",
              "      <td>6.575</td>\n",
              "      <td>65.2</td>\n",
              "      <td>4.0900</td>\n",
              "      <td>1.0</td>\n",
              "      <td>296.0</td>\n",
              "      <td>15.3</td>\n",
              "      <td>396.90</td>\n",
              "      <td>4.98</td>\n",
              "    </tr>\n",
              "    <tr>\n",
              "      <th>1</th>\n",
              "      <td>0.02731</td>\n",
              "      <td>0.0</td>\n",
              "      <td>7.07</td>\n",
              "      <td>0.0</td>\n",
              "      <td>0.469</td>\n",
              "      <td>6.421</td>\n",
              "      <td>78.9</td>\n",
              "      <td>4.9671</td>\n",
              "      <td>2.0</td>\n",
              "      <td>242.0</td>\n",
              "      <td>17.8</td>\n",
              "      <td>396.90</td>\n",
              "      <td>9.14</td>\n",
              "    </tr>\n",
              "    <tr>\n",
              "      <th>2</th>\n",
              "      <td>0.02729</td>\n",
              "      <td>0.0</td>\n",
              "      <td>7.07</td>\n",
              "      <td>0.0</td>\n",
              "      <td>0.469</td>\n",
              "      <td>7.185</td>\n",
              "      <td>61.1</td>\n",
              "      <td>4.9671</td>\n",
              "      <td>2.0</td>\n",
              "      <td>242.0</td>\n",
              "      <td>17.8</td>\n",
              "      <td>392.83</td>\n",
              "      <td>4.03</td>\n",
              "    </tr>\n",
              "    <tr>\n",
              "      <th>3</th>\n",
              "      <td>0.03237</td>\n",
              "      <td>0.0</td>\n",
              "      <td>2.18</td>\n",
              "      <td>0.0</td>\n",
              "      <td>0.458</td>\n",
              "      <td>6.998</td>\n",
              "      <td>45.8</td>\n",
              "      <td>6.0622</td>\n",
              "      <td>3.0</td>\n",
              "      <td>222.0</td>\n",
              "      <td>18.7</td>\n",
              "      <td>394.63</td>\n",
              "      <td>2.94</td>\n",
              "    </tr>\n",
              "    <tr>\n",
              "      <th>4</th>\n",
              "      <td>0.06905</td>\n",
              "      <td>0.0</td>\n",
              "      <td>2.18</td>\n",
              "      <td>0.0</td>\n",
              "      <td>0.458</td>\n",
              "      <td>7.147</td>\n",
              "      <td>54.2</td>\n",
              "      <td>6.0622</td>\n",
              "      <td>3.0</td>\n",
              "      <td>222.0</td>\n",
              "      <td>18.7</td>\n",
              "      <td>396.90</td>\n",
              "      <td>5.33</td>\n",
              "    </tr>\n",
              "  </tbody>\n",
              "</table>\n",
              "</div>"
            ],
            "text/plain": [
              "      CRIM    ZN  INDUS  CHAS    NOX  ...  RAD    TAX  PTRATIO       B  LSTAT\n",
              "0  0.00632  18.0   2.31   0.0  0.538  ...  1.0  296.0     15.3  396.90   4.98\n",
              "1  0.02731   0.0   7.07   0.0  0.469  ...  2.0  242.0     17.8  396.90   9.14\n",
              "2  0.02729   0.0   7.07   0.0  0.469  ...  2.0  242.0     17.8  392.83   4.03\n",
              "3  0.03237   0.0   2.18   0.0  0.458  ...  3.0  222.0     18.7  394.63   2.94\n",
              "4  0.06905   0.0   2.18   0.0  0.458  ...  3.0  222.0     18.7  396.90   5.33\n",
              "\n",
              "[5 rows x 13 columns]"
            ]
          },
          "metadata": {
            "tags": []
          },
          "execution_count": 411
        }
      ]
    },
    {
      "cell_type": "code",
      "metadata": {
        "id": "gLIAWyMIjD3-",
        "outputId": "41e1b011-2a6a-42e2-cb09-6f30b19eabcd",
        "colab": {
          "base_uri": "https://localhost:8080/",
          "height": 226
        }
      },
      "source": [
        "X = df\n",
        "y = target_df\n",
        "gam = LinearGAM(n_splines=10).gridsearch(X, y)\n",
        "gam.summary()"
      ],
      "execution_count": 412,
      "outputs": [
        {
          "output_type": "error",
          "ename": "NameError",
          "evalue": "ignored",
          "traceback": [
            "\u001b[0;31m---------------------------------------------------------------------------\u001b[0m",
            "\u001b[0;31mNameError\u001b[0m                                 Traceback (most recent call last)",
            "\u001b[0;32m<ipython-input-412-2bd82ef0e803>\u001b[0m in \u001b[0;36m<module>\u001b[0;34m()\u001b[0m\n\u001b[1;32m      1\u001b[0m \u001b[0mX\u001b[0m \u001b[0;34m=\u001b[0m \u001b[0mdf\u001b[0m\u001b[0;34m\u001b[0m\u001b[0;34m\u001b[0m\u001b[0m\n\u001b[1;32m      2\u001b[0m \u001b[0my\u001b[0m \u001b[0;34m=\u001b[0m \u001b[0mtarget_df\u001b[0m\u001b[0;34m\u001b[0m\u001b[0;34m\u001b[0m\u001b[0m\n\u001b[0;32m----> 3\u001b[0;31m \u001b[0mgam\u001b[0m \u001b[0;34m=\u001b[0m \u001b[0mLinearGAM\u001b[0m\u001b[0;34m(\u001b[0m\u001b[0mn_splines\u001b[0m\u001b[0;34m=\u001b[0m\u001b[0;36m10\u001b[0m\u001b[0;34m)\u001b[0m\u001b[0;34m.\u001b[0m\u001b[0mgridsearch\u001b[0m\u001b[0;34m(\u001b[0m\u001b[0mX\u001b[0m\u001b[0;34m,\u001b[0m \u001b[0my\u001b[0m\u001b[0;34m)\u001b[0m\u001b[0;34m\u001b[0m\u001b[0;34m\u001b[0m\u001b[0m\n\u001b[0m\u001b[1;32m      4\u001b[0m \u001b[0mgam\u001b[0m\u001b[0;34m.\u001b[0m\u001b[0msummary\u001b[0m\u001b[0;34m(\u001b[0m\u001b[0;34m)\u001b[0m\u001b[0;34m\u001b[0m\u001b[0;34m\u001b[0m\u001b[0m\n",
            "\u001b[0;31mNameError\u001b[0m: name 'LinearGAM' is not defined"
          ]
        }
      ]
    },
    {
      "cell_type": "code",
      "metadata": {
        "id": "EbOd3HXyjIi5",
        "outputId": "f65f1447-c4a0-4012-93ba-a4caba8154cf",
        "colab": {
          "base_uri": "https://localhost:8080/",
          "height": 244
        }
      },
      "source": [
        "XX = generate_X_grid(gam)\n",
        "plt.rcParams['figure.figsize'] = (28, 8)\n",
        "fig, axs = plt.subplots(1, len(boston.feature_names[0:6]))\n",
        "titles = boston.feature_names\n",
        "for i, ax in enumerate(axs):\n",
        "    pdep, confi = gam.partial_dependence(XX, feature=i+1, width=.95)\n",
        "    ax.plot(XX[:, i], pdep)\n",
        "    ax.plot(XX[:, i], confi[0][:, 0], c='grey', ls='--')\n",
        "    ax.plot(XX[:, i], confi[0][:, 1], c='grey', ls='--')\n",
        "    ax.set_title(titles[i],fontsize=26)\n",
        "plt.show()"
      ],
      "execution_count": 413,
      "outputs": [
        {
          "output_type": "error",
          "ename": "NameError",
          "evalue": "ignored",
          "traceback": [
            "\u001b[0;31m---------------------------------------------------------------------------\u001b[0m",
            "\u001b[0;31mNameError\u001b[0m                                 Traceback (most recent call last)",
            "\u001b[0;32m<ipython-input-413-4d71de83d8a3>\u001b[0m in \u001b[0;36m<module>\u001b[0;34m()\u001b[0m\n\u001b[0;32m----> 1\u001b[0;31m \u001b[0mXX\u001b[0m \u001b[0;34m=\u001b[0m \u001b[0mgenerate_X_grid\u001b[0m\u001b[0;34m(\u001b[0m\u001b[0mgam\u001b[0m\u001b[0;34m)\u001b[0m\u001b[0;34m\u001b[0m\u001b[0;34m\u001b[0m\u001b[0m\n\u001b[0m\u001b[1;32m      2\u001b[0m \u001b[0mplt\u001b[0m\u001b[0;34m.\u001b[0m\u001b[0mrcParams\u001b[0m\u001b[0;34m[\u001b[0m\u001b[0;34m'figure.figsize'\u001b[0m\u001b[0;34m]\u001b[0m \u001b[0;34m=\u001b[0m \u001b[0;34m(\u001b[0m\u001b[0;36m28\u001b[0m\u001b[0;34m,\u001b[0m \u001b[0;36m8\u001b[0m\u001b[0;34m)\u001b[0m\u001b[0;34m\u001b[0m\u001b[0;34m\u001b[0m\u001b[0m\n\u001b[1;32m      3\u001b[0m \u001b[0mfig\u001b[0m\u001b[0;34m,\u001b[0m \u001b[0maxs\u001b[0m \u001b[0;34m=\u001b[0m \u001b[0mplt\u001b[0m\u001b[0;34m.\u001b[0m\u001b[0msubplots\u001b[0m\u001b[0;34m(\u001b[0m\u001b[0;36m1\u001b[0m\u001b[0;34m,\u001b[0m \u001b[0mlen\u001b[0m\u001b[0;34m(\u001b[0m\u001b[0mboston\u001b[0m\u001b[0;34m.\u001b[0m\u001b[0mfeature_names\u001b[0m\u001b[0;34m[\u001b[0m\u001b[0;36m0\u001b[0m\u001b[0;34m:\u001b[0m\u001b[0;36m6\u001b[0m\u001b[0;34m]\u001b[0m\u001b[0;34m)\u001b[0m\u001b[0;34m)\u001b[0m\u001b[0;34m\u001b[0m\u001b[0;34m\u001b[0m\u001b[0m\n\u001b[1;32m      4\u001b[0m \u001b[0mtitles\u001b[0m \u001b[0;34m=\u001b[0m \u001b[0mboston\u001b[0m\u001b[0;34m.\u001b[0m\u001b[0mfeature_names\u001b[0m\u001b[0;34m\u001b[0m\u001b[0;34m\u001b[0m\u001b[0m\n\u001b[1;32m      5\u001b[0m \u001b[0;32mfor\u001b[0m \u001b[0mi\u001b[0m\u001b[0;34m,\u001b[0m \u001b[0max\u001b[0m \u001b[0;32min\u001b[0m \u001b[0menumerate\u001b[0m\u001b[0;34m(\u001b[0m\u001b[0maxs\u001b[0m\u001b[0;34m)\u001b[0m\u001b[0;34m:\u001b[0m\u001b[0;34m\u001b[0m\u001b[0;34m\u001b[0m\u001b[0m\n",
            "\u001b[0;31mNameError\u001b[0m: name 'generate_X_grid' is not defined"
          ]
        }
      ]
    },
    {
      "cell_type": "code",
      "metadata": {
        "id": "nm3ADuZ76zr7"
      },
      "source": [
        "# verificar os resultados"
      ],
      "execution_count": null,
      "outputs": []
    }
  ]
}