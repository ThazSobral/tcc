{
  "nbformat": 4,
  "nbformat_minor": 0,
  "metadata": {
    "colab": {
      "name": "entropy-and-doc2vec.ipynb",
      "provenance": [],
      "collapsed_sections": []
    },
    "kernelspec": {
      "display_name": "Python 3",
      "name": "python3"
    }
  },
  "cells": [
    {
      "cell_type": "markdown",
      "metadata": {
        "id": "9TW-uDYYA2gH"
      },
      "source": [
        "# Libraries"
      ]
    },
    {
      "cell_type": "code",
      "metadata": {
        "id": "JQCdPYK3_1X8"
      },
      "source": [
        "# dados\n",
        "from google.colab import drive\n",
        "import pandas as pd\n"
      ],
      "execution_count": null,
      "outputs": []
    },
    {
      "cell_type": "markdown",
      "metadata": {
        "id": "DhlwhvOsA7Zd"
      },
      "source": [
        "Montagem do Drive"
      ]
    },
    {
      "cell_type": "code",
      "metadata": {
        "id": "5LILR_-fBDSu"
      },
      "source": [
        "drive.mount('/content/drive', force_remount=True)"
      ],
      "execution_count": null,
      "outputs": []
    },
    {
      "cell_type": "markdown",
      "metadata": {
        "id": "hAMmIcZ11wWI"
      },
      "source": [
        "# Data"
      ]
    },
    {
      "cell_type": "code",
      "metadata": {
        "id": "pg-7HhzS11BA"
      },
      "source": [
        "df_entropy = pd.read_csv('/content/drive/My Drive/TCC_Thalles Sobral/2-dados/germany/use-data/tweets-with-entropy.csv')\n",
        "df_d2v = pd.read_csv('/content/drive/My Drive/TCC_Thalles Sobral/2-dados/germany/use-data/tweets-with-d2v.csv')"
      ],
      "execution_count": null,
      "outputs": []
    },
    {
      "cell_type": "code",
      "metadata": {
        "id": "flxJOd7QQooO"
      },
      "source": [
        "entropy_values = df_entropy.id_.values"
      ],
      "execution_count": null,
      "outputs": []
    },
    {
      "cell_type": "code",
      "metadata": {
        "id": "UGCSUE9kWeX8"
      },
      "source": [
        "df = df_d2v.loc[entropy_values]"
      ],
      "execution_count": null,
      "outputs": []
    },
    {
      "cell_type": "code",
      "metadata": {
        "id": "GXCk-M8V27MK"
      },
      "source": [
        "df['d2v_avaliation'] = df['d2v_avaliation'].replace('wrong', 0)"
      ],
      "execution_count": null,
      "outputs": []
    },
    {
      "cell_type": "code",
      "metadata": {
        "id": "eX7c7XaYT3no"
      },
      "source": [
        "# df['d2v_avaliation'] = df['d2v_avaliation'].replace('right', 1)"
      ],
      "execution_count": null,
      "outputs": []
    },
    {
      "cell_type": "code",
      "metadata": {
        "id": "T6h_mwv7UTlG"
      },
      "source": [
        "df['entropy'] = df_entropy['entropy'].values"
      ],
      "execution_count": null,
      "outputs": []
    },
    {
      "cell_type": "code",
      "metadata": {
        "id": "2IBJBO2fnYQy"
      },
      "source": [
        "# df.to_csv('tweets-with-entropy-and-d2v.csv')\n",
        "# !cp tweets-with-entropy-and-d2v.csv \"drive/My Drive/TCC_Thalles Sobral/2-dados/germany/use-data\""
      ],
      "execution_count": null,
      "outputs": []
    },
    {
      "cell_type": "code",
      "metadata": {
        "id": "amdaxnIVem7c"
      },
      "source": [
        "df.info()"
      ],
      "execution_count": null,
      "outputs": []
    },
    {
      "cell_type": "markdown",
      "metadata": {
        "id": "mRVQjnYjmlwy"
      },
      "source": [
        "# Work"
      ]
    },
    {
      "cell_type": "markdown",
      "metadata": {
        "id": "M1tzAQf1mumb"
      },
      "source": [
        "## Correlation"
      ]
    },
    {
      "cell_type": "code",
      "metadata": {
        "id": "9_LPfd4aRF_v"
      },
      "source": [
        "# df_corr = df\n",
        "# df_corr['d2v_avaliation'] = df_corr['d2v_avaliation'].replace('Avaliação negativa\\n', 0)\n",
        "# df_corr['d2v_avaliation'] = df_corr['d2v_avaliation'].replace('Avaliação positiva\\n', 1)"
      ],
      "execution_count": null,
      "outputs": []
    },
    {
      "cell_type": "code",
      "metadata": {
        "id": "QQCeLVPLDURg"
      },
      "source": [
        "# pd.crosstab(pd.cut(df['entropy'], bins=[.0, .1, .2, .3, .4, .5], include_lowest=True), df['d2v_avaliation'])"
      ],
      "execution_count": null,
      "outputs": []
    },
    {
      "cell_type": "code",
      "metadata": {
        "id": "CVMbuX3SJqzY",
        "cellView": "code"
      },
      "source": [
        "#@title Texto de título padrão\n",
        "# pd.crosstab(pd.cut(df['entropy'], bins=[.0, .1, .2, .3, .4, .5], include_lowest=True), df['relevance'])"
      ],
      "execution_count": null,
      "outputs": []
    },
    {
      "cell_type": "markdown",
      "metadata": {
        "id": "_NfK6WAIclj8"
      },
      "source": [
        "# Ajuste do trabalho"
      ]
    },
    {
      "cell_type": "code",
      "metadata": {
        "id": "mUx7ol7AjWTp"
      },
      "source": [
        "df_x = df.drop(columns=['created_at', 'X', 'Y', 'relevance', 'theme', 'flood', 'sev_08', 'sev_09', 'sev_10', 'distance_meters'])"
      ],
      "execution_count": null,
      "outputs": []
    },
    {
      "cell_type": "code",
      "metadata": {
        "id": "3ipz8LdskLYT"
      },
      "source": [
        "seleted_data = df_x.query('d2v_avaliation == 1')"
      ],
      "execution_count": null,
      "outputs": []
    },
    {
      "cell_type": "code",
      "metadata": {
        "id": "-HW-Fg6sKGAF"
      },
      "source": [
        "seleted_data = seleted_data.sort_values('entropy', ascending=True)"
      ],
      "execution_count": null,
      "outputs": []
    },
    {
      "cell_type": "code",
      "metadata": {
        "id": "nhEgTdViWdng"
      },
      "source": [
        "seleted_data.head(5)"
      ],
      "execution_count": null,
      "outputs": []
    },
    {
      "cell_type": "code",
      "metadata": {
        "id": "lE3Mmig5ZWZw"
      },
      "source": [
        "seleted_data.tail(5)"
      ],
      "execution_count": null,
      "outputs": []
    },
    {
      "cell_type": "code",
      "metadata": {
        "id": "6tfuJZR6dzIk"
      },
      "source": [
        "df_x.sort_values('entropy', ascending=True)"
      ],
      "execution_count": null,
      "outputs": []
    },
    {
      "cell_type": "code",
      "metadata": {
        "id": "4tgjx4HvhWwn"
      },
      "source": [
        "# pd.crosstab(pd.cut(df_x['entropy'], bins=[.0, .1, .2, .3, .4, .5], include_lowest=True), df_x['d2v_avaliation'])"
      ],
      "execution_count": null,
      "outputs": []
    },
    {
      "cell_type": "code",
      "metadata": {
        "id": "CyssYUMBlFrP"
      },
      "source": [
        "# df_x.to_csv('tweets-with-d2v-and-entropy.csv')\n",
        "# !cp tweets-with-d2v-and-entropy.csv \"drive/My Drive/TCC_Thalles Sobral/2-dados/germany/use-data/tweets-with-d2v-and-entropy.csv\""
      ],
      "execution_count": null,
      "outputs": []
    }
  ]
}