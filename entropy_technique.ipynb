{
  "nbformat": 4,
  "nbformat_minor": 0,
  "metadata": {
    "colab": {
      "name": "entropy-technique.ipynb",
      "provenance": [],
      "collapsed_sections": [],
      "authorship_tag": "ABX9TyNxDSwokwgT2UnvUEWTUc8A",
      "include_colab_link": true
    },
    "kernelspec": {
      "name": "python3",
      "display_name": "Python 3"
    },
    "accelerator": "TPU"
  },
  "cells": [
    {
      "cell_type": "markdown",
      "metadata": {
        "id": "view-in-github",
        "colab_type": "text"
      },
      "source": [
        "<a href=\"https://colab.research.google.com/github/ThazSobral/tcc/blob/main/entropy_technique.ipynb\" target=\"_parent\"><img src=\"https://colab.research.google.com/assets/colab-badge.svg\" alt=\"Open In Colab\"/></a>"
      ]
    },
    {
      "cell_type": "markdown",
      "metadata": {
        "id": "pm1HZk4j4BqL"
      },
      "source": [
        "# Técnica de entropia.\n",
        "\n",
        "by: Sidgley Camargo"
      ]
    },
    {
      "cell_type": "markdown",
      "metadata": {
        "id": "qSHeS_xX39BC"
      },
      "source": [
        "## Ajuste"
      ]
    },
    {
      "cell_type": "markdown",
      "metadata": {
        "id": "H8x_00uy4Mlp"
      },
      "source": [
        "Montagem do drive"
      ]
    },
    {
      "cell_type": "code",
      "metadata": {
        "id": "i0bO1_zj5BTZ",
        "outputId": "8439c94f-b499-44f6-d5d3-d7422ee02a04",
        "colab": {
          "base_uri": "https://localhost:8080/",
          "height": 34
        }
      },
      "source": [
        "from google.colab import drive\n",
        "drive.mount('/content/drive', force_remount=True)"
      ],
      "execution_count": null,
      "outputs": [
        {
          "output_type": "stream",
          "text": [
            "Mounted at /content/drive\n"
          ],
          "name": "stdout"
        }
      ]
    },
    {
      "cell_type": "markdown",
      "metadata": {
        "id": "ohoobecC4Zua"
      },
      "source": [
        "## Bibliotecas"
      ]
    },
    {
      "cell_type": "markdown",
      "metadata": {
        "id": "k3-LaDOL4cz1"
      },
      "source": [
        "Importação de bibliotecas"
      ]
    },
    {
      "cell_type": "code",
      "metadata": {
        "id": "11lrFWGC5Kdd"
      },
      "source": [
        "import pandas as pd"
      ],
      "execution_count": null,
      "outputs": []
    },
    {
      "cell_type": "markdown",
      "metadata": {
        "id": "J4OqPwqh4gFb"
      },
      "source": [
        "## Dataframe"
      ]
    },
    {
      "cell_type": "markdown",
      "metadata": {
        "id": "-f64AzsT4kEj"
      },
      "source": [
        "Importação dos dados"
      ]
    },
    {
      "cell_type": "code",
      "metadata": {
        "id": "4WmTdgMq5QPI"
      },
      "source": [
        "df = pd.read_csv('/content/drive/My Drive/TCC_Thalles Sobral/2-dados/germany/use-data/adjusted.csv')"
      ],
      "execution_count": null,
      "outputs": []
    },
    {
      "cell_type": "markdown",
      "metadata": {
        "id": "PI6ffcdM4mGG"
      },
      "source": [
        "Verificação dos dados"
      ]
    },
    {
      "cell_type": "code",
      "metadata": {
        "id": "FeMCgNVN5X5Z",
        "outputId": "69911526-94ab-4765-df99-03040246f226",
        "colab": {
          "base_uri": "https://localhost:8080/",
          "height": 306
        }
      },
      "source": [
        "df.head()"
      ],
      "execution_count": null,
      "outputs": [
        {
          "output_type": "execute_result",
          "data": {
            "text/html": [
              "<div>\n",
              "<style scoped>\n",
              "    .dataframe tbody tr th:only-of-type {\n",
              "        vertical-align: middle;\n",
              "    }\n",
              "\n",
              "    .dataframe tbody tr th {\n",
              "        vertical-align: top;\n",
              "    }\n",
              "\n",
              "    .dataframe thead th {\n",
              "        text-align: right;\n",
              "    }\n",
              "</style>\n",
              "<table border=\"1\" class=\"dataframe\">\n",
              "  <thead>\n",
              "    <tr style=\"text-align: right;\">\n",
              "      <th></th>\n",
              "      <th>Unnamed: 0</th>\n",
              "      <th>hashtags</th>\n",
              "      <th>tweet</th>\n",
              "      <th>created_at</th>\n",
              "      <th>X</th>\n",
              "      <th>Y</th>\n",
              "      <th>distance [m]</th>\n",
              "      <th>sev08</th>\n",
              "      <th>sev09</th>\n",
              "      <th>sev10</th>\n",
              "      <th>flood</th>\n",
              "      <th>relevance</th>\n",
              "      <th>theme</th>\n",
              "    </tr>\n",
              "  </thead>\n",
              "  <tbody>\n",
              "    <tr>\n",
              "      <th>0</th>\n",
              "      <td>0</td>\n",
              "      <td>NaN</td>\n",
              "      <td>irgendjemand hat mir gestern gesagt das er mic...</td>\n",
              "      <td>2013-06-08 13:33:07+02</td>\n",
              "      <td>429,79</td>\n",
              "      <td>5,915,818</td>\n",
              "      <td>122596</td>\n",
              "      <td>-24</td>\n",
              "      <td>-67</td>\n",
              "      <td>-127</td>\n",
              "      <td>0</td>\n",
              "      <td>0</td>\n",
              "      <td>0</td>\n",
              "    </tr>\n",
              "    <tr>\n",
              "      <th>1</th>\n",
              "      <td>1</td>\n",
              "      <td>NaN</td>\n",
              "      <td>@ho1ger das gleiche bild übrigens im office, w...</td>\n",
              "      <td>2013-06-08 13:33:09+02</td>\n",
              "      <td>708,059</td>\n",
              "      <td>5,342,364</td>\n",
              "      <td>66842</td>\n",
              "      <td>1</td>\n",
              "      <td>-79</td>\n",
              "      <td>-114</td>\n",
              "      <td>0</td>\n",
              "      <td>0</td>\n",
              "      <td>0</td>\n",
              "    </tr>\n",
              "    <tr>\n",
              "      <th>2</th>\n",
              "      <td>2</td>\n",
              "      <td>NaN</td>\n",
              "      <td>@sensatzionell bin selbst halber berliner. wen...</td>\n",
              "      <td>2013-06-08 13:33:10+02</td>\n",
              "      <td>797,734</td>\n",
              "      <td>5,829,275</td>\n",
              "      <td>67270</td>\n",
              "      <td>-8</td>\n",
              "      <td>-10</td>\n",
              "      <td>-20</td>\n",
              "      <td>0</td>\n",
              "      <td>0</td>\n",
              "      <td>0</td>\n",
              "    </tr>\n",
              "    <tr>\n",
              "      <th>3</th>\n",
              "      <td>3</td>\n",
              "      <td>NaN</td>\n",
              "      <td>tired bro??!!! djeeerome @ ice 672 http://t.co...</td>\n",
              "      <td>2013-06-08 13:33:14+02</td>\n",
              "      <td>522,889</td>\n",
              "      <td>5,881,956</td>\n",
              "      <td>33741</td>\n",
              "      <td>-24</td>\n",
              "      <td>-67</td>\n",
              "      <td>-127</td>\n",
              "      <td>0</td>\n",
              "      <td>0</td>\n",
              "      <td>0</td>\n",
              "    </tr>\n",
              "    <tr>\n",
              "      <th>4</th>\n",
              "      <td>4</td>\n",
              "      <td>NaN</td>\n",
              "      <td>und tschüss! (@ köln bonn airport (cgn) w/ 8 o...</td>\n",
              "      <td>2013-06-08 13:33:14+02</td>\n",
              "      <td>367,861</td>\n",
              "      <td>5,638,052</td>\n",
              "      <td>71798</td>\n",
              "      <td>-54</td>\n",
              "      <td>-105</td>\n",
              "      <td>-161</td>\n",
              "      <td>0</td>\n",
              "      <td>0</td>\n",
              "      <td>0</td>\n",
              "    </tr>\n",
              "  </tbody>\n",
              "</table>\n",
              "</div>"
            ],
            "text/plain": [
              "   Unnamed: 0 hashtags  ... relevance theme\n",
              "0           0      NaN  ...         0     0\n",
              "1           1      NaN  ...         0     0\n",
              "2           2      NaN  ...         0     0\n",
              "3           3      NaN  ...         0     0\n",
              "4           4      NaN  ...         0     0\n",
              "\n",
              "[5 rows x 13 columns]"
            ]
          },
          "metadata": {
            "tags": []
          },
          "execution_count": 9
        }
      ]
    },
    {
      "cell_type": "markdown",
      "metadata": {
        "id": "wSPTG0uW4n7R"
      },
      "source": [
        "## Pré-processamento"
      ]
    },
    {
      "cell_type": "code",
      "metadata": {
        "id": "NZWU5JE0zhZd",
        "outputId": "efdad15e-1467-439b-a03f-4975600eb18e",
        "colab": {
          "base_uri": "https://localhost:8080/",
          "height": 255
        }
      },
      "source": [
        "df.count"
      ],
      "execution_count": null,
      "outputs": [
        {
          "output_type": "execute_result",
          "data": {
            "text/plain": [
              "<bound method DataFrame.count of        Unnamed: 0 hashtags  ... relevance theme\n",
              "0               0      NaN  ...         0     0\n",
              "1               1      NaN  ...         0     0\n",
              "2               2      NaN  ...         0     0\n",
              "3               3      NaN  ...         0     0\n",
              "4               4      NaN  ...         0     0\n",
              "...           ...      ...  ...       ...   ...\n",
              "60519       60519     gosh  ...         0     0\n",
              "60520       60520      NaN  ...         0     0\n",
              "60521       60521      NaN  ...         0     0\n",
              "60522       60522      NaN  ...         0     0\n",
              "60523       60523      NaN  ...         0     0\n",
              "\n",
              "[60524 rows x 13 columns]>"
            ]
          },
          "metadata": {
            "tags": []
          },
          "execution_count": 21
        }
      ]
    },
    {
      "cell_type": "markdown",
      "metadata": {
        "id": "UEnf-DAu5dmq"
      },
      "source": [
        "Definição de key-words"
      ]
    },
    {
      "cell_type": "markdown",
      "metadata": {
        "id": "9Zl3EOxz9K3K"
      },
      "source": [
        "Key-words (inglês)"
      ]
    },
    {
      "cell_type": "code",
      "metadata": {
        "id": "iOLAA8yw9Pl4"
      },
      "source": [
        "key_words_english = ['flood',\n",
        "             'flooded',\n",
        "             'it’s flooding',\n",
        "             'to flood',\n",
        "             'rain',\n",
        "             'had been rained',\n",
        "             'rainy',\n",
        "             'heavy rain',\n",
        "             'drizzle',\n",
        "             'it’s raining',\n",
        "             'storm',\n",
        "             'storms'\n",
        "            ]"
      ],
      "execution_count": null,
      "outputs": []
    },
    {
      "cell_type": "markdown",
      "metadata": {
        "id": "I5EdAwt69TtP"
      },
      "source": [
        "Key-words (alemão)"
      ]
    },
    {
      "cell_type": "code",
      "metadata": {
        "id": "4VIpQI5p9WsG"
      },
      "source": [
        "key_words_germany = ['hochwasser',\n",
        "             'duden',\n",
        "             'flut',\n",
        "             'überschwemmung',\n",
        "             'deich',\n",
        "             'sandsack'\n",
        "            ]"
      ],
      "execution_count": null,
      "outputs": []
    },
    {
      "cell_type": "markdown",
      "metadata": {
        "id": "P44GH1S09ZcD"
      },
      "source": [
        "join key-words"
      ]
    },
    {
      "cell_type": "code",
      "metadata": {
        "id": "4_zlIfsq9dqF"
      },
      "source": [
        "key_words = key_words_english + key_words_germany"
      ],
      "execution_count": null,
      "outputs": []
    },
    {
      "cell_type": "markdown",
      "metadata": {
        "id": "Nv-A-Ipm5r0p"
      },
      "source": [
        "Filtro por palavras-chave"
      ]
    },
    {
      "cell_type": "code",
      "metadata": {
        "id": "N_ghU06M9ky4"
      },
      "source": [
        "def select_tweets_with_key_words (df):\n",
        "  # retorna os tweets que contem as palavras-chave\n",
        "  return df[df.tweet.str.contains('|'.join(key_words), na=False)]"
      ],
      "execution_count": null,
      "outputs": []
    },
    {
      "cell_type": "markdown",
      "metadata": {
        "id": "Re1Zjnzn5w09"
      },
      "source": [
        "Verificação de quantidade tweets contendo palavras-chave"
      ]
    },
    {
      "cell_type": "code",
      "metadata": {
        "id": "ILK3Lcwr9nRH",
        "outputId": "1066a74f-478b-489a-e431-f3bf2299ad12",
        "colab": {
          "base_uri": "https://localhost:8080/",
          "height": 34
        }
      },
      "source": [
        "tweets_with_key_words = select_tweets_with_key_words(df)\n",
        "len(tweets_with_key_words)"
      ],
      "execution_count": null,
      "outputs": [
        {
          "output_type": "execute_result",
          "data": {
            "text/plain": [
              "773"
            ]
          },
          "metadata": {
            "tags": []
          },
          "execution_count": 15
        }
      ]
    },
    {
      "cell_type": "markdown",
      "metadata": {
        "id": "O1XjJej-4tW-"
      },
      "source": [
        "## Aplicação da técnica"
      ]
    },
    {
      "cell_type": "markdown",
      "metadata": {
        "id": "WSVyrtdm576I"
      },
      "source": [
        "Calcular frequência absoluta"
      ]
    },
    {
      "cell_type": "code",
      "metadata": {
        "id": "9N2f0Tvl9qm-"
      },
      "source": [
        "def calcule_absolute_frequency (tweets):\n",
        "  '''\n",
        "  define um dicionário para registrar as frequências absolutas\n",
        "  onde criamos um dicionário global do dataframe e registramos\n",
        "  a frequência das palavras-chave \n",
        "  '''\n",
        "  absolute_frequency = {}\n",
        "  \n",
        "  for word in key_words:\n",
        "    sum_word = 0\n",
        "    for tweet in tweets:\n",
        "      if (tweet.count(word) > 0): \n",
        "        sum_word += 1\n",
        "    absolute_frequency[word] = sum_word\n",
        "  \n",
        "  return absolute_frequency"
      ],
      "execution_count": null,
      "outputs": []
    },
    {
      "cell_type": "markdown",
      "metadata": {
        "id": "7pgb7fPY5-kQ"
      },
      "source": [
        "Calcular frequência relativa"
      ]
    },
    {
      "cell_type": "code",
      "metadata": {
        "id": "z9AEoG6w9tMW"
      },
      "source": [
        "def calcule_relative_frequency (tweet, word, absolute_frequency):\n",
        "  '''\n",
        "  a frequência relativa é a quantidade de aparições de palavras-chave dividio\n",
        "  pela frequência absoluta dessa palavra-chave\n",
        "  '''\n",
        "  return tweet.count(word)/absolute_frequency"
      ],
      "execution_count": null,
      "outputs": []
    },
    {
      "cell_type": "markdown",
      "metadata": {
        "id": "7KYAXNqJ6RSy"
      },
      "source": [
        "Calcular entropia"
      ]
    },
    {
      "cell_type": "code",
      "metadata": {
        "id": "6y8EHqsQ9wQb"
      },
      "source": [
        "import math\n",
        "\n",
        "def calcule_tweets_entropy (data):\n",
        "  # definimos um dicionári para a entropia dos tweets\n",
        "  entropies = {}\n",
        "  # realizamos a construção do dicionário de frequência absoluta das palavras chave no tweet\n",
        "  absolute_frequency = calcule_absolute_frequency(data.tweet)\n",
        "\n",
        "  for id, tweet in enumerate(data.tweet):\n",
        "    frequences_array = []\n",
        "    for word in key_words:\n",
        "      # se houver pelo menos uma palavra-chave no tweet\n",
        "      if (tweet.count(word) > 0):\n",
        "        # calcule a frequencia relativa dela no tweet\n",
        "        relative_frequency = calcule_relative_frequency(tweet, word, absolute_frequency[word])\n",
        "        # adiciona o valor da frequência relativa na lista\n",
        "        frequences_array.append(relative_frequency * math.log2(1/relative_frequency))\n",
        "    # adiciona no dicionário os valores das entropias vinculados a seu respectivo id\n",
        "    entropies[str(data.iloc[id, 0])] = sum(frequences_array)\n",
        "  return entropies "
      ],
      "execution_count": null,
      "outputs": []
    },
    {
      "cell_type": "markdown",
      "metadata": {
        "id": "Y8h5MSPT6VsX"
      },
      "source": [
        "**Main**"
      ]
    },
    {
      "cell_type": "code",
      "metadata": {
        "id": "bvNKd3Rc9zWp"
      },
      "source": [
        "result = calcule_tweets_entropy(tweets_with_key_words)"
      ],
      "execution_count": null,
      "outputs": []
    },
    {
      "cell_type": "markdown",
      "metadata": {
        "id": "HzK_ENS14wEu"
      },
      "source": [
        "## Válidação"
      ]
    },
    {
      "cell_type": "markdown",
      "metadata": {
        "id": "AtHOSh5JQGW7"
      },
      "source": [
        "quantos é maior que 0.5? E quais as situações desses dados?"
      ]
    },
    {
      "cell_type": "code",
      "metadata": {
        "id": "iKjp_1lxQF0S",
        "outputId": "b08a1245-7003-4596-8688-605b3ce098db",
        "colab": {
          "base_uri": "https://localhost:8080/",
          "height": 255
        }
      },
      "source": [
        "for item in result:\n",
        "  if result.get(item) > 0.5:\n",
        "    print(f'{item}: {result[item]}')\n",
        "    print(df.iloc[int(item)].tweet, df.iloc[int(item)].flood)"
      ],
      "execution_count": null,
      "outputs": [
        {
          "output_type": "stream",
          "text": [
            "9563: 0.6761069445245729\n",
            "the river elbe flooded the town of desden before we arrived. this town and prague were under state of… http://t.co/ig2xhfwtsx 1\n",
            "19731: 0.5526983718038826\n",
            "heavy rains at fra as colleagues took off to sfo for #netapp foresight 2013, myself headed to bos for @redhatsummit 0\n",
            "19801: 0.8431485898729221\n",
            "waking up in the morning to heavy rain again... #rain #rainyweather #heavyrain #water #waterfalling… http://t.co/9tfizsqooh 0\n",
            "31303: 0.5526983718038826\n",
            "just changed the car due heavy rain and terrible weather audi a8l w12 http://t.co/qh6xzupbe2 0\n",
            "35741: 0.6761069445245729\n",
            "@josephmorgan need your help:/ our house was flooded http://t.co/whesrsgoe7 1\n",
            "53967: 0.6761069445245729\n",
            "germany is half flooded #naturaldisaster 1\n",
            "59401: 0.6761069445245729\n",
            "@josephmorgan need your help:/ our house was flooded http://t.co/0qrwxofdhi 1\n"
          ],
          "name": "stdout"
        }
      ]
    },
    {
      "cell_type": "markdown",
      "metadata": {
        "id": "jKE7xRIWLsFo"
      },
      "source": [
        "Analisando correlação entre a distância geográfica da área de inundação e entropia"
      ]
    },
    {
      "cell_type": "markdown",
      "metadata": {
        "id": "5xdneDzqL1m0"
      },
      "source": [
        "Para calcular essa correlação utilizamos o coeficiente de correlação de Person"
      ]
    },
    {
      "cell_type": "code",
      "metadata": {
        "id": "TZV0q2GRbF1B"
      },
      "source": [
        ""
      ],
      "execution_count": null,
      "outputs": []
    }
  ]
}